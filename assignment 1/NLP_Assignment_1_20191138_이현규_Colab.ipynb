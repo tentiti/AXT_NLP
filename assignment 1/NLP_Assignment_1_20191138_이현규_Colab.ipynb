{
  "cells": [
    {
      "cell_type": "markdown",
      "metadata": {
        "id": "145148bd"
      },
      "source": [
        "# Assignment 1\n",
        "\n",
        "In this assignment, you will explore about word vectors.\n",
        "\n",
        "- Submision: A report in ``pdf``, your completed notebook file in ``ipynb``, and training data in ``txt``\n",
        "    - The assignment will be evalulated mainly with report. So please include every detail you want to present in your report, including figures.\n",
        "    - Report: Free format. You can copy and paste part of your code for some problems.\n",
        "      - Report has to be written in English\n",
        "    - ipynb: Save your notebook (with output of each cell if possible) as ipynb and submit it\n",
        "- Evaluation criteria\n",
        "    - How interesting and original are the presented examples\n",
        "    - How well you describe the reason of success or failure of your examples by considering how Word2Vec is trained"
      ],
      "id": "145148bd"
    },
    {
      "cell_type": "markdown",
      "metadata": {
        "id": "97ee4fd6"
      },
      "source": [
        "## 0. Setup\n",
        "- Check ``gensim`` library is installed\n",
        "  - if not, you can install using ``!pip install gensim``\n",
        "- List the downloadable vectors from ``gensim``\n"
      ],
      "id": "97ee4fd6"
    },
    {
      "cell_type": "code",
      "execution_count": 1,
      "metadata": {
        "id": "db0bbbcb"
      },
      "outputs": [],
      "source": [
        "import gensim\n",
        "import numpy as np\n",
        "import pprint as pp"
      ],
      "id": "db0bbbcb"
    },
    {
      "cell_type": "code",
      "execution_count": 2,
      "metadata": {
        "id": "9bbeb288",
        "colab": {
          "base_uri": "https://localhost:8080/"
        },
        "outputId": "8c19b9b5-9b9a-41cf-a327-810b425e2449"
      },
      "outputs": [
        {
          "output_type": "execute_result",
          "data": {
            "text/plain": [
              "['fasttext-wiki-news-subwords-300',\n",
              " 'conceptnet-numberbatch-17-06-300',\n",
              " 'word2vec-ruscorpora-300',\n",
              " 'word2vec-google-news-300',\n",
              " 'glove-wiki-gigaword-50',\n",
              " 'glove-wiki-gigaword-100',\n",
              " 'glove-wiki-gigaword-200',\n",
              " 'glove-wiki-gigaword-300',\n",
              " 'glove-twitter-25',\n",
              " 'glove-twitter-50',\n",
              " 'glove-twitter-100',\n",
              " 'glove-twitter-200',\n",
              " '__testing_word2vec-matrix-synopsis']"
            ]
          },
          "metadata": {},
          "execution_count": 2
        }
      ],
      "source": [
        "import gensim.downloader\n",
        "list(gensim.downloader.info()['models'].keys())"
      ],
      "id": "9bbeb288"
    },
    {
      "cell_type": "markdown",
      "metadata": {
        "id": "aeae1e1d"
      },
      "source": [
        "- Among the Word2Vec model codes above, select one model of your choice among ``glove-wiki-gigaword`` or ``glove-twitter``\n",
        "    - numbers at the last represents the number of dimension of each Word2Vec Model\n",
        "        - e.g. ``glove-twitter-200`` was trained on twitter dataset while embedding each word into 200-dim vector\n",
        "        - e.g. ``glove-wiki-gigaword-300`` was trained on wikipedia dataset while embedding each word into 300-dim vector\n",
        "- Download the selected model and load it as a ``model``"
      ],
      "id": "aeae1e1d"
    },
    {
      "cell_type": "code",
      "execution_count": 3,
      "metadata": {
        "id": "a0ace8aa"
      },
      "outputs": [],
      "source": [
        "your_model_code = 'glove-twitter-200' # select among the model code aboves\n",
        "model = gensim.downloader.load(your_model_code) # download and load the model. It can take some time"
      ],
      "id": "a0ace8aa"
    },
    {
      "cell_type": "code",
      "execution_count": 4,
      "metadata": {
        "id": "41125ee7",
        "scrolled": true,
        "colab": {
          "base_uri": "https://localhost:8080/"
        },
        "outputId": "a1ed2364-affb-4fdc-8f1e-4946b596aca7"
      },
      "outputs": [
        {
          "output_type": "execute_result",
          "data": {
            "text/plain": [
              "array([ 1.4557e-01, -4.7214e-01,  4.5594e-02, -1.1133e-01, -4.4561e-01,\n",
              "        1.6502e-02,  4.6724e-01, -1.8545e-01,  4.1239e-01, -6.7263e-01,\n",
              "       -4.8698e-01,  7.2586e-01, -2.2125e-01, -2.0023e-01,  1.7790e-01,\n",
              "        6.7062e-01,  4.1636e-01,  6.5783e-02,  4.8212e-01, -3.5627e-02,\n",
              "       -4.7048e-01,  7.7485e-02, -2.8296e-01, -4.9671e-01,  3.3700e-01,\n",
              "        7.1805e-01,  2.2005e-01,  1.2718e-01,  6.7862e-02,  4.0265e-01,\n",
              "       -1.8210e-02,  7.8379e-01, -5.2571e-01, -3.9359e-01, -5.6827e-01,\n",
              "       -1.5662e-01, -8.4099e-02, -2.0918e-01, -6.6157e-02,  2.5114e-01,\n",
              "       -4.0015e-01,  1.5930e-01,  1.7887e-01, -3.2110e-01,  9.9510e-02,\n",
              "        5.2923e-01,  4.8289e-01,  1.4505e-01,  4.4368e-01,  1.7365e-01,\n",
              "        3.6350e-01, -5.1496e-01, -1.2889e-01, -1.9713e-01,  1.8096e-01,\n",
              "       -1.1301e-02,  8.4409e-01,  9.8606e-01,  8.3535e-01,  3.5410e-01,\n",
              "       -2.3395e-01,  3.5510e-01,  4.1899e-01, -5.4763e-02,  2.2902e-01,\n",
              "       -1.9593e-01, -5.7777e-01,  2.9728e-01,  3.3972e-01, -3.1119e-01,\n",
              "       -3.2498e-01, -4.2557e-01, -7.0302e-01, -7.2515e-01, -2.9349e-01,\n",
              "        4.9964e-01, -3.2889e-01,  2.4359e-01,  1.3243e-01,  3.1164e-01,\n",
              "        1.2156e+00,  3.1241e-01, -2.3794e-01,  3.8422e-01, -3.2100e-01,\n",
              "       -2.8756e-01, -2.0047e-01,  3.4454e-01, -6.4929e-01,  2.8021e-01,\n",
              "        6.0203e-02,  5.3618e-02, -1.3341e-01,  2.4510e-01,  1.8639e-01,\n",
              "       -1.6346e-03, -6.6883e-02,  7.7845e-02, -8.5217e-02,  7.5257e-01,\n",
              "        7.6264e-01, -5.3318e-02,  7.1056e-02,  3.0552e-01, -4.3411e-01,\n",
              "       -1.9361e-01, -1.0493e-01, -5.3732e-01, -2.3900e-01, -4.7298e-01,\n",
              "       -2.9825e-02, -2.0206e-01, -4.8945e-01, -1.3616e-01,  4.9622e-01,\n",
              "        2.0743e-01, -7.7396e-02, -3.4304e-01,  6.2387e-03, -6.5902e-03,\n",
              "       -2.4729e-01, -1.3859e-02, -7.9919e-02,  4.3452e-01,  2.3415e-01,\n",
              "        1.7995e-01,  1.3236e-01, -2.2717e-01, -5.5278e-01,  4.2005e-02,\n",
              "        2.1937e-01,  4.2042e-01,  4.3639e-01, -5.8305e-01, -1.1800e-01,\n",
              "        1.5379e-01, -2.9596e-01, -4.6251e-01,  5.2593e-01,  1.0471e-01,\n",
              "       -1.9973e-01, -2.8228e-02,  4.9974e-01, -5.8053e-01, -5.1416e-01,\n",
              "        2.1325e-01, -3.8394e-01, -5.9821e-04,  1.6525e-01, -5.5993e-02,\n",
              "       -4.0080e-01, -5.4830e-02, -3.8842e+00, -2.2136e-02, -4.6989e-01,\n",
              "        2.3502e-01,  8.1298e-02,  8.3091e-01,  4.7251e-01,  7.4057e-02,\n",
              "        1.5737e-01,  6.5809e-02, -2.6756e-01,  1.9470e-01, -6.3597e-01,\n",
              "       -5.9914e-01, -2.1369e-01,  1.1718e-02, -2.5464e-01, -1.9629e-01,\n",
              "        1.8017e-01,  5.9031e-01,  6.2176e-03,  5.1122e-01,  3.6601e-01,\n",
              "       -2.7381e-01, -1.1342e-01,  2.1195e-01,  4.3099e-01, -4.3837e-01,\n",
              "        1.2842e-01,  3.9312e-01, -1.9492e-01,  5.6414e-02,  5.4343e-01,\n",
              "        1.3678e-01, -7.1087e-01,  3.8758e-01, -7.8956e-03, -3.2383e-01,\n",
              "        6.4193e-02, -2.2329e-01,  7.1366e-02, -3.0966e-01, -4.6142e-01,\n",
              "        2.9545e-01, -4.9186e-01,  2.4053e-01, -4.6081e-01, -7.7296e-02],\n",
              "      dtype=float32)"
            ]
          },
          "metadata": {},
          "execution_count": 4
        }
      ],
      "source": [
        "# test the model output\n",
        "model['cat']"
      ],
      "id": "41125ee7"
    },
    {
      "cell_type": "markdown",
      "metadata": {
        "id": "1c29f5df"
      },
      "source": [
        "## Problem 1. Simple Mathematics with Word2Vec (10 pts)\n",
        "- In this problem, you have to complete the given functions ``word_analogy_with_vector`` and ``get_cosine_similarity``\n",
        "  - To get the exactly same result with ``model.most_similar()``, you have to normalize each vector before doring arithmetic.\n",
        "  - Using L2 norm (sqrt of sum of square of every item in the vector)\n",
        "  - The result will also naturally include the positive query words itsef.\n",
        "- In your report, **please include your code for these functions**\n"
      ],
      "id": "1c29f5df"
    },
    {
      "cell_type": "code",
      "execution_count": 5,
      "metadata": {
        "id": "472d0add",
        "colab": {
          "base_uri": "https://localhost:8080/"
        },
        "outputId": "4d5b1027-7307-4871-9577-4c0022963948"
      },
      "outputs": [
        {
          "output_type": "stream",
          "name": "stdout",
          "text": [
            "[('queen', 0.6820898056030273), ('prince', 0.5875527262687683), ('princess', 0.5620489120483398), ('royal', 0.5522865056991577), ('mother', 0.5362966656684875), ('elizabeth', 0.5142496228218079), ('lady', 0.5010437369346619), ('lion', 0.4998807907104492), ('women', 0.4985955059528351), ('’s', 0.4935073256492615)]\n",
            "result vector is  [-0.10950299  0.01094289  0.01424381  0.02372333 -0.04006428]\n"
          ]
        },
        {
          "output_type": "execute_result",
          "data": {
            "text/plain": [
              "[('king', 0.739342212677002),\n",
              " ('queen', 0.6820898056030273),\n",
              " ('woman', 0.626846432685852),\n",
              " ('prince', 0.5875527262687683),\n",
              " ('princess', 0.5620488524436951),\n",
              " ('royal', 0.5522865056991577),\n",
              " ('mother', 0.5362966060638428),\n",
              " ('elizabeth', 0.5142496228218079),\n",
              " ('lady', 0.5010437369346619),\n",
              " ('lion', 0.49988076090812683)]"
            ]
          },
          "metadata": {},
          "execution_count": 5
        }
      ],
      "source": [
        "def word_analogy_with_vector(model, x_1, x_2, y_1):\n",
        "  '''\n",
        "  This function takes a gensim Word2Vec model and outputs a vector to find y2 that corresponds to x_1 → x_2 == y_1 → y_2\n",
        "  e.g. x_1 (man) → x_2 (king) == y_1 (woman) → y_2(?)\n",
        "\n",
        "  inputs\n",
        "  model (gensim.models.keyedvectors.KeyedVectors): Word2Vec model in KeyedVectors in gensim library\n",
        "  x_1, x_2, y_1 (str): Words in the model's vocabulary.\n",
        "\n",
        "  output (np.ndarray): A vector in np.ndarray, which can be used to find proper y_2 for given (model, x_1, x_2, y_1)\n",
        "  '''\n",
        "\n",
        "  # Write your code from here\n",
        "  # so basically, we have to find a vector y_2, which is similar to\n",
        "  # y_1 - x_2 + x_1\n",
        "\n",
        "  #we declare three model array to do arithmetic operations\n",
        "  x_1_model = model[x_1]\n",
        "  x_2_model = model[x_2]\n",
        "  y_1_model = model[y_1]\n",
        "\n",
        "  # before doing this arithmetic, we have to L2 normalize vectors that correspond to x_1, x_2, y_1\n",
        "  x_1_model = x_1_model / np.linalg.norm(x_1_model)\n",
        "  x_2_model = x_2_model / np.linalg.norm(x_2_model)\n",
        "  y_1_model = y_1_model / np.linalg.norm(y_1_model)\n",
        "\n",
        "  #then, we can simply return the code after arithmetic operation.\n",
        "  resVec = y_1_model - x_1_model + x_2_model\n",
        "  return resVec\n",
        "\n",
        "# test whether the function works well\n",
        "result_vector = word_analogy_with_vector(model, 'man', 'king', 'woman')\n",
        "print(model.most_similar(positive=['woman', 'king'], negative=['man'], topn=10))\n",
        "print('result vector is ', result_vector[:5])\n",
        "assert isinstance(result_vector, np.ndarray), \"Output of the function has to be np.ndarray\"\n",
        "# model.most_similar(result_vector, topn=13)\n",
        "model.most_similar(result_vector)"
      ],
      "id": "472d0add"
    },
    {
      "cell_type": "code",
      "execution_count": 6,
      "metadata": {
        "id": "41604769",
        "colab": {
          "base_uri": "https://localhost:8080/"
        },
        "outputId": "69f4e15f-d9c8-482e-a4f1-49aad74c931d"
      },
      "outputs": [
        {
          "output_type": "stream",
          "name": "stdout",
          "text": [
            "0.7983508\n",
            "gensim library result: 0.7983508\n"
          ]
        }
      ],
      "source": [
        "def get_cosine_similarity(model, x, y):\n",
        "  '''\n",
        "  This function returns cosine similarity of x,y\n",
        "\n",
        "  inputs\n",
        "  model (gensim.models.keyedvectors.KeyedVectors): Word2Vec model in KeyedVectors in gensim library\n",
        "  x, y (str): Words in the model's vocabulary.\n",
        "\n",
        "  output\n",
        "  similarity (float): cosine similarity between x's vector and y's vector\n",
        "  '''\n",
        "  # Write your codes from here\n",
        "\n",
        "  #cosine similarity is dot product of two vectors divided by l2 norm of each vector multiplied.\n",
        "  x_vector = model[x]\n",
        "  y_vector = model[y]\n",
        "\n",
        "  #  return np.dot(x_vector, y_vector)/(np.sqrt(np.sum(x_vector**2))*np.sqrt(np.sum(y_vector**2)))\n",
        "  # this calculation at denominator can be simplified\n",
        "  return np.dot(x_vector, y_vector)/(np.linalg.norm(x_vector)*np.linalg.norm(y_vector))\n",
        "# test the output with your own choice\n",
        "word_a = 'good'\n",
        "word_b = 'bad'\n",
        "\n",
        "# these two should be identical\n",
        "similarity = get_cosine_similarity(model, word_a, word_b)\n",
        "print(similarity)\n",
        "assert -1 <= similarity <= 1, \"Similarity has to be between -1 and 1\"\n",
        "\n",
        "print('gensim library result:', model.similarity(word_a, word_b))"
      ],
      "id": "41604769"
    },
    {
      "cell_type": "markdown",
      "metadata": {
        "id": "73a673d6"
      },
      "source": [
        "## Problem 2. Find Most Similar Words\n",
        "- One of the most simple and typical use case of Word2Vec is finding a word based on similarity.\n",
        "- You can list the most similar words for a given query word by using ``model.most_similar(your_word)``\n",
        "    - Usually, every word in Word2Vec model is in lowercase\n",
        "- **In your report**, present more than **5** interesting examples and explain **why it was interesting for you**\n",
        "    - Try to explain why those words are regarded similar in Word2Vec, considering how it was trained\n",
        "   "
      ],
      "id": "73a673d6"
    },
    {
      "cell_type": "code",
      "execution_count": 7,
      "metadata": {
        "id": "ccd292a8",
        "colab": {
          "base_uri": "https://localhost:8080/"
        },
        "outputId": "72245d59-1657-41f0-dc7b-f21dc8cbb62a"
      },
      "outputs": [
        {
          "output_type": "stream",
          "name": "stdout",
          "text": [
            "[('laura', 0.6634964942932129),\n",
            " ('nadia', 0.6587172150611877),\n",
            " ('sara', 0.6520454287528992),\n",
            " ('lina', 0.6286117434501648),\n",
            " ('sarah', 0.6259469985961914),\n",
            " ('maria', 0.6209515333175659),\n",
            " ('daniela', 0.6194291710853577),\n",
            " ('tania', 0.6157795190811157),\n",
            " ('sabrina', 0.6114152073860168),\n",
            " ('andrea', 0.6097177267074585)]\n",
            "[('lady', 0.7784555554389954),\n",
            " ('katy', 0.76102215051651),\n",
            " ('madonna', 0.7485153079032898),\n",
            " ('rihanna', 0.7212374806404114),\n",
            " ('miley', 0.7206928133964539),\n",
            " ('swift', 0.7128058671951294),\n",
            " ('selena', 0.7001330256462097),\n",
            " ('taylor', 0.6920899152755737),\n",
            " ('perry', 0.6823055148124695),\n",
            " ('britney', 0.6755322217941284)]\n",
            "[('movies', 0.6666310429573059),\n",
            " ('hbo', 0.6364792585372925),\n",
            " ('episodes', 0.6205011606216431),\n",
            " ('movie', 0.5996598601341248),\n",
            " ('watching', 0.5983713865280151),\n",
            " ('watch', 0.5762320160865784),\n",
            " ('channel', 0.5635140538215637),\n",
            " ('watched', 0.5465399622917175),\n",
            " ('dexter', 0.545410692691803),\n",
            " ('thrones', 0.5439996123313904)]\n",
            "[('malware', 0.642665445804596),\n",
            " ('hepatitis', 0.5642246603965759),\n",
            " ('flu', 0.5599080920219421),\n",
            " ('hacker', 0.5506444573402405),\n",
            " ('aids', 0.544348418712616),\n",
            " ('anti', 0.5252096056938171),\n",
            " ('hiv', 0.5232646465301514),\n",
            " ('influenza', 0.5220769643783569),\n",
            " ('bug', 0.49769023060798645),\n",
            " ('penyakit', 0.49434715509414673)]\n",
            "[('gwangju', 0.45354315638542175),\n",
            " ('ilsan', 0.41581812500953674),\n",
            " ('gyeongju', 0.4149320721626282),\n",
            " ('s.m.art', 0.4062999188899994),\n",
            " ('busan', 0.4000849425792694),\n",
            " ('daegu', 0.3900299072265625),\n",
            " ('geondae', 0.38499194383621216),\n",
            " ('gs&c', 0.38424697518348694),\n",
            " ('nanjing', 0.38299983739852905),\n",
            " ('yri', 0.3812805116176605)]\n"
          ]
        }
      ],
      "source": [
        "target_words = ['diana','gaga', 'netflix', 'virus', 'cheonan'] # Enter your word strings here\n",
        "\n",
        "for target_word in target_words:\n",
        "  # check the word is in the vocabulary of the model\n",
        "  assert model.has_index_for(target_word), f\"The selected word, {target_word}, is not included in the model's vocabulary\"\n",
        "  pp.pprint(model.most_similar(target_word))"
      ],
      "id": "ccd292a8"
    },
    {
      "cell_type": "markdown",
      "metadata": {
        "id": "43c9e1b0"
      },
      "source": [
        "## Problem 3. Word Analogy\n",
        "- Another interesting thing you can play with Word2Vec is word analogy\n",
        "- Word analogy is done by adding and subtracting the word vector\n",
        "- In the cell below, you can run an example like this\n",
        "    - ``analogy('man', 'king', 'woman')`` represents a question of \"man is to king as woman is to what?\"\n",
        "- Try with your own choice.\n",
        "- **In your report**, present at least **5** interesting examples of your choice\n",
        "    - You can include the failure case\n",
        "    - Describe what did you expect and why the result was interesting for you"
      ],
      "id": "43c9e1b0"
    },
    {
      "cell_type": "code",
      "execution_count": 8,
      "metadata": {
        "id": "b75a2f6a",
        "colab": {
          "base_uri": "https://localhost:8080/"
        },
        "outputId": "868d247a-df4f-4298-e3d9-257f1761aebf"
      },
      "outputs": [
        {
          "output_type": "stream",
          "name": "stdout",
          "text": [
            "[('sd', 0.5498698353767395),\n",
            " ('osis', 0.5004357695579529),\n",
            " ('highschool', 0.49871546030044556),\n",
            " ('reunian', 0.4949413537979126),\n",
            " ('smp', 0.4894418716430664),\n",
            " ('tomorrow', 0.48640692234039307),\n",
            " ('reuni', 0.48418116569519043),\n",
            " ('boys', 0.48372092843055725),\n",
            " ('graduation', 0.48320072889328003),\n",
            " ('shs', 0.48291248083114624)]\n",
            "\n",
            "[('downturn', 0.4404403865337372),\n",
            " ('triple-dip', 0.4340003728866577),\n",
            " ('economic', 0.4171305298805237),\n",
            " ('explained', 0.4051300287246704),\n",
            " ('inflation', 0.4030877351760864),\n",
            " ('gdp', 0.40111812949180603),\n",
            " ('economy', 0.40024855732917786),\n",
            " ('slump', 0.3988068699836731),\n",
            " ('caused', 0.3962199091911316),\n",
            " ('slowdown', 0.3859215974807739)]\n",
            "\n",
            "[('stage', 0.6779358386993408),\n",
            " ('tour', 0.5775321125984192),\n",
            " ('perform', 0.5644304156303406),\n",
            " ('flashmob', 0.5615183711051941),\n",
            " ('dancing', 0.5590847730636597),\n",
            " ('performing', 0.5416744351387024),\n",
            " ('tickets', 0.5249868631362915),\n",
            " ('concerts', 0.5237776041030884),\n",
            " ('performance', 0.5086872577667236),\n",
            " ('rehearsal', 0.5066430568695068)]\n",
            "\n",
            "[('remote', 0.47134241461753845),\n",
            " ('plane', 0.45174673199653625),\n",
            " ('docking', 0.43280714750289917),\n",
            " ('helicopter', 0.4240418076515198),\n",
            " ('stations', 0.42059046030044556),\n",
            " ('floating', 0.41908758878707886),\n",
            " ('airline', 0.41419467329978943),\n",
            " ('space', 0.41104838252067566),\n",
            " ('landing', 0.4090425372123718),\n",
            " ('flight', 0.404619425535202)]\n",
            "\n",
            "[('diplomatic', 0.44091305136680603),\n",
            " ('aircraft', 0.423111230134964),\n",
            " ('migrant', 0.4226188659667969),\n",
            " ('aboriginal', 0.4128878712654114),\n",
            " ('wildlife', 0.4117456078529358),\n",
            " ('passports', 0.4108889102935791),\n",
            " ('tourism', 0.410648912191391),\n",
            " ('transporting', 0.4051721394062042),\n",
            " ('airline', 0.4012957811355591),\n",
            " ('deportation', 0.3999738097190857)]\n",
            "\n"
          ]
        }
      ],
      "source": [
        "def analogy(model, x1, x2, y1):\n",
        "  pp.pprint(model.most_similar([x2, y1], negative=[x1]))\n",
        "  print()\n",
        "\n",
        "# Try with your own word choice\n",
        "# analogy(model, 'man', 'king', 'woman')\n",
        "\n",
        "my_word_analogy_pairs = [\n",
        "    ['student', 'school', 'alumni'],\n",
        "    ['unemployed', 'recession', 'employed'],\n",
        "    ['music', 'concert', 'dance'],\n",
        "    ['train', 'station', 'airplane'],\n",
        "    ['id', 'domestic', 'passport']\n",
        "]\n",
        "\n",
        "for x1, x2, y1 in my_word_analogy_pairs:\n",
        "  analogy(model, x1, x2, y1)"
      ],
      "id": "b75a2f6a"
    },
    {
      "cell_type": "markdown",
      "metadata": {
        "id": "084dc056"
      },
      "source": [
        "## Problem 4. Visualize Word Vectors\n",
        "- Select a list of words of your interest\n",
        "    - **At least 30 words for minimum**\n",
        "    - ``word_list`` is a list of strings\n",
        "    - every element in ``word_list`` has to be included in the model's vocabulary\n",
        "- Visualize the vectors of words using dimensionality reduction (in this case, PCA)\n",
        "- In your report, describe how words are located in 2D space\n",
        "    - How are the words clustered?\n",
        "    - Do you think the words are properly located based on their semantic meanings?\n",
        "    - Is there anything suprising or unexpected examples?"
      ],
      "id": "084dc056"
    },
    {
      "cell_type": "code",
      "execution_count": 9,
      "metadata": {
        "id": "57c0d085"
      },
      "outputs": [],
      "source": [
        "# Run this cell to\n",
        "import matplotlib.pyplot as plt\n",
        "from sklearn.decomposition import PCA\n",
        "import plotly.express as px\n",
        "\n",
        "# def display_pca_scatterplot(model, words=None, sample=0):\n",
        "#   if len(words) < 30:\n",
        "#     print(\"WARNING: For your report, please select more than 30 word samples for the visualization\")\n",
        "#     print(f\"Current length of input word list: {len(words)}\")\n",
        "#   word_vectors = np.array([model[w] for w in words])\n",
        "\n",
        "#   twodim = PCA().fit_transform(word_vectors)[:,:2]\n",
        "\n",
        "#   # plt.figure(figsize=(12,12))\n",
        "#   # plt.scatter(twodim[:,0], twodim[:,1], edgecolors='k', c='r')\n",
        "#   # for word, (x,y) in zip(words, twodim):\n",
        "#   #     plt.text(x+0.05, y+0.05, word, fontsize=15)\n",
        "#   fig = px.scatter(twodim, x=0, y=1, text=words)\n",
        "#   fig.update_traces(textposition='top center')\n",
        "#   fig.show()\n",
        "\n",
        "#altered code\n",
        "def display_pca_scatterplot(model, words=None, sample=0):\n",
        "  if len(words) < 30:\n",
        "    print(\"WARNING: For your report, please select more than 30 word samples for the visualization\")\n",
        "    print(f\"Current length of input word list: {len(words)}\")\n",
        "\n",
        "  word_vectors = np.array([model[w] for w in words])\n",
        "  twodim = PCA().fit_transform(word_vectors)[:,:2]\n",
        "\n",
        "  # Separate words into groups based on their source (Europe, America, Asia)\n",
        "  european_words = words[:10]\n",
        "  american_words = words[10:20]\n",
        "  asian_words = words[20:]\n",
        "\n",
        "  # Create a DataFrame for visualization with Plotly\n",
        "  import pandas as pd\n",
        "  df = pd.DataFrame(twodim, columns=['x', 'y'])\n",
        "  df['word'] = words\n",
        "  df['group'] = ['Europe'] * 10 + ['America'] * 10 + ['Asia'] * 10 #assign groups\n",
        "\n",
        "  # Plot the scatterplot with different colors for each group\n",
        "  fig = px.scatter(df, x='x', y='y', text='word', color='group')\n",
        "  fig.update_traces(textposition='top center')\n",
        "  fig.show()"
      ],
      "id": "57c0d085"
    },
    {
      "cell_type": "code",
      "execution_count": 10,
      "metadata": {
        "id": "7f61a201",
        "colab": {
          "base_uri": "https://localhost:8080/",
          "height": 542
        },
        "outputId": "9069c438-37e8-41df-977d-2b97c4639030"
      },
      "outputs": [
        {
          "output_type": "display_data",
          "data": {
            "text/html": [
              "<html>\n",
              "<head><meta charset=\"utf-8\" /></head>\n",
              "<body>\n",
              "    <div>            <script src=\"https://cdnjs.cloudflare.com/ajax/libs/mathjax/2.7.5/MathJax.js?config=TeX-AMS-MML_SVG\"></script><script type=\"text/javascript\">if (window.MathJax && window.MathJax.Hub && window.MathJax.Hub.Config) {window.MathJax.Hub.Config({SVG: {font: \"STIX-Web\"}});}</script>                <script type=\"text/javascript\">window.PlotlyConfig = {MathJaxConfig: 'local'};</script>\n",
              "        <script charset=\"utf-8\" src=\"https://cdn.plot.ly/plotly-2.24.1.min.js\"></script>                <div id=\"6937f9a7-80ef-4855-897b-92d68a2915d3\" class=\"plotly-graph-div\" style=\"height:525px; width:100%;\"></div>            <script type=\"text/javascript\">                                    window.PLOTLYENV=window.PLOTLYENV || {};                                    if (document.getElementById(\"6937f9a7-80ef-4855-897b-92d68a2915d3\")) {                    Plotly.newPlot(                        \"6937f9a7-80ef-4855-897b-92d68a2915d3\",                        [{\"hovertemplate\":\"group=Europe\\u003cbr\\u003ex=%{x}\\u003cbr\\u003ey=%{y}\\u003cbr\\u003eword=%{text}\\u003cextra\\u003e\\u003c\\u002fextra\\u003e\",\"legendgroup\":\"Europe\",\"marker\":{\"color\":\"#636efa\",\"symbol\":\"circle\"},\"mode\":\"markers+text\",\"name\":\"Europe\",\"orientation\":\"v\",\"showlegend\":true,\"text\":[\"baguette\",\"pizza\",\"pierogi\",\"croissant\",\"paella\",\"borscht\",\"gyro\",\"lasagna\",\"bratwurst\",\"fondue\"],\"x\":[-0.45029956102371216,3.85904860496521,-1.930707573890686,0.37246039509773254,-0.35697075724601746,-3.325169801712036,-1.209130883216858,1.0267550945281982,-1.9293503761291504,-0.5834250450134277],\"xaxis\":\"x\",\"y\":[-1.820277452468872,0.3726577162742615,-0.38804498314857483,-2.619838237762451,0.1608809381723404,-0.8034603595733643,-0.6925793290138245,-0.47032833099365234,-0.861958920955658,-1.5064303874969482],\"yaxis\":\"y\",\"type\":\"scatter\",\"textposition\":\"top center\"},{\"hovertemplate\":\"group=America\\u003cbr\\u003ex=%{x}\\u003cbr\\u003ey=%{y}\\u003cbr\\u003eword=%{text}\\u003cextra\\u003e\\u003c\\u002fextra\\u003e\",\"legendgroup\":\"America\",\"marker\":{\"color\":\"#EF553B\",\"symbol\":\"circle\"},\"mode\":\"markers+text\",\"name\":\"America\",\"orientation\":\"v\",\"showlegend\":true,\"text\":[\"hamburger\",\"hotdog\",\"taco\",\"burrito\",\"barbecue\",\"chili\",\"macaroni\",\"pancake\",\"cornbread\",\"cheesecake\"],\"x\":[1.1215399503707886,0.34420618414878845,3.289527416229248,2.170795202255249,0.41799554228782654,1.4355463981628418,0.5513243079185486,0.9796854257583618,-0.021642908453941345,2.074122428894043],\"xaxis\":\"x\",\"y\":[-1.2856653928756714,-0.13415224850177765,0.8699238300323486,-0.1028316393494606,0.09640277922153473,0.8195911049842834,-0.8158544898033142,-1.7622140645980835,-1.5266430377960205,-1.8248106241226196],\"yaxis\":\"y\",\"type\":\"scatter\",\"textposition\":\"top center\"},{\"hovertemplate\":\"group=Asia\\u003cbr\\u003ex=%{x}\\u003cbr\\u003ey=%{y}\\u003cbr\\u003eword=%{text}\\u003cextra\\u003e\\u003c\\u002fextra\\u003e\",\"legendgroup\":\"Asia\",\"marker\":{\"color\":\"#00cc96\",\"symbol\":\"circle\"},\"mode\":\"markers+text\",\"name\":\"Asia\",\"orientation\":\"v\",\"showlegend\":true,\"text\":[\"sushi\",\"ramen\",\"curry\",\"bibimbap\",\"pho\",\"bao\",\"satay\",\"samosa\",\"dimsum\",\"kimbap\"],\"x\":[1.970184087753296,1.0269547700881958,0.6960997581481934,-2.21724796295166,-0.3384142220020294,-1.5912294387817383,-1.098020315170288,-2.086813449859619,-1.5666230916976929,-2.631197452545166],\"xaxis\":\"x\",\"y\":[1.9305917024612427,2.3774802684783936,1.7669670581817627,0.838890552520752,1.7590203285217285,2.855177640914917,0.638964056968689,0.07341454923152924,1.6952259540557861,0.35990288853645325],\"yaxis\":\"y\",\"type\":\"scatter\",\"textposition\":\"top center\"}],                        {\"template\":{\"data\":{\"histogram2dcontour\":[{\"type\":\"histogram2dcontour\",\"colorbar\":{\"outlinewidth\":0,\"ticks\":\"\"},\"colorscale\":[[0.0,\"#0d0887\"],[0.1111111111111111,\"#46039f\"],[0.2222222222222222,\"#7201a8\"],[0.3333333333333333,\"#9c179e\"],[0.4444444444444444,\"#bd3786\"],[0.5555555555555556,\"#d8576b\"],[0.6666666666666666,\"#ed7953\"],[0.7777777777777778,\"#fb9f3a\"],[0.8888888888888888,\"#fdca26\"],[1.0,\"#f0f921\"]]}],\"choropleth\":[{\"type\":\"choropleth\",\"colorbar\":{\"outlinewidth\":0,\"ticks\":\"\"}}],\"histogram2d\":[{\"type\":\"histogram2d\",\"colorbar\":{\"outlinewidth\":0,\"ticks\":\"\"},\"colorscale\":[[0.0,\"#0d0887\"],[0.1111111111111111,\"#46039f\"],[0.2222222222222222,\"#7201a8\"],[0.3333333333333333,\"#9c179e\"],[0.4444444444444444,\"#bd3786\"],[0.5555555555555556,\"#d8576b\"],[0.6666666666666666,\"#ed7953\"],[0.7777777777777778,\"#fb9f3a\"],[0.8888888888888888,\"#fdca26\"],[1.0,\"#f0f921\"]]}],\"heatmap\":[{\"type\":\"heatmap\",\"colorbar\":{\"outlinewidth\":0,\"ticks\":\"\"},\"colorscale\":[[0.0,\"#0d0887\"],[0.1111111111111111,\"#46039f\"],[0.2222222222222222,\"#7201a8\"],[0.3333333333333333,\"#9c179e\"],[0.4444444444444444,\"#bd3786\"],[0.5555555555555556,\"#d8576b\"],[0.6666666666666666,\"#ed7953\"],[0.7777777777777778,\"#fb9f3a\"],[0.8888888888888888,\"#fdca26\"],[1.0,\"#f0f921\"]]}],\"heatmapgl\":[{\"type\":\"heatmapgl\",\"colorbar\":{\"outlinewidth\":0,\"ticks\":\"\"},\"colorscale\":[[0.0,\"#0d0887\"],[0.1111111111111111,\"#46039f\"],[0.2222222222222222,\"#7201a8\"],[0.3333333333333333,\"#9c179e\"],[0.4444444444444444,\"#bd3786\"],[0.5555555555555556,\"#d8576b\"],[0.6666666666666666,\"#ed7953\"],[0.7777777777777778,\"#fb9f3a\"],[0.8888888888888888,\"#fdca26\"],[1.0,\"#f0f921\"]]}],\"contourcarpet\":[{\"type\":\"contourcarpet\",\"colorbar\":{\"outlinewidth\":0,\"ticks\":\"\"}}],\"contour\":[{\"type\":\"contour\",\"colorbar\":{\"outlinewidth\":0,\"ticks\":\"\"},\"colorscale\":[[0.0,\"#0d0887\"],[0.1111111111111111,\"#46039f\"],[0.2222222222222222,\"#7201a8\"],[0.3333333333333333,\"#9c179e\"],[0.4444444444444444,\"#bd3786\"],[0.5555555555555556,\"#d8576b\"],[0.6666666666666666,\"#ed7953\"],[0.7777777777777778,\"#fb9f3a\"],[0.8888888888888888,\"#fdca26\"],[1.0,\"#f0f921\"]]}],\"surface\":[{\"type\":\"surface\",\"colorbar\":{\"outlinewidth\":0,\"ticks\":\"\"},\"colorscale\":[[0.0,\"#0d0887\"],[0.1111111111111111,\"#46039f\"],[0.2222222222222222,\"#7201a8\"],[0.3333333333333333,\"#9c179e\"],[0.4444444444444444,\"#bd3786\"],[0.5555555555555556,\"#d8576b\"],[0.6666666666666666,\"#ed7953\"],[0.7777777777777778,\"#fb9f3a\"],[0.8888888888888888,\"#fdca26\"],[1.0,\"#f0f921\"]]}],\"mesh3d\":[{\"type\":\"mesh3d\",\"colorbar\":{\"outlinewidth\":0,\"ticks\":\"\"}}],\"scatter\":[{\"fillpattern\":{\"fillmode\":\"overlay\",\"size\":10,\"solidity\":0.2},\"type\":\"scatter\"}],\"parcoords\":[{\"type\":\"parcoords\",\"line\":{\"colorbar\":{\"outlinewidth\":0,\"ticks\":\"\"}}}],\"scatterpolargl\":[{\"type\":\"scatterpolargl\",\"marker\":{\"colorbar\":{\"outlinewidth\":0,\"ticks\":\"\"}}}],\"bar\":[{\"error_x\":{\"color\":\"#2a3f5f\"},\"error_y\":{\"color\":\"#2a3f5f\"},\"marker\":{\"line\":{\"color\":\"#E5ECF6\",\"width\":0.5},\"pattern\":{\"fillmode\":\"overlay\",\"size\":10,\"solidity\":0.2}},\"type\":\"bar\"}],\"scattergeo\":[{\"type\":\"scattergeo\",\"marker\":{\"colorbar\":{\"outlinewidth\":0,\"ticks\":\"\"}}}],\"scatterpolar\":[{\"type\":\"scatterpolar\",\"marker\":{\"colorbar\":{\"outlinewidth\":0,\"ticks\":\"\"}}}],\"histogram\":[{\"marker\":{\"pattern\":{\"fillmode\":\"overlay\",\"size\":10,\"solidity\":0.2}},\"type\":\"histogram\"}],\"scattergl\":[{\"type\":\"scattergl\",\"marker\":{\"colorbar\":{\"outlinewidth\":0,\"ticks\":\"\"}}}],\"scatter3d\":[{\"type\":\"scatter3d\",\"line\":{\"colorbar\":{\"outlinewidth\":0,\"ticks\":\"\"}},\"marker\":{\"colorbar\":{\"outlinewidth\":0,\"ticks\":\"\"}}}],\"scattermapbox\":[{\"type\":\"scattermapbox\",\"marker\":{\"colorbar\":{\"outlinewidth\":0,\"ticks\":\"\"}}}],\"scatterternary\":[{\"type\":\"scatterternary\",\"marker\":{\"colorbar\":{\"outlinewidth\":0,\"ticks\":\"\"}}}],\"scattercarpet\":[{\"type\":\"scattercarpet\",\"marker\":{\"colorbar\":{\"outlinewidth\":0,\"ticks\":\"\"}}}],\"carpet\":[{\"aaxis\":{\"endlinecolor\":\"#2a3f5f\",\"gridcolor\":\"white\",\"linecolor\":\"white\",\"minorgridcolor\":\"white\",\"startlinecolor\":\"#2a3f5f\"},\"baxis\":{\"endlinecolor\":\"#2a3f5f\",\"gridcolor\":\"white\",\"linecolor\":\"white\",\"minorgridcolor\":\"white\",\"startlinecolor\":\"#2a3f5f\"},\"type\":\"carpet\"}],\"table\":[{\"cells\":{\"fill\":{\"color\":\"#EBF0F8\"},\"line\":{\"color\":\"white\"}},\"header\":{\"fill\":{\"color\":\"#C8D4E3\"},\"line\":{\"color\":\"white\"}},\"type\":\"table\"}],\"barpolar\":[{\"marker\":{\"line\":{\"color\":\"#E5ECF6\",\"width\":0.5},\"pattern\":{\"fillmode\":\"overlay\",\"size\":10,\"solidity\":0.2}},\"type\":\"barpolar\"}],\"pie\":[{\"automargin\":true,\"type\":\"pie\"}]},\"layout\":{\"autotypenumbers\":\"strict\",\"colorway\":[\"#636efa\",\"#EF553B\",\"#00cc96\",\"#ab63fa\",\"#FFA15A\",\"#19d3f3\",\"#FF6692\",\"#B6E880\",\"#FF97FF\",\"#FECB52\"],\"font\":{\"color\":\"#2a3f5f\"},\"hovermode\":\"closest\",\"hoverlabel\":{\"align\":\"left\"},\"paper_bgcolor\":\"white\",\"plot_bgcolor\":\"#E5ECF6\",\"polar\":{\"bgcolor\":\"#E5ECF6\",\"angularaxis\":{\"gridcolor\":\"white\",\"linecolor\":\"white\",\"ticks\":\"\"},\"radialaxis\":{\"gridcolor\":\"white\",\"linecolor\":\"white\",\"ticks\":\"\"}},\"ternary\":{\"bgcolor\":\"#E5ECF6\",\"aaxis\":{\"gridcolor\":\"white\",\"linecolor\":\"white\",\"ticks\":\"\"},\"baxis\":{\"gridcolor\":\"white\",\"linecolor\":\"white\",\"ticks\":\"\"},\"caxis\":{\"gridcolor\":\"white\",\"linecolor\":\"white\",\"ticks\":\"\"}},\"coloraxis\":{\"colorbar\":{\"outlinewidth\":0,\"ticks\":\"\"}},\"colorscale\":{\"sequential\":[[0.0,\"#0d0887\"],[0.1111111111111111,\"#46039f\"],[0.2222222222222222,\"#7201a8\"],[0.3333333333333333,\"#9c179e\"],[0.4444444444444444,\"#bd3786\"],[0.5555555555555556,\"#d8576b\"],[0.6666666666666666,\"#ed7953\"],[0.7777777777777778,\"#fb9f3a\"],[0.8888888888888888,\"#fdca26\"],[1.0,\"#f0f921\"]],\"sequentialminus\":[[0.0,\"#0d0887\"],[0.1111111111111111,\"#46039f\"],[0.2222222222222222,\"#7201a8\"],[0.3333333333333333,\"#9c179e\"],[0.4444444444444444,\"#bd3786\"],[0.5555555555555556,\"#d8576b\"],[0.6666666666666666,\"#ed7953\"],[0.7777777777777778,\"#fb9f3a\"],[0.8888888888888888,\"#fdca26\"],[1.0,\"#f0f921\"]],\"diverging\":[[0,\"#8e0152\"],[0.1,\"#c51b7d\"],[0.2,\"#de77ae\"],[0.3,\"#f1b6da\"],[0.4,\"#fde0ef\"],[0.5,\"#f7f7f7\"],[0.6,\"#e6f5d0\"],[0.7,\"#b8e186\"],[0.8,\"#7fbc41\"],[0.9,\"#4d9221\"],[1,\"#276419\"]]},\"xaxis\":{\"gridcolor\":\"white\",\"linecolor\":\"white\",\"ticks\":\"\",\"title\":{\"standoff\":15},\"zerolinecolor\":\"white\",\"automargin\":true,\"zerolinewidth\":2},\"yaxis\":{\"gridcolor\":\"white\",\"linecolor\":\"white\",\"ticks\":\"\",\"title\":{\"standoff\":15},\"zerolinecolor\":\"white\",\"automargin\":true,\"zerolinewidth\":2},\"scene\":{\"xaxis\":{\"backgroundcolor\":\"#E5ECF6\",\"gridcolor\":\"white\",\"linecolor\":\"white\",\"showbackground\":true,\"ticks\":\"\",\"zerolinecolor\":\"white\",\"gridwidth\":2},\"yaxis\":{\"backgroundcolor\":\"#E5ECF6\",\"gridcolor\":\"white\",\"linecolor\":\"white\",\"showbackground\":true,\"ticks\":\"\",\"zerolinecolor\":\"white\",\"gridwidth\":2},\"zaxis\":{\"backgroundcolor\":\"#E5ECF6\",\"gridcolor\":\"white\",\"linecolor\":\"white\",\"showbackground\":true,\"ticks\":\"\",\"zerolinecolor\":\"white\",\"gridwidth\":2}},\"shapedefaults\":{\"line\":{\"color\":\"#2a3f5f\"}},\"annotationdefaults\":{\"arrowcolor\":\"#2a3f5f\",\"arrowhead\":0,\"arrowwidth\":1},\"geo\":{\"bgcolor\":\"white\",\"landcolor\":\"#E5ECF6\",\"subunitcolor\":\"white\",\"showland\":true,\"showlakes\":true,\"lakecolor\":\"white\"},\"title\":{\"x\":0.05},\"mapbox\":{\"style\":\"light\"}}},\"xaxis\":{\"anchor\":\"y\",\"domain\":[0.0,1.0],\"title\":{\"text\":\"x\"}},\"yaxis\":{\"anchor\":\"x\",\"domain\":[0.0,1.0],\"title\":{\"text\":\"y\"}},\"legend\":{\"title\":{\"text\":\"group\"},\"tracegroupgap\":0},\"margin\":{\"t\":60}},                        {\"responsive\": true}                    ).then(function(){\n",
              "                            \n",
              "var gd = document.getElementById('6937f9a7-80ef-4855-897b-92d68a2915d3');\n",
              "var x = new MutationObserver(function (mutations, observer) {{\n",
              "        var display = window.getComputedStyle(gd).display;\n",
              "        if (!display || display === 'none') {{\n",
              "            console.log([gd, 'removed!']);\n",
              "            Plotly.purge(gd);\n",
              "            observer.disconnect();\n",
              "        }}\n",
              "}});\n",
              "\n",
              "// Listen for the removal of the full notebook cells\n",
              "var notebookContainer = gd.closest('#notebook-container');\n",
              "if (notebookContainer) {{\n",
              "    x.observe(notebookContainer, {childList: true});\n",
              "}}\n",
              "\n",
              "// Listen for the clearing of the current output cell\n",
              "var outputEl = gd.closest('.output');\n",
              "if (outputEl) {{\n",
              "    x.observe(outputEl, {childList: true});\n",
              "}}\n",
              "\n",
              "                        })                };                            </script>        </div>\n",
              "</body>\n",
              "</html>"
            ]
          },
          "metadata": {}
        }
      ],
      "source": [
        "# Select word list of your own interests\n",
        "word_list = [\n",
        "            \"baguette\", \"pizza\", \"pierogi\", \"croissant\", \"paella\",\n",
        "             \"borscht\", \"gyro\", \"lasagna\", \"bratwurst\", \"fondue\",\n",
        "             \"hamburger\", \"hotdog\", \"taco\", \"burrito\", \"barbecue\",\n",
        "             \"chili\", \"macaroni\", \"pancake\", \"cornbread\", \"cheesecake\",\n",
        "             \"sushi\", \"ramen\", \"curry\", \"bibimbap\", \"pho\",\n",
        "             \"bao\", \"satay\", \"samosa\", \"dimsum\", \"kimbap\"\n",
        "]\n",
        "display_pca_scatterplot(model, word_list)"
      ],
      "id": "7f61a201"
    },
    {
      "cell_type": "markdown",
      "metadata": {
        "id": "7130b706"
      },
      "source": [
        "## Problem 5. Train New Word2Vec\n",
        "- Word2Vec models can be trained on different corpus (text)\n",
        "- Train your own model with your custom selection of text\n",
        "- In your report, present at least **5** interesting examples that makes different result by dataset selection\n",
        "    - You can compare some word analogy examples or similairites or visualization\n",
        "- You can refer [Official Documentation](https://radimrehurek.com/gensim/models/word2vec.html#gensim.models.word2vec.Word2Vec) Word2Vec Model"
      ],
      "id": "7130b706"
    },
    {
      "cell_type": "code",
      "execution_count": 11,
      "metadata": {
        "id": "f5ef0a7f"
      },
      "outputs": [],
      "source": [
        "# You don't have to change this cell\n",
        "import string\n",
        "from gensim.models import Word2Vec\n",
        "\n",
        "def remove_punctuation(x):\n",
        "  return x.translate(''.maketrans('', '', string.punctuation))\n",
        "def make_tokenized_corpus(corpus):\n",
        "  out= [ [y.lower() for y in remove_punctuation(sentence).split(' ') if y] for sentence in corpus]\n",
        "  return [x for x in out if x!=[]]"
      ],
      "id": "f5ef0a7f"
    },
    {
      "cell_type": "code",
      "source": [
        "#multiple file -> use google drive, then browse to the correct directory\n",
        "\n",
        "from google.colab import drive\n",
        "drive.mount('/content/drive')"
      ],
      "metadata": {
        "id": "f7d1LUxWUq_g",
        "colab": {
          "base_uri": "https://localhost:8080/"
        },
        "outputId": "bdbcb391-2b98-43ae-dca8-586c1ec66861"
      },
      "id": "f7d1LUxWUq_g",
      "execution_count": 12,
      "outputs": [
        {
          "output_type": "stream",
          "name": "stdout",
          "text": [
            "Drive already mounted at /content/drive; to attempt to forcibly remount, call drive.mount(\"/content/drive\", force_remount=True).\n"
          ]
        }
      ]
    },
    {
      "cell_type": "markdown",
      "source": [
        "## First Taylor Model"
      ],
      "metadata": {
        "id": "BklQl3gWqIYF"
      },
      "id": "BklQl3gWqIYF"
    },
    {
      "cell_type": "code",
      "source": [
        "#text importer with modifications - different txt file for different names\n",
        "\n",
        "#Modification that should be made\n",
        "#0. use Google Drive - cell above\n",
        "#1. multiple file structure: Albums/{album_name}/{song.txt} - for loop\n",
        "#2. first line of the file should be ignored - in append function\n",
        "#3. numbers, word that start with [ should be eliminated\n",
        "\n",
        "strings=[]\n",
        "\n",
        "from glob import glob\n",
        "from tqdm import tqdm\n",
        "import re\n",
        "\n",
        "albums = glob(\"/content/drive/MyDrive/ColabData/TaylorSwiftAlbums/*\")\n",
        "\n",
        "for album in tqdm(albums):\n",
        "  songs = glob(str(album)+\"/*\")\n",
        "  for song in songs:\n",
        "    with open(song, 'r') as f:\n",
        "      song_lyric = f.readlines()[1:] #ignore first line\n",
        "      if song_lyric:\n",
        "        strings.extend([x.lower() for x in song_lyric[:-1] if x[0] !=\"[\"])#ignore last line\n",
        "        #delete dividers like [chorus]then add lowercased version\n",
        "\n",
        "        #dividers are not in the last line, so we can use the expression below\n",
        "\n",
        "        #taylor rarely puts numbers in numeric form, so deletion of number followed by string in only last line\n",
        "        #does not negatively affect\n",
        "        #this line deletes ##embed\n",
        "        last_line_modified = re.sub(r'\\d+\\s*\\w+', '', song_lyric[-1].lower())\n",
        "        #this line deletes embed, without numbers beforehand\n",
        "        last_line_modified = last_line_modified.replace('embed','')\n",
        "        strings.append(last_line_modified)\n",
        "    # break #used to check\n",
        "    # print(strings[-1]) #used to check\n",
        "  # break\n",
        "# pp.pprint(strings)"
      ],
      "metadata": {
        "colab": {
          "base_uri": "https://localhost:8080/"
        },
        "id": "tQ75B3LUqHYb",
        "outputId": "e3d5c651-fb99-4f73-ea8a-0c3e4db4dbb2"
      },
      "id": "tQ75B3LUqHYb",
      "execution_count": 106,
      "outputs": [
        {
          "output_type": "stream",
          "name": "stderr",
          "text": [
            "100%|██████████| 46/46 [00:01<00:00, 23.48it/s]\n"
          ]
        }
      ]
    },
    {
      "cell_type": "code",
      "source": [
        "print(len(strings))"
      ],
      "metadata": {
        "colab": {
          "base_uri": "https://localhost:8080/"
        },
        "id": "SLO3yd7iqNjB",
        "outputId": "e3fd49b1-da8e-45db-f548-b9ca45eddfc9"
      },
      "id": "SLO3yd7iqNjB",
      "execution_count": 107,
      "outputs": [
        {
          "output_type": "stream",
          "name": "stdout",
          "text": [
            "35786\n"
          ]
        }
      ]
    },
    {
      "cell_type": "code",
      "source": [
        "'''\n",
        "This line is for the case when the text file is not properly formatted.\n",
        "It was used to ignore linebreaks and join the sentences into one string, since the text example included linebreak following printed book lines.\n",
        "\n",
        "strings = \"\".join(strings).replace('\\n', ' ').replace('Mr.', 'mr').replace('Mrs.', 'mrs').split('. ')\n",
        "'''\n",
        "# The strings has to be a list of list of strings, where inner list is a sentence\n",
        "# strings = \"\".join(strings).replace('\\n', ' ').replace('Mr.', 'mr').replace('Mrs.', 'mrs').replace('\"','').replace(\"'\",\"\").split('. ')\n",
        "# strings_processed = \"\".join(strings).replace('\\n', '*').replace('Mr.', 'mr').replace('Mrs.', 'mrs').split('*')\n",
        "\n",
        "strings_processed = \"\".join(strings).replace(\"\\n\", '_').replace(',', '').split('_')\n",
        "\n",
        "# for i in strings_processed:\n",
        "  # print(\"line\")\n",
        "  # print(i)\n",
        "print(\"Checking the first 5 sentences in the text file\")\n",
        "for i in range(5):\n",
        "  print(f\"Sentence {i+1}: {strings_processed[i]}\")\n",
        "corpus = make_tokenized_corpus(strings_processed)"
      ],
      "metadata": {
        "colab": {
          "base_uri": "https://localhost:8080/"
        },
        "id": "jKWKnDPSqOQw",
        "outputId": "6ba93d61-a718-42bc-a31d-54c2370fc202"
      },
      "id": "jKWKnDPSqOQw",
      "execution_count": 108,
      "outputs": [
        {
          "output_type": "stream",
          "name": "stdout",
          "text": [
            "Checking the first 5 sentences in the text file\n",
            "Sentence 1: it feels like a perfect night\n",
            "Sentence 2: to dress up like hipsters\n",
            "Sentence 3: and make fun of our exes\n",
            "Sentence 4: uh-uh uh-uh\n",
            "Sentence 5: it feels like a perfect night\n"
          ]
        }
      ]
    },
    {
      "cell_type": "code",
      "source": [
        "#unique word counter\n",
        "unique_word = set()\n",
        "for x in corpus:\n",
        "  for y in x:\n",
        "    unique_word.add(y)\n",
        "print(len(unique_word)) #num of unique words"
      ],
      "metadata": {
        "colab": {
          "base_uri": "https://localhost:8080/"
        },
        "id": "_gpFzjcaqPfj",
        "outputId": "cf26456e-dd4f-4f61-b906-380e0fedddc5"
      },
      "id": "_gpFzjcaqPfj",
      "execution_count": 109,
      "outputs": [
        {
          "output_type": "stream",
          "name": "stdout",
          "text": [
            "11629\n"
          ]
        }
      ]
    },
    {
      "cell_type": "markdown",
      "source": [
        "- gensim Word2Vec arguments\n",
        "  - ``sentences``: list of list of strings\n",
        "  - ``vector_size``: dimension of word vector\n",
        "  - ``window``: maximum distance between the current and predicted word within a sentence\n",
        "  - ``min_count``: ignore all words with total frequency lower than this\n",
        "  - ``sg``: training algorithm: 1 for skip-gram; otherwise CBOW\n",
        "  - ``negative``: if > 0, negative sampling will be used, the int for negative specifies how many \"noise words\" should be drown (usually between 5-20)"
      ],
      "metadata": {
        "id": "4RO8GDk9qTUC"
      },
      "id": "4RO8GDk9qTUC"
    },
    {
      "cell_type": "code",
      "source": [
        "taylor_model = Word2Vec(sentences=corpus, vector_size=80, window=3, min_count=6, sg=1)\n",
        "taylor_model = taylor_model.wv # To match with previous codes, we use wv (KeyedVector) of the Word2Vec class\n",
        "# Try the function above with the newely trained model"
      ],
      "metadata": {
        "id": "O-IOWO2GqTzk"
      },
      "id": "O-IOWO2GqTzk",
      "execution_count": 110,
      "outputs": []
    },
    {
      "cell_type": "code",
      "source": [
        "target_words = ['woman', 'love', 'friend']\n",
        "for target_word in target_words:\n",
        "  print(target_word)\n",
        "  pp.pprint(taylor_model.most_similar(target_word))\n",
        "  pp.pprint(model.most_similar(target_word))"
      ],
      "metadata": {
        "colab": {
          "base_uri": "https://localhost:8080/"
        },
        "id": "CfTJg7N4qU12",
        "outputId": "afb3f936-3944-4866-e896-543964161bbb"
      },
      "id": "CfTJg7N4qU12",
      "execution_count": 112,
      "outputs": [
        {
          "output_type": "stream",
          "name": "stdout",
          "text": [
            "woman\n",
            "[('likes', 0.8789421319961548),\n",
            " ('fellow', 0.8760899305343628),\n",
            " ('safe', 0.8748647570610046),\n",
            " ('marrying', 0.8726508617401123),\n",
            " ('sinks', 0.8682652115821838),\n",
            " ('masterpiece', 0.8681350350379944),\n",
            " ('second', 0.8645243048667908),\n",
            " ('ere', 0.8632925152778625),\n",
            " ('realizing', 0.8592833876609802),\n",
            " ('means', 0.8580912351608276)]\n",
            "[('girl', 0.7817050218582153),\n",
            " ('women', 0.7705847024917603),\n",
            " ('guy', 0.7154314517974854),\n",
            " ('she', 0.710436224937439),\n",
            " ('person', 0.703464686870575),\n",
            " ('wife', 0.7029582262039185),\n",
            " ('female', 0.7000528573989868),\n",
            " ('mother', 0.6994999647140503),\n",
            " ('lady', 0.6945760846138),\n",
            " ('who', 0.6705518960952759)]\n",
            "love\n",
            "[('spiral', 0.7282082438468933),\n",
            " ('uhoh', 0.6988125443458557),\n",
            " ('fallin', 0.6968759298324585),\n",
            " ('affair', 0.6765228509902954),\n",
            " ('tragic', 0.6732059717178345),\n",
            " ('nobodys', 0.6559011936187744),\n",
            " ('desperately', 0.6525399684906006),\n",
            " ('insane', 0.6440119743347168),\n",
            " ('worship', 0.643915057182312),\n",
            " ('true', 0.6437399387359619)]\n",
            "[('you', 0.8460860252380371),\n",
            " ('much', 0.7890045642852783),\n",
            " ('always', 0.7601684331893921),\n",
            " ('know', 0.7598055005073547),\n",
            " ('my', 0.7519949674606323),\n",
            " ('and', 0.7513089776039124),\n",
            " ('loves', 0.7512385249137878),\n",
            " ('life', 0.7443934082984924),\n",
            " ('it', 0.7426839470863342),\n",
            " (\"n't\", 0.7408116459846497)]\n",
            "friend\n",
            "[('criminal', 0.8674241900444031),\n",
            " ('hadnt', 0.8670597076416016),\n",
            " ('twice', 0.854934811592102),\n",
            " ('picking', 0.8546170592308044),\n",
            " ('conversation', 0.8532916903495789),\n",
            " ('such', 0.8524346351623535),\n",
            " ('lifetime', 0.8450250625610352),\n",
            " ('kept', 0.8415279388427734),\n",
            " ('risk', 0.8404600620269775),\n",
            " ('missed', 0.8388441205024719)]\n",
            "[('friends', 0.8503412008285522),\n",
            " ('sister', 0.8243557214736938),\n",
            " ('bestfriend', 0.8121258020401001),\n",
            " ('brother', 0.7812201380729675),\n",
            " ('girl', 0.7702170014381409),\n",
            " ('you', 0.7522699236869812),\n",
            " ('dad', 0.751276433467865),\n",
            " ('bff', 0.7511802911758423),\n",
            " ('guy', 0.7429671883583069),\n",
            " ('mom', 0.7414224743843079)]\n"
          ]
        }
      ]
    },
    {
      "cell_type": "code",
      "source": [
        "analogy(taylor_model, 'man', 'he', 'woman')\n",
        "analogy(model, 'man', 'he', 'woman')"
      ],
      "metadata": {
        "colab": {
          "base_uri": "https://localhost:8080/"
        },
        "id": "HAfxl5-eqbum",
        "outputId": "c2a54761-b375-4f81-dec4-1c9023d12489"
      },
      "id": "HAfxl5-eqbum",
      "execution_count": 91,
      "outputs": [
        {
          "output_type": "stream",
          "name": "stdout",
          "text": [
            "[('chasing', 0.7183302640914917),\n",
            " ('fame', 0.708710253238678),\n",
            " ('hasnt', 0.6730809211730957),\n",
            " ('midnight', 0.6669391393661499),\n",
            " ('teatime', 0.6615288853645325),\n",
            " ('changed', 0.6504514217376709),\n",
            " ('agrees', 0.6459696888923645),\n",
            " ('stayed', 0.6376455426216125),\n",
            " ('trimalchio', 0.6363664269447327),\n",
            " ('calls', 0.6356037855148315)]\n",
            "\n",
            "[('she', 0.7365854382514954),\n",
            " ('has', 0.6785745620727539),\n",
            " ('thinks', 0.6429623365402222),\n",
            " ('knows', 0.6414571404457092),\n",
            " ('says', 0.6331944465637207),\n",
            " ('told', 0.6292889714241028),\n",
            " ('tells', 0.6237863898277283),\n",
            " ('does', 0.623668909072876),\n",
            " ('said', 0.6230323314666748),\n",
            " ('once', 0.6061710119247437)]\n",
            "\n"
          ]
        }
      ]
    },
    {
      "cell_type": "code",
      "source": [
        "analogy(taylor_model, 'good', 'bad', 'beautiful')\n",
        "analogy(model, 'good', 'bad', 'beautiful')"
      ],
      "metadata": {
        "colab": {
          "base_uri": "https://localhost:8080/"
        },
        "id": "Pi_8OZZuqb_z",
        "outputId": "e06ef1a4-14cb-4227-da26-df66b744666b"
      },
      "id": "Pi_8OZZuqb_z",
      "execution_count": 92,
      "outputs": [
        {
          "output_type": "stream",
          "name": "stdout",
          "text": [
            "[('tragic', 0.6374070644378662),\n",
            " ('rush', 0.6065912842750549),\n",
            " ('fuckin', 0.5918627381324768),\n",
            " ('perfect', 0.5720840692520142),\n",
            " ('peaks', 0.5548309087753296),\n",
            " ('pretty', 0.55328369140625),\n",
            " ('million', 0.5497406721115112),\n",
            " ('weird', 0.549546480178833),\n",
            " ('whos', 0.5354764461517334),\n",
            " ('motion', 0.5340595841407776)]\n",
            "\n",
            "[('girl', 0.7060506939888),\n",
            " ('gorgeous', 0.6973251700401306),\n",
            " ('pretty', 0.6896135807037354),\n",
            " ('ugly', 0.6653832793235779),\n",
            " ('perfect', 0.6541532874107361),\n",
            " ('crazy', 0.6417362093925476),\n",
            " ('such', 0.6366500854492188),\n",
            " ('look', 0.6262451410293579),\n",
            " ('cute', 0.6249862909317017),\n",
            " ('stunning', 0.6183186173439026)]\n",
            "\n"
          ]
        }
      ]
    },
    {
      "cell_type": "code",
      "source": [
        "#altered code for groups of 5\n",
        "def display_pca_scatterplot_groups_of_five(model, words=None, sample=0):\n",
        "  if len(words) < 30:\n",
        "    print(\"WARNING: For your report, please select more than 30 word samples for the visualization\")\n",
        "    print(f\"Current length of input word list: {len(words)}\")\n",
        "\n",
        "  word_vectors = np.array([model[w] for w in words])\n",
        "  twodim = PCA().fit_transform(word_vectors)[:,:2]\n",
        "\n",
        "  # Create a DataFrame for visualization with Plotly\n",
        "  import pandas as pd\n",
        "  df = pd.DataFrame(twodim, columns=['x', 'y'])\n",
        "  df['word'] = words\n",
        "  df['group'] = ['fearless'] * 5 + ['speaknow'] * 5 + ['red'] * 5 + ['1989'] * 5+ ['reputation'] * 5+ ['lover'] * 5 + ['midnights'] * 5#assign groups of 5\n",
        "\n",
        "  # Plot the scatterplot with different colors for each group\n",
        "  fig = px.scatter(df, x='x', y='y', text='word', color='group')\n",
        "  fig.update_traces(textposition='top center')\n",
        "  # fig.update_layout(xaxis_type='log')\n",
        "  # fig.update_layout(yaxis_type='log')\n",
        "  fig.show()"
      ],
      "metadata": {
        "id": "yAqOmM0iqdZm"
      },
      "id": "yAqOmM0iqdZm",
      "execution_count": 93,
      "outputs": []
    },
    {
      "cell_type": "code",
      "source": [
        "word_list = [\n",
        "  # fearless album\n",
        "  'breathe', 'fearless', 'stephen', 'romeo', 'belong',\n",
        "  # speak now album\n",
        "  'enchanted', 'december', 'john', 'innocent', 'now',\n",
        "  # red album\n",
        "  'red', 'well', 'twenty', 'trouble', 'stay',\n",
        "  # 1989 album\n",
        "  'welcome', 'space', 'woods', 'james', 'wildest',\n",
        "  # reputation album\n",
        "  'delicate', 'crazy', 'look', 'ready', 'gorgeous',\n",
        "  # lover album\n",
        "  'thousand', 'miss', 'pageant', 'london', 'archer',\n",
        "  # midnights album\n",
        "  'lavender', 'karma', 'maroon', 'haze', 'hero'\n",
        "]\n",
        "display_pca_scatterplot_groups_of_five(taylor_model, word_list)"
      ],
      "metadata": {
        "colab": {
          "base_uri": "https://localhost:8080/",
          "height": 542
        },
        "id": "EfAQTBbZqelP",
        "outputId": "55761324-ca96-4947-81ab-cff771628f44"
      },
      "id": "EfAQTBbZqelP",
      "execution_count": 94,
      "outputs": [
        {
          "output_type": "display_data",
          "data": {
            "text/html": [
              "<html>\n",
              "<head><meta charset=\"utf-8\" /></head>\n",
              "<body>\n",
              "    <div>            <script src=\"https://cdnjs.cloudflare.com/ajax/libs/mathjax/2.7.5/MathJax.js?config=TeX-AMS-MML_SVG\"></script><script type=\"text/javascript\">if (window.MathJax && window.MathJax.Hub && window.MathJax.Hub.Config) {window.MathJax.Hub.Config({SVG: {font: \"STIX-Web\"}});}</script>                <script type=\"text/javascript\">window.PlotlyConfig = {MathJaxConfig: 'local'};</script>\n",
              "        <script charset=\"utf-8\" src=\"https://cdn.plot.ly/plotly-2.24.1.min.js\"></script>                <div id=\"690375ad-86ea-4911-b77a-8f9058e8f9b7\" class=\"plotly-graph-div\" style=\"height:525px; width:100%;\"></div>            <script type=\"text/javascript\">                                    window.PLOTLYENV=window.PLOTLYENV || {};                                    if (document.getElementById(\"690375ad-86ea-4911-b77a-8f9058e8f9b7\")) {                    Plotly.newPlot(                        \"690375ad-86ea-4911-b77a-8f9058e8f9b7\",                        [{\"hovertemplate\":\"group=fearless\\u003cbr\\u003ex=%{x}\\u003cbr\\u003ey=%{y}\\u003cbr\\u003eword=%{text}\\u003cextra\\u003e\\u003c\\u002fextra\\u003e\",\"legendgroup\":\"fearless\",\"marker\":{\"color\":\"#636efa\",\"symbol\":\"circle\"},\"mode\":\"markers+text\",\"name\":\"fearless\",\"orientation\":\"v\",\"showlegend\":true,\"text\":[\"breathe\",\"fearless\",\"stephen\",\"romeo\",\"belong\"],\"x\":[0.5139995217323303,-0.4869270920753479,-0.166557177901268,-0.464351624250412,-0.24511346220970154],\"xaxis\":\"x\",\"y\":[0.4820040166378021,-0.614978015422821,0.09256591647863388,0.35891130566596985,0.44401857256889343],\"yaxis\":\"y\",\"type\":\"scatter\",\"textposition\":\"top center\"},{\"hovertemplate\":\"group=speaknow\\u003cbr\\u003ex=%{x}\\u003cbr\\u003ey=%{y}\\u003cbr\\u003eword=%{text}\\u003cextra\\u003e\\u003c\\u002fextra\\u003e\",\"legendgroup\":\"speaknow\",\"marker\":{\"color\":\"#EF553B\",\"symbol\":\"circle\"},\"mode\":\"markers+text\",\"name\":\"speaknow\",\"orientation\":\"v\",\"showlegend\":true,\"text\":[\"enchanted\",\"december\",\"john\",\"innocent\",\"now\"],\"x\":[-0.24515698850154877,0.04904508218169212,-0.32420116662979126,-0.00461592385545373,0.20242834091186523],\"xaxis\":\"x\",\"y\":[0.020212968811392784,-0.8406407237052917,-0.08176165074110031,0.08606766164302826,-0.4135613739490509],\"yaxis\":\"y\",\"type\":\"scatter\",\"textposition\":\"top center\"},{\"hovertemplate\":\"group=red\\u003cbr\\u003ex=%{x}\\u003cbr\\u003ey=%{y}\\u003cbr\\u003eword=%{text}\\u003cextra\\u003e\\u003c\\u002fextra\\u003e\",\"legendgroup\":\"red\",\"marker\":{\"color\":\"#00cc96\",\"symbol\":\"circle\"},\"mode\":\"markers+text\",\"name\":\"red\",\"orientation\":\"v\",\"showlegend\":true,\"text\":[\"red\",\"well\",\"twenty\",\"trouble\",\"stay\"],\"x\":[-1.458173155784607,-0.26160919666290283,-0.3211737871170044,-0.434964656829834,2.9991321563720703],\"xaxis\":\"x\",\"y\":[1.446725845336914,0.41491803526878357,-0.2841434180736542,2.7872138023376465,0.6949405670166016],\"yaxis\":\"y\",\"type\":\"scatter\",\"textposition\":\"top center\"},{\"hovertemplate\":\"group=1989\\u003cbr\\u003ex=%{x}\\u003cbr\\u003ey=%{y}\\u003cbr\\u003eword=%{text}\\u003cextra\\u003e\\u003c\\u002fextra\\u003e\",\"legendgroup\":\"1989\",\"marker\":{\"color\":\"#ab63fa\",\"symbol\":\"circle\"},\"mode\":\"markers+text\",\"name\":\"1989\",\"orientation\":\"v\",\"showlegend\":true,\"text\":[\"welcome\",\"space\",\"woods\",\"james\",\"wildest\"],\"x\":[-0.07098983973264694,-0.09719885885715485,-0.3570164740085602,-0.44401371479034424,-0.40792927145957947],\"xaxis\":\"x\",\"y\":[-0.4979347288608551,-0.246699720621109,0.21217502653598785,-0.2218838781118393,-0.3927040696144104],\"yaxis\":\"y\",\"type\":\"scatter\",\"textposition\":\"top center\"},{\"hovertemplate\":\"group=reputation\\u003cbr\\u003ex=%{x}\\u003cbr\\u003ey=%{y}\\u003cbr\\u003eword=%{text}\\u003cextra\\u003e\\u003c\\u002fextra\\u003e\",\"legendgroup\":\"reputation\",\"marker\":{\"color\":\"#FFA15A\",\"symbol\":\"circle\"},\"mode\":\"markers+text\",\"name\":\"reputation\",\"orientation\":\"v\",\"showlegend\":true,\"text\":[\"delicate\",\"crazy\",\"look\",\"ready\",\"gorgeous\"],\"x\":[-0.26821476221084595,-0.31049346923828125,0.3659265637397766,-0.33363771438598633,-0.33161306381225586],\"xaxis\":\"x\",\"y\":[-0.11467588692903519,-0.08226961642503738,-0.4497007727622986,-0.15498842298984528,-0.22897805273532867],\"yaxis\":\"y\",\"type\":\"scatter\",\"textposition\":\"top center\"},{\"hovertemplate\":\"group=lover\\u003cbr\\u003ex=%{x}\\u003cbr\\u003ey=%{y}\\u003cbr\\u003eword=%{text}\\u003cextra\\u003e\\u003c\\u002fextra\\u003e\",\"legendgroup\":\"lover\",\"marker\":{\"color\":\"#19d3f3\",\"symbol\":\"circle\"},\"mode\":\"markers+text\",\"name\":\"lover\",\"orientation\":\"v\",\"showlegend\":true,\"text\":[\"thousand\",\"miss\",\"pageant\",\"london\",\"archer\"],\"x\":[-0.39470529556274414,0.9257497787475586,-0.3662194609642029,-0.35267359018325806,-0.30921176075935364],\"xaxis\":\"x\",\"y\":[-0.448999285697937,0.16093710064888,-0.3659236431121826,-0.2912752628326416,-0.23044483363628387],\"yaxis\":\"y\",\"type\":\"scatter\",\"textposition\":\"top center\"},{\"hovertemplate\":\"group=midnights\\u003cbr\\u003ex=%{x}\\u003cbr\\u003ey=%{y}\\u003cbr\\u003eword=%{text}\\u003cextra\\u003e\\u003c\\u002fextra\\u003e\",\"legendgroup\":\"midnights\",\"marker\":{\"color\":\"#FF6692\",\"symbol\":\"circle\"},\"mode\":\"markers+text\",\"name\":\"midnights\",\"orientation\":\"v\",\"showlegend\":true,\"text\":[\"lavender\",\"karma\",\"maroon\",\"haze\",\"hero\"],\"x\":[2.720623016357422,-0.8871651887893677,-0.385663241147995,2.3041634559631348,-0.35147809982299805],\"xaxis\":\"x\",\"y\":[-0.08986039459705353,-1.0361765623092651,0.2725157141685486,-0.18775199353694916,-0.1978549063205719],\"yaxis\":\"y\",\"type\":\"scatter\",\"textposition\":\"top center\"}],                        {\"template\":{\"data\":{\"histogram2dcontour\":[{\"type\":\"histogram2dcontour\",\"colorbar\":{\"outlinewidth\":0,\"ticks\":\"\"},\"colorscale\":[[0.0,\"#0d0887\"],[0.1111111111111111,\"#46039f\"],[0.2222222222222222,\"#7201a8\"],[0.3333333333333333,\"#9c179e\"],[0.4444444444444444,\"#bd3786\"],[0.5555555555555556,\"#d8576b\"],[0.6666666666666666,\"#ed7953\"],[0.7777777777777778,\"#fb9f3a\"],[0.8888888888888888,\"#fdca26\"],[1.0,\"#f0f921\"]]}],\"choropleth\":[{\"type\":\"choropleth\",\"colorbar\":{\"outlinewidth\":0,\"ticks\":\"\"}}],\"histogram2d\":[{\"type\":\"histogram2d\",\"colorbar\":{\"outlinewidth\":0,\"ticks\":\"\"},\"colorscale\":[[0.0,\"#0d0887\"],[0.1111111111111111,\"#46039f\"],[0.2222222222222222,\"#7201a8\"],[0.3333333333333333,\"#9c179e\"],[0.4444444444444444,\"#bd3786\"],[0.5555555555555556,\"#d8576b\"],[0.6666666666666666,\"#ed7953\"],[0.7777777777777778,\"#fb9f3a\"],[0.8888888888888888,\"#fdca26\"],[1.0,\"#f0f921\"]]}],\"heatmap\":[{\"type\":\"heatmap\",\"colorbar\":{\"outlinewidth\":0,\"ticks\":\"\"},\"colorscale\":[[0.0,\"#0d0887\"],[0.1111111111111111,\"#46039f\"],[0.2222222222222222,\"#7201a8\"],[0.3333333333333333,\"#9c179e\"],[0.4444444444444444,\"#bd3786\"],[0.5555555555555556,\"#d8576b\"],[0.6666666666666666,\"#ed7953\"],[0.7777777777777778,\"#fb9f3a\"],[0.8888888888888888,\"#fdca26\"],[1.0,\"#f0f921\"]]}],\"heatmapgl\":[{\"type\":\"heatmapgl\",\"colorbar\":{\"outlinewidth\":0,\"ticks\":\"\"},\"colorscale\":[[0.0,\"#0d0887\"],[0.1111111111111111,\"#46039f\"],[0.2222222222222222,\"#7201a8\"],[0.3333333333333333,\"#9c179e\"],[0.4444444444444444,\"#bd3786\"],[0.5555555555555556,\"#d8576b\"],[0.6666666666666666,\"#ed7953\"],[0.7777777777777778,\"#fb9f3a\"],[0.8888888888888888,\"#fdca26\"],[1.0,\"#f0f921\"]]}],\"contourcarpet\":[{\"type\":\"contourcarpet\",\"colorbar\":{\"outlinewidth\":0,\"ticks\":\"\"}}],\"contour\":[{\"type\":\"contour\",\"colorbar\":{\"outlinewidth\":0,\"ticks\":\"\"},\"colorscale\":[[0.0,\"#0d0887\"],[0.1111111111111111,\"#46039f\"],[0.2222222222222222,\"#7201a8\"],[0.3333333333333333,\"#9c179e\"],[0.4444444444444444,\"#bd3786\"],[0.5555555555555556,\"#d8576b\"],[0.6666666666666666,\"#ed7953\"],[0.7777777777777778,\"#fb9f3a\"],[0.8888888888888888,\"#fdca26\"],[1.0,\"#f0f921\"]]}],\"surface\":[{\"type\":\"surface\",\"colorbar\":{\"outlinewidth\":0,\"ticks\":\"\"},\"colorscale\":[[0.0,\"#0d0887\"],[0.1111111111111111,\"#46039f\"],[0.2222222222222222,\"#7201a8\"],[0.3333333333333333,\"#9c179e\"],[0.4444444444444444,\"#bd3786\"],[0.5555555555555556,\"#d8576b\"],[0.6666666666666666,\"#ed7953\"],[0.7777777777777778,\"#fb9f3a\"],[0.8888888888888888,\"#fdca26\"],[1.0,\"#f0f921\"]]}],\"mesh3d\":[{\"type\":\"mesh3d\",\"colorbar\":{\"outlinewidth\":0,\"ticks\":\"\"}}],\"scatter\":[{\"fillpattern\":{\"fillmode\":\"overlay\",\"size\":10,\"solidity\":0.2},\"type\":\"scatter\"}],\"parcoords\":[{\"type\":\"parcoords\",\"line\":{\"colorbar\":{\"outlinewidth\":0,\"ticks\":\"\"}}}],\"scatterpolargl\":[{\"type\":\"scatterpolargl\",\"marker\":{\"colorbar\":{\"outlinewidth\":0,\"ticks\":\"\"}}}],\"bar\":[{\"error_x\":{\"color\":\"#2a3f5f\"},\"error_y\":{\"color\":\"#2a3f5f\"},\"marker\":{\"line\":{\"color\":\"#E5ECF6\",\"width\":0.5},\"pattern\":{\"fillmode\":\"overlay\",\"size\":10,\"solidity\":0.2}},\"type\":\"bar\"}],\"scattergeo\":[{\"type\":\"scattergeo\",\"marker\":{\"colorbar\":{\"outlinewidth\":0,\"ticks\":\"\"}}}],\"scatterpolar\":[{\"type\":\"scatterpolar\",\"marker\":{\"colorbar\":{\"outlinewidth\":0,\"ticks\":\"\"}}}],\"histogram\":[{\"marker\":{\"pattern\":{\"fillmode\":\"overlay\",\"size\":10,\"solidity\":0.2}},\"type\":\"histogram\"}],\"scattergl\":[{\"type\":\"scattergl\",\"marker\":{\"colorbar\":{\"outlinewidth\":0,\"ticks\":\"\"}}}],\"scatter3d\":[{\"type\":\"scatter3d\",\"line\":{\"colorbar\":{\"outlinewidth\":0,\"ticks\":\"\"}},\"marker\":{\"colorbar\":{\"outlinewidth\":0,\"ticks\":\"\"}}}],\"scattermapbox\":[{\"type\":\"scattermapbox\",\"marker\":{\"colorbar\":{\"outlinewidth\":0,\"ticks\":\"\"}}}],\"scatterternary\":[{\"type\":\"scatterternary\",\"marker\":{\"colorbar\":{\"outlinewidth\":0,\"ticks\":\"\"}}}],\"scattercarpet\":[{\"type\":\"scattercarpet\",\"marker\":{\"colorbar\":{\"outlinewidth\":0,\"ticks\":\"\"}}}],\"carpet\":[{\"aaxis\":{\"endlinecolor\":\"#2a3f5f\",\"gridcolor\":\"white\",\"linecolor\":\"white\",\"minorgridcolor\":\"white\",\"startlinecolor\":\"#2a3f5f\"},\"baxis\":{\"endlinecolor\":\"#2a3f5f\",\"gridcolor\":\"white\",\"linecolor\":\"white\",\"minorgridcolor\":\"white\",\"startlinecolor\":\"#2a3f5f\"},\"type\":\"carpet\"}],\"table\":[{\"cells\":{\"fill\":{\"color\":\"#EBF0F8\"},\"line\":{\"color\":\"white\"}},\"header\":{\"fill\":{\"color\":\"#C8D4E3\"},\"line\":{\"color\":\"white\"}},\"type\":\"table\"}],\"barpolar\":[{\"marker\":{\"line\":{\"color\":\"#E5ECF6\",\"width\":0.5},\"pattern\":{\"fillmode\":\"overlay\",\"size\":10,\"solidity\":0.2}},\"type\":\"barpolar\"}],\"pie\":[{\"automargin\":true,\"type\":\"pie\"}]},\"layout\":{\"autotypenumbers\":\"strict\",\"colorway\":[\"#636efa\",\"#EF553B\",\"#00cc96\",\"#ab63fa\",\"#FFA15A\",\"#19d3f3\",\"#FF6692\",\"#B6E880\",\"#FF97FF\",\"#FECB52\"],\"font\":{\"color\":\"#2a3f5f\"},\"hovermode\":\"closest\",\"hoverlabel\":{\"align\":\"left\"},\"paper_bgcolor\":\"white\",\"plot_bgcolor\":\"#E5ECF6\",\"polar\":{\"bgcolor\":\"#E5ECF6\",\"angularaxis\":{\"gridcolor\":\"white\",\"linecolor\":\"white\",\"ticks\":\"\"},\"radialaxis\":{\"gridcolor\":\"white\",\"linecolor\":\"white\",\"ticks\":\"\"}},\"ternary\":{\"bgcolor\":\"#E5ECF6\",\"aaxis\":{\"gridcolor\":\"white\",\"linecolor\":\"white\",\"ticks\":\"\"},\"baxis\":{\"gridcolor\":\"white\",\"linecolor\":\"white\",\"ticks\":\"\"},\"caxis\":{\"gridcolor\":\"white\",\"linecolor\":\"white\",\"ticks\":\"\"}},\"coloraxis\":{\"colorbar\":{\"outlinewidth\":0,\"ticks\":\"\"}},\"colorscale\":{\"sequential\":[[0.0,\"#0d0887\"],[0.1111111111111111,\"#46039f\"],[0.2222222222222222,\"#7201a8\"],[0.3333333333333333,\"#9c179e\"],[0.4444444444444444,\"#bd3786\"],[0.5555555555555556,\"#d8576b\"],[0.6666666666666666,\"#ed7953\"],[0.7777777777777778,\"#fb9f3a\"],[0.8888888888888888,\"#fdca26\"],[1.0,\"#f0f921\"]],\"sequentialminus\":[[0.0,\"#0d0887\"],[0.1111111111111111,\"#46039f\"],[0.2222222222222222,\"#7201a8\"],[0.3333333333333333,\"#9c179e\"],[0.4444444444444444,\"#bd3786\"],[0.5555555555555556,\"#d8576b\"],[0.6666666666666666,\"#ed7953\"],[0.7777777777777778,\"#fb9f3a\"],[0.8888888888888888,\"#fdca26\"],[1.0,\"#f0f921\"]],\"diverging\":[[0,\"#8e0152\"],[0.1,\"#c51b7d\"],[0.2,\"#de77ae\"],[0.3,\"#f1b6da\"],[0.4,\"#fde0ef\"],[0.5,\"#f7f7f7\"],[0.6,\"#e6f5d0\"],[0.7,\"#b8e186\"],[0.8,\"#7fbc41\"],[0.9,\"#4d9221\"],[1,\"#276419\"]]},\"xaxis\":{\"gridcolor\":\"white\",\"linecolor\":\"white\",\"ticks\":\"\",\"title\":{\"standoff\":15},\"zerolinecolor\":\"white\",\"automargin\":true,\"zerolinewidth\":2},\"yaxis\":{\"gridcolor\":\"white\",\"linecolor\":\"white\",\"ticks\":\"\",\"title\":{\"standoff\":15},\"zerolinecolor\":\"white\",\"automargin\":true,\"zerolinewidth\":2},\"scene\":{\"xaxis\":{\"backgroundcolor\":\"#E5ECF6\",\"gridcolor\":\"white\",\"linecolor\":\"white\",\"showbackground\":true,\"ticks\":\"\",\"zerolinecolor\":\"white\",\"gridwidth\":2},\"yaxis\":{\"backgroundcolor\":\"#E5ECF6\",\"gridcolor\":\"white\",\"linecolor\":\"white\",\"showbackground\":true,\"ticks\":\"\",\"zerolinecolor\":\"white\",\"gridwidth\":2},\"zaxis\":{\"backgroundcolor\":\"#E5ECF6\",\"gridcolor\":\"white\",\"linecolor\":\"white\",\"showbackground\":true,\"ticks\":\"\",\"zerolinecolor\":\"white\",\"gridwidth\":2}},\"shapedefaults\":{\"line\":{\"color\":\"#2a3f5f\"}},\"annotationdefaults\":{\"arrowcolor\":\"#2a3f5f\",\"arrowhead\":0,\"arrowwidth\":1},\"geo\":{\"bgcolor\":\"white\",\"landcolor\":\"#E5ECF6\",\"subunitcolor\":\"white\",\"showland\":true,\"showlakes\":true,\"lakecolor\":\"white\"},\"title\":{\"x\":0.05},\"mapbox\":{\"style\":\"light\"}}},\"xaxis\":{\"anchor\":\"y\",\"domain\":[0.0,1.0],\"title\":{\"text\":\"x\"}},\"yaxis\":{\"anchor\":\"x\",\"domain\":[0.0,1.0],\"title\":{\"text\":\"y\"}},\"legend\":{\"title\":{\"text\":\"group\"},\"tracegroupgap\":0},\"margin\":{\"t\":60}},                        {\"responsive\": true}                    ).then(function(){\n",
              "                            \n",
              "var gd = document.getElementById('690375ad-86ea-4911-b77a-8f9058e8f9b7');\n",
              "var x = new MutationObserver(function (mutations, observer) {{\n",
              "        var display = window.getComputedStyle(gd).display;\n",
              "        if (!display || display === 'none') {{\n",
              "            console.log([gd, 'removed!']);\n",
              "            Plotly.purge(gd);\n",
              "            observer.disconnect();\n",
              "        }}\n",
              "}});\n",
              "\n",
              "// Listen for the removal of the full notebook cells\n",
              "var notebookContainer = gd.closest('#notebook-container');\n",
              "if (notebookContainer) {{\n",
              "    x.observe(notebookContainer, {childList: true});\n",
              "}}\n",
              "\n",
              "// Listen for the clearing of the current output cell\n",
              "var outputEl = gd.closest('.output');\n",
              "if (outputEl) {{\n",
              "    x.observe(outputEl, {childList: true});\n",
              "}}\n",
              "\n",
              "                        })                };                            </script>        </div>\n",
              "</body>\n",
              "</html>"
            ]
          },
          "metadata": {}
        }
      ]
    },
    {
      "cell_type": "code",
      "source": [
        "display_pca_scatterplot_groups_of_five(model, word_list)"
      ],
      "metadata": {
        "colab": {
          "base_uri": "https://localhost:8080/",
          "height": 542
        },
        "id": "bdaSPlnUqfiG",
        "outputId": "127b6cce-761b-45b8-8550-034616ca5688"
      },
      "id": "bdaSPlnUqfiG",
      "execution_count": 95,
      "outputs": [
        {
          "output_type": "display_data",
          "data": {
            "text/html": [
              "<html>\n",
              "<head><meta charset=\"utf-8\" /></head>\n",
              "<body>\n",
              "    <div>            <script src=\"https://cdnjs.cloudflare.com/ajax/libs/mathjax/2.7.5/MathJax.js?config=TeX-AMS-MML_SVG\"></script><script type=\"text/javascript\">if (window.MathJax && window.MathJax.Hub && window.MathJax.Hub.Config) {window.MathJax.Hub.Config({SVG: {font: \"STIX-Web\"}});}</script>                <script type=\"text/javascript\">window.PlotlyConfig = {MathJaxConfig: 'local'};</script>\n",
              "        <script charset=\"utf-8\" src=\"https://cdn.plot.ly/plotly-2.24.1.min.js\"></script>                <div id=\"90d40643-3f17-4a70-8b7b-cbfb312ade58\" class=\"plotly-graph-div\" style=\"height:525px; width:100%;\"></div>            <script type=\"text/javascript\">                                    window.PLOTLYENV=window.PLOTLYENV || {};                                    if (document.getElementById(\"90d40643-3f17-4a70-8b7b-cbfb312ade58\")) {                    Plotly.newPlot(                        \"90d40643-3f17-4a70-8b7b-cbfb312ade58\",                        [{\"hovertemplate\":\"group=fearless\\u003cbr\\u003ex=%{x}\\u003cbr\\u003ey=%{y}\\u003cbr\\u003eword=%{text}\\u003cextra\\u003e\\u003c\\u002fextra\\u003e\",\"legendgroup\":\"fearless\",\"marker\":{\"color\":\"#636efa\",\"symbol\":\"circle\"},\"mode\":\"markers+text\",\"name\":\"fearless\",\"orientation\":\"v\",\"showlegend\":true,\"text\":[\"breathe\",\"fearless\",\"stephen\",\"romeo\",\"belong\"],\"x\":[-0.12002193927764893,1.6815159320831299,0.4204857647418976,1.3663177490234375,0.13582584261894226],\"xaxis\":\"x\",\"y\":[0.3332875072956085,1.2074663639068604,0.5107733607292175,0.8050221800804138,0.7869048714637756],\"yaxis\":\"y\",\"type\":\"scatter\",\"textposition\":\"top center\"},{\"hovertemplate\":\"group=speaknow\\u003cbr\\u003ex=%{x}\\u003cbr\\u003ey=%{y}\\u003cbr\\u003eword=%{text}\\u003cextra\\u003e\\u003c\\u002fextra\\u003e\",\"legendgroup\":\"speaknow\",\"marker\":{\"color\":\"#EF553B\",\"symbol\":\"circle\"},\"mode\":\"markers+text\",\"name\":\"speaknow\",\"orientation\":\"v\",\"showlegend\":true,\"text\":[\"enchanted\",\"december\",\"john\",\"innocent\",\"now\"],\"x\":[3.8604230880737305,-0.6341673731803894,-1.2094806432724,-0.3240552544593811,-2.7655296325683594],\"xaxis\":\"x\",\"y\":[-0.6371594667434692,0.00698331743478775,0.5260157585144043,0.6180834770202637,-0.24883583188056946],\"yaxis\":\"y\",\"type\":\"scatter\",\"textposition\":\"top center\"},{\"hovertemplate\":\"group=red\\u003cbr\\u003ex=%{x}\\u003cbr\\u003ey=%{y}\\u003cbr\\u003eword=%{text}\\u003cextra\\u003e\\u003c\\u002fextra\\u003e\",\"legendgroup\":\"red\",\"marker\":{\"color\":\"#00cc96\",\"symbol\":\"circle\"},\"mode\":\"markers+text\",\"name\":\"red\",\"orientation\":\"v\",\"showlegend\":true,\"text\":[\"red\",\"well\",\"twenty\",\"trouble\",\"stay\"],\"x\":[-0.8391140699386597,-2.7007815837860107,0.7179229259490967,-0.453708678483963,-2.0797152519226074],\"xaxis\":\"x\",\"y\":[-1.0639859437942505,-0.7942086458206177,3.7860846519470215,0.7998939156532288,0.020757336169481277],\"yaxis\":\"y\",\"type\":\"scatter\",\"textposition\":\"top center\"},{\"hovertemplate\":\"group=1989\\u003cbr\\u003ex=%{x}\\u003cbr\\u003ey=%{y}\\u003cbr\\u003eword=%{text}\\u003cextra\\u003e\\u003c\\u002fextra\\u003e\",\"legendgroup\":\"1989\",\"marker\":{\"color\":\"#ab63fa\",\"symbol\":\"circle\"},\"mode\":\"markers+text\",\"name\":\"1989\",\"orientation\":\"v\",\"showlegend\":true,\"text\":[\"welcome\",\"space\",\"woods\",\"james\",\"wildest\"],\"x\":[-1.9846514463424683,-0.4938918352127075,1.1084928512573242,-0.7047665119171143,3.7417521476745605],\"xaxis\":\"x\",\"y\":[-0.8551745414733887,-0.11307043582201004,0.08903403580188751,0.10656877607107162,-1.0432037115097046],\"yaxis\":\"y\",\"type\":\"scatter\",\"textposition\":\"top center\"},{\"hovertemplate\":\"group=reputation\\u003cbr\\u003ex=%{x}\\u003cbr\\u003ey=%{y}\\u003cbr\\u003eword=%{text}\\u003cextra\\u003e\\u003c\\u002fextra\\u003e\",\"legendgroup\":\"reputation\",\"marker\":{\"color\":\"#FFA15A\",\"symbol\":\"circle\"},\"mode\":\"markers+text\",\"name\":\"reputation\",\"orientation\":\"v\",\"showlegend\":true,\"text\":[\"delicate\",\"crazy\",\"look\",\"ready\",\"gorgeous\"],\"x\":[2.644078254699707,-1.5301119089126587,-2.589816093444824,-2.272887945175171,-0.9178765416145325],\"xaxis\":\"x\",\"y\":[-1.5368971824645996,-0.3997238278388977,-1.0208526849746704,-0.6666959524154663,-2.3737518787384033],\"yaxis\":\"y\",\"type\":\"scatter\",\"textposition\":\"top center\"},{\"hovertemplate\":\"group=lover\\u003cbr\\u003ex=%{x}\\u003cbr\\u003ey=%{y}\\u003cbr\\u003eword=%{text}\\u003cextra\\u003e\\u003c\\u002fextra\\u003e\",\"legendgroup\":\"lover\",\"marker\":{\"color\":\"#19d3f3\",\"symbol\":\"circle\"},\"mode\":\"markers+text\",\"name\":\"lover\",\"orientation\":\"v\",\"showlegend\":true,\"text\":[\"thousand\",\"miss\",\"pageant\",\"london\",\"archer\"],\"x\":[0.4099098742008209,-2.088940382003784,2.0320398807525635,-1.254866361618042,2.5665993690490723],\"xaxis\":\"x\",\"y\":[4.864161491394043,-0.9753744006156921,-1.8822687864303589,-0.8504884243011475,-0.8885586261749268],\"yaxis\":\"y\",\"type\":\"scatter\",\"textposition\":\"top center\"},{\"hovertemplate\":\"group=midnights\\u003cbr\\u003ex=%{x}\\u003cbr\\u003ey=%{y}\\u003cbr\\u003eword=%{text}\\u003cextra\\u003e\\u003c\\u002fextra\\u003e\",\"legendgroup\":\"midnights\",\"marker\":{\"color\":\"#FF6692\",\"symbol\":\"circle\"},\"mode\":\"markers+text\",\"name\":\"midnights\",\"orientation\":\"v\",\"showlegend\":true,\"text\":[\"lavender\",\"karma\",\"maroon\",\"haze\",\"hero\"],\"x\":[3.0111846923828125,-0.3058761656284332,0.6750789284706116,1.606942057609558,-0.7083166837692261],\"xaxis\":\"x\",\"y\":[-1.638904094696045,0.07069893926382065,2.2747411727905273,-1.0155267715454102,1.1982033252716064],\"yaxis\":\"y\",\"type\":\"scatter\",\"textposition\":\"top center\"}],                        {\"template\":{\"data\":{\"histogram2dcontour\":[{\"type\":\"histogram2dcontour\",\"colorbar\":{\"outlinewidth\":0,\"ticks\":\"\"},\"colorscale\":[[0.0,\"#0d0887\"],[0.1111111111111111,\"#46039f\"],[0.2222222222222222,\"#7201a8\"],[0.3333333333333333,\"#9c179e\"],[0.4444444444444444,\"#bd3786\"],[0.5555555555555556,\"#d8576b\"],[0.6666666666666666,\"#ed7953\"],[0.7777777777777778,\"#fb9f3a\"],[0.8888888888888888,\"#fdca26\"],[1.0,\"#f0f921\"]]}],\"choropleth\":[{\"type\":\"choropleth\",\"colorbar\":{\"outlinewidth\":0,\"ticks\":\"\"}}],\"histogram2d\":[{\"type\":\"histogram2d\",\"colorbar\":{\"outlinewidth\":0,\"ticks\":\"\"},\"colorscale\":[[0.0,\"#0d0887\"],[0.1111111111111111,\"#46039f\"],[0.2222222222222222,\"#7201a8\"],[0.3333333333333333,\"#9c179e\"],[0.4444444444444444,\"#bd3786\"],[0.5555555555555556,\"#d8576b\"],[0.6666666666666666,\"#ed7953\"],[0.7777777777777778,\"#fb9f3a\"],[0.8888888888888888,\"#fdca26\"],[1.0,\"#f0f921\"]]}],\"heatmap\":[{\"type\":\"heatmap\",\"colorbar\":{\"outlinewidth\":0,\"ticks\":\"\"},\"colorscale\":[[0.0,\"#0d0887\"],[0.1111111111111111,\"#46039f\"],[0.2222222222222222,\"#7201a8\"],[0.3333333333333333,\"#9c179e\"],[0.4444444444444444,\"#bd3786\"],[0.5555555555555556,\"#d8576b\"],[0.6666666666666666,\"#ed7953\"],[0.7777777777777778,\"#fb9f3a\"],[0.8888888888888888,\"#fdca26\"],[1.0,\"#f0f921\"]]}],\"heatmapgl\":[{\"type\":\"heatmapgl\",\"colorbar\":{\"outlinewidth\":0,\"ticks\":\"\"},\"colorscale\":[[0.0,\"#0d0887\"],[0.1111111111111111,\"#46039f\"],[0.2222222222222222,\"#7201a8\"],[0.3333333333333333,\"#9c179e\"],[0.4444444444444444,\"#bd3786\"],[0.5555555555555556,\"#d8576b\"],[0.6666666666666666,\"#ed7953\"],[0.7777777777777778,\"#fb9f3a\"],[0.8888888888888888,\"#fdca26\"],[1.0,\"#f0f921\"]]}],\"contourcarpet\":[{\"type\":\"contourcarpet\",\"colorbar\":{\"outlinewidth\":0,\"ticks\":\"\"}}],\"contour\":[{\"type\":\"contour\",\"colorbar\":{\"outlinewidth\":0,\"ticks\":\"\"},\"colorscale\":[[0.0,\"#0d0887\"],[0.1111111111111111,\"#46039f\"],[0.2222222222222222,\"#7201a8\"],[0.3333333333333333,\"#9c179e\"],[0.4444444444444444,\"#bd3786\"],[0.5555555555555556,\"#d8576b\"],[0.6666666666666666,\"#ed7953\"],[0.7777777777777778,\"#fb9f3a\"],[0.8888888888888888,\"#fdca26\"],[1.0,\"#f0f921\"]]}],\"surface\":[{\"type\":\"surface\",\"colorbar\":{\"outlinewidth\":0,\"ticks\":\"\"},\"colorscale\":[[0.0,\"#0d0887\"],[0.1111111111111111,\"#46039f\"],[0.2222222222222222,\"#7201a8\"],[0.3333333333333333,\"#9c179e\"],[0.4444444444444444,\"#bd3786\"],[0.5555555555555556,\"#d8576b\"],[0.6666666666666666,\"#ed7953\"],[0.7777777777777778,\"#fb9f3a\"],[0.8888888888888888,\"#fdca26\"],[1.0,\"#f0f921\"]]}],\"mesh3d\":[{\"type\":\"mesh3d\",\"colorbar\":{\"outlinewidth\":0,\"ticks\":\"\"}}],\"scatter\":[{\"fillpattern\":{\"fillmode\":\"overlay\",\"size\":10,\"solidity\":0.2},\"type\":\"scatter\"}],\"parcoords\":[{\"type\":\"parcoords\",\"line\":{\"colorbar\":{\"outlinewidth\":0,\"ticks\":\"\"}}}],\"scatterpolargl\":[{\"type\":\"scatterpolargl\",\"marker\":{\"colorbar\":{\"outlinewidth\":0,\"ticks\":\"\"}}}],\"bar\":[{\"error_x\":{\"color\":\"#2a3f5f\"},\"error_y\":{\"color\":\"#2a3f5f\"},\"marker\":{\"line\":{\"color\":\"#E5ECF6\",\"width\":0.5},\"pattern\":{\"fillmode\":\"overlay\",\"size\":10,\"solidity\":0.2}},\"type\":\"bar\"}],\"scattergeo\":[{\"type\":\"scattergeo\",\"marker\":{\"colorbar\":{\"outlinewidth\":0,\"ticks\":\"\"}}}],\"scatterpolar\":[{\"type\":\"scatterpolar\",\"marker\":{\"colorbar\":{\"outlinewidth\":0,\"ticks\":\"\"}}}],\"histogram\":[{\"marker\":{\"pattern\":{\"fillmode\":\"overlay\",\"size\":10,\"solidity\":0.2}},\"type\":\"histogram\"}],\"scattergl\":[{\"type\":\"scattergl\",\"marker\":{\"colorbar\":{\"outlinewidth\":0,\"ticks\":\"\"}}}],\"scatter3d\":[{\"type\":\"scatter3d\",\"line\":{\"colorbar\":{\"outlinewidth\":0,\"ticks\":\"\"}},\"marker\":{\"colorbar\":{\"outlinewidth\":0,\"ticks\":\"\"}}}],\"scattermapbox\":[{\"type\":\"scattermapbox\",\"marker\":{\"colorbar\":{\"outlinewidth\":0,\"ticks\":\"\"}}}],\"scatterternary\":[{\"type\":\"scatterternary\",\"marker\":{\"colorbar\":{\"outlinewidth\":0,\"ticks\":\"\"}}}],\"scattercarpet\":[{\"type\":\"scattercarpet\",\"marker\":{\"colorbar\":{\"outlinewidth\":0,\"ticks\":\"\"}}}],\"carpet\":[{\"aaxis\":{\"endlinecolor\":\"#2a3f5f\",\"gridcolor\":\"white\",\"linecolor\":\"white\",\"minorgridcolor\":\"white\",\"startlinecolor\":\"#2a3f5f\"},\"baxis\":{\"endlinecolor\":\"#2a3f5f\",\"gridcolor\":\"white\",\"linecolor\":\"white\",\"minorgridcolor\":\"white\",\"startlinecolor\":\"#2a3f5f\"},\"type\":\"carpet\"}],\"table\":[{\"cells\":{\"fill\":{\"color\":\"#EBF0F8\"},\"line\":{\"color\":\"white\"}},\"header\":{\"fill\":{\"color\":\"#C8D4E3\"},\"line\":{\"color\":\"white\"}},\"type\":\"table\"}],\"barpolar\":[{\"marker\":{\"line\":{\"color\":\"#E5ECF6\",\"width\":0.5},\"pattern\":{\"fillmode\":\"overlay\",\"size\":10,\"solidity\":0.2}},\"type\":\"barpolar\"}],\"pie\":[{\"automargin\":true,\"type\":\"pie\"}]},\"layout\":{\"autotypenumbers\":\"strict\",\"colorway\":[\"#636efa\",\"#EF553B\",\"#00cc96\",\"#ab63fa\",\"#FFA15A\",\"#19d3f3\",\"#FF6692\",\"#B6E880\",\"#FF97FF\",\"#FECB52\"],\"font\":{\"color\":\"#2a3f5f\"},\"hovermode\":\"closest\",\"hoverlabel\":{\"align\":\"left\"},\"paper_bgcolor\":\"white\",\"plot_bgcolor\":\"#E5ECF6\",\"polar\":{\"bgcolor\":\"#E5ECF6\",\"angularaxis\":{\"gridcolor\":\"white\",\"linecolor\":\"white\",\"ticks\":\"\"},\"radialaxis\":{\"gridcolor\":\"white\",\"linecolor\":\"white\",\"ticks\":\"\"}},\"ternary\":{\"bgcolor\":\"#E5ECF6\",\"aaxis\":{\"gridcolor\":\"white\",\"linecolor\":\"white\",\"ticks\":\"\"},\"baxis\":{\"gridcolor\":\"white\",\"linecolor\":\"white\",\"ticks\":\"\"},\"caxis\":{\"gridcolor\":\"white\",\"linecolor\":\"white\",\"ticks\":\"\"}},\"coloraxis\":{\"colorbar\":{\"outlinewidth\":0,\"ticks\":\"\"}},\"colorscale\":{\"sequential\":[[0.0,\"#0d0887\"],[0.1111111111111111,\"#46039f\"],[0.2222222222222222,\"#7201a8\"],[0.3333333333333333,\"#9c179e\"],[0.4444444444444444,\"#bd3786\"],[0.5555555555555556,\"#d8576b\"],[0.6666666666666666,\"#ed7953\"],[0.7777777777777778,\"#fb9f3a\"],[0.8888888888888888,\"#fdca26\"],[1.0,\"#f0f921\"]],\"sequentialminus\":[[0.0,\"#0d0887\"],[0.1111111111111111,\"#46039f\"],[0.2222222222222222,\"#7201a8\"],[0.3333333333333333,\"#9c179e\"],[0.4444444444444444,\"#bd3786\"],[0.5555555555555556,\"#d8576b\"],[0.6666666666666666,\"#ed7953\"],[0.7777777777777778,\"#fb9f3a\"],[0.8888888888888888,\"#fdca26\"],[1.0,\"#f0f921\"]],\"diverging\":[[0,\"#8e0152\"],[0.1,\"#c51b7d\"],[0.2,\"#de77ae\"],[0.3,\"#f1b6da\"],[0.4,\"#fde0ef\"],[0.5,\"#f7f7f7\"],[0.6,\"#e6f5d0\"],[0.7,\"#b8e186\"],[0.8,\"#7fbc41\"],[0.9,\"#4d9221\"],[1,\"#276419\"]]},\"xaxis\":{\"gridcolor\":\"white\",\"linecolor\":\"white\",\"ticks\":\"\",\"title\":{\"standoff\":15},\"zerolinecolor\":\"white\",\"automargin\":true,\"zerolinewidth\":2},\"yaxis\":{\"gridcolor\":\"white\",\"linecolor\":\"white\",\"ticks\":\"\",\"title\":{\"standoff\":15},\"zerolinecolor\":\"white\",\"automargin\":true,\"zerolinewidth\":2},\"scene\":{\"xaxis\":{\"backgroundcolor\":\"#E5ECF6\",\"gridcolor\":\"white\",\"linecolor\":\"white\",\"showbackground\":true,\"ticks\":\"\",\"zerolinecolor\":\"white\",\"gridwidth\":2},\"yaxis\":{\"backgroundcolor\":\"#E5ECF6\",\"gridcolor\":\"white\",\"linecolor\":\"white\",\"showbackground\":true,\"ticks\":\"\",\"zerolinecolor\":\"white\",\"gridwidth\":2},\"zaxis\":{\"backgroundcolor\":\"#E5ECF6\",\"gridcolor\":\"white\",\"linecolor\":\"white\",\"showbackground\":true,\"ticks\":\"\",\"zerolinecolor\":\"white\",\"gridwidth\":2}},\"shapedefaults\":{\"line\":{\"color\":\"#2a3f5f\"}},\"annotationdefaults\":{\"arrowcolor\":\"#2a3f5f\",\"arrowhead\":0,\"arrowwidth\":1},\"geo\":{\"bgcolor\":\"white\",\"landcolor\":\"#E5ECF6\",\"subunitcolor\":\"white\",\"showland\":true,\"showlakes\":true,\"lakecolor\":\"white\"},\"title\":{\"x\":0.05},\"mapbox\":{\"style\":\"light\"}}},\"xaxis\":{\"anchor\":\"y\",\"domain\":[0.0,1.0],\"title\":{\"text\":\"x\"}},\"yaxis\":{\"anchor\":\"x\",\"domain\":[0.0,1.0],\"title\":{\"text\":\"y\"}},\"legend\":{\"title\":{\"text\":\"group\"},\"tracegroupgap\":0},\"margin\":{\"t\":60}},                        {\"responsive\": true}                    ).then(function(){\n",
              "                            \n",
              "var gd = document.getElementById('90d40643-3f17-4a70-8b7b-cbfb312ade58');\n",
              "var x = new MutationObserver(function (mutations, observer) {{\n",
              "        var display = window.getComputedStyle(gd).display;\n",
              "        if (!display || display === 'none') {{\n",
              "            console.log([gd, 'removed!']);\n",
              "            Plotly.purge(gd);\n",
              "            observer.disconnect();\n",
              "        }}\n",
              "}});\n",
              "\n",
              "// Listen for the removal of the full notebook cells\n",
              "var notebookContainer = gd.closest('#notebook-container');\n",
              "if (notebookContainer) {{\n",
              "    x.observe(notebookContainer, {childList: true});\n",
              "}}\n",
              "\n",
              "// Listen for the clearing of the current output cell\n",
              "var outputEl = gd.closest('.output');\n",
              "if (outputEl) {{\n",
              "    x.observe(outputEl, {childList: true});\n",
              "}}\n",
              "\n",
              "                        })                };                            </script>        </div>\n",
              "</body>\n",
              "</html>"
            ]
          },
          "metadata": {}
        }
      ]
    },
    {
      "cell_type": "code",
      "source": [
        "#altered code for groups of 5_smaller\n",
        "def display_pca_scatterplot_groups_of_five_smaller(model, words=None, sample=0):\n",
        "  if len(words) < 30:\n",
        "    print(\"WARNING: For your report, please select more than 30 word samples for the visualization\")\n",
        "    print(f\"Current length of input word list: {len(words)}\")\n",
        "\n",
        "  word_vectors = np.array([model[w] for w in words])\n",
        "  twodim = PCA().fit_transform(word_vectors)[:,:2]\n",
        "\n",
        "  # Create a DataFrame for visualization with Plotly\n",
        "  import pandas as pd\n",
        "  df = pd.DataFrame(twodim, columns=['x', 'y'])\n",
        "  df['word'] = words\n",
        "  df['group'] = ['lover'] * 5 + ['reputation'] * 5 + ['midnights'] * 5 #assign groups of 5\n",
        "\n",
        "  # Plot the scatterplot with different colors for each group\n",
        "  fig = px.scatter(df, x='x', y='y', text='word', color='group')\n",
        "  fig.update_traces(textposition='top center')\n",
        "  # fig.update_layout(xaxis_type='log')\n",
        "  # fig.update_layout(yaxis_type='log')\n",
        "  fig.show()"
      ],
      "metadata": {
        "id": "257xfkGrqgh7"
      },
      "id": "257xfkGrqgh7",
      "execution_count": 96,
      "outputs": []
    },
    {
      "cell_type": "code",
      "source": [
        "word_list = [\n",
        "  #lover era(5)\n",
        "  'lover', 'cornelia', 'cruel', 'london', 'death',\n",
        "  #reputation era\n",
        "  'delicate', 'end', 'blame', 'getaway', 'tied',\n",
        "  #midnights era\n",
        "  'karma', 'lavender', 'maroon', 'mastermind', 'midnight'\n",
        "]\n",
        "display_pca_scatterplot_groups_of_five_smaller(taylor_model, word_list)"
      ],
      "metadata": {
        "colab": {
          "base_uri": "https://localhost:8080/",
          "height": 578
        },
        "id": "QsaR256sqhu-",
        "outputId": "67be17ae-008d-4e63-c885-2cbf1964cfe6"
      },
      "id": "QsaR256sqhu-",
      "execution_count": 97,
      "outputs": [
        {
          "output_type": "stream",
          "name": "stdout",
          "text": [
            "WARNING: For your report, please select more than 30 word samples for the visualization\n",
            "Current length of input word list: 15\n"
          ]
        },
        {
          "output_type": "display_data",
          "data": {
            "text/html": [
              "<html>\n",
              "<head><meta charset=\"utf-8\" /></head>\n",
              "<body>\n",
              "    <div>            <script src=\"https://cdnjs.cloudflare.com/ajax/libs/mathjax/2.7.5/MathJax.js?config=TeX-AMS-MML_SVG\"></script><script type=\"text/javascript\">if (window.MathJax && window.MathJax.Hub && window.MathJax.Hub.Config) {window.MathJax.Hub.Config({SVG: {font: \"STIX-Web\"}});}</script>                <script type=\"text/javascript\">window.PlotlyConfig = {MathJaxConfig: 'local'};</script>\n",
              "        <script charset=\"utf-8\" src=\"https://cdn.plot.ly/plotly-2.24.1.min.js\"></script>                <div id=\"a7c8dcc2-f28a-4e3b-ad6d-82f9e76ea581\" class=\"plotly-graph-div\" style=\"height:525px; width:100%;\"></div>            <script type=\"text/javascript\">                                    window.PLOTLYENV=window.PLOTLYENV || {};                                    if (document.getElementById(\"a7c8dcc2-f28a-4e3b-ad6d-82f9e76ea581\")) {                    Plotly.newPlot(                        \"a7c8dcc2-f28a-4e3b-ad6d-82f9e76ea581\",                        [{\"hovertemplate\":\"group=lover\\u003cbr\\u003ex=%{x}\\u003cbr\\u003ey=%{y}\\u003cbr\\u003eword=%{text}\\u003cextra\\u003e\\u003c\\u002fextra\\u003e\",\"legendgroup\":\"lover\",\"marker\":{\"color\":\"#636efa\",\"symbol\":\"circle\"},\"mode\":\"markers+text\",\"name\":\"lover\",\"orientation\":\"v\",\"showlegend\":true,\"text\":[\"lover\",\"cornelia\",\"cruel\",\"london\",\"death\"],\"x\":[-0.13936752080917358,0.0831785574555397,-0.23736260831356049,-0.18731938302516937,-0.34755611419677734],\"xaxis\":\"x\",\"y\":[-0.3454563319683075,-1.056256890296936,-0.3431771397590637,-0.170377716422081,-0.12440477311611176],\"yaxis\":\"y\",\"type\":\"scatter\",\"textposition\":\"top center\"},{\"hovertemplate\":\"group=reputation\\u003cbr\\u003ex=%{x}\\u003cbr\\u003ey=%{y}\\u003cbr\\u003eword=%{text}\\u003cextra\\u003e\\u003c\\u002fextra\\u003e\",\"legendgroup\":\"reputation\",\"marker\":{\"color\":\"#EF553B\",\"symbol\":\"circle\"},\"mode\":\"markers+text\",\"name\":\"reputation\",\"orientation\":\"v\",\"showlegend\":true,\"text\":[\"delicate\",\"end\",\"blame\",\"getaway\",\"tied\"],\"x\":[-0.0253938976675272,0.12632374465465546,-0.060394614934921265,-0.08063884824514389,-0.19642916321754456],\"xaxis\":\"x\",\"y\":[-0.29750075936317444,1.040193796157837,-0.1297174096107483,-0.24526847898960114,-0.649258553981781],\"yaxis\":\"y\",\"type\":\"scatter\",\"textposition\":\"top center\"},{\"hovertemplate\":\"group=midnights\\u003cbr\\u003ex=%{x}\\u003cbr\\u003ey=%{y}\\u003cbr\\u003eword=%{text}\\u003cextra\\u003e\\u003c\\u002fextra\\u003e\",\"legendgroup\":\"midnights\",\"marker\":{\"color\":\"#00cc96\",\"symbol\":\"circle\"},\"mode\":\"markers+text\",\"name\":\"midnights\",\"orientation\":\"v\",\"showlegend\":true,\"text\":[\"karma\",\"lavender\",\"maroon\",\"mastermind\",\"midnight\"],\"x\":[-1.3347195386886597,2.9859185218811035,-0.18768645823001862,-0.08631348609924316,-0.31224003434181213],\"xaxis\":\"x\",\"y\":[2.1785972118377686,0.8089240789413452,-0.5984653234481812,-0.2304646372795105,0.16263270378112793],\"yaxis\":\"y\",\"type\":\"scatter\",\"textposition\":\"top center\"}],                        {\"template\":{\"data\":{\"histogram2dcontour\":[{\"type\":\"histogram2dcontour\",\"colorbar\":{\"outlinewidth\":0,\"ticks\":\"\"},\"colorscale\":[[0.0,\"#0d0887\"],[0.1111111111111111,\"#46039f\"],[0.2222222222222222,\"#7201a8\"],[0.3333333333333333,\"#9c179e\"],[0.4444444444444444,\"#bd3786\"],[0.5555555555555556,\"#d8576b\"],[0.6666666666666666,\"#ed7953\"],[0.7777777777777778,\"#fb9f3a\"],[0.8888888888888888,\"#fdca26\"],[1.0,\"#f0f921\"]]}],\"choropleth\":[{\"type\":\"choropleth\",\"colorbar\":{\"outlinewidth\":0,\"ticks\":\"\"}}],\"histogram2d\":[{\"type\":\"histogram2d\",\"colorbar\":{\"outlinewidth\":0,\"ticks\":\"\"},\"colorscale\":[[0.0,\"#0d0887\"],[0.1111111111111111,\"#46039f\"],[0.2222222222222222,\"#7201a8\"],[0.3333333333333333,\"#9c179e\"],[0.4444444444444444,\"#bd3786\"],[0.5555555555555556,\"#d8576b\"],[0.6666666666666666,\"#ed7953\"],[0.7777777777777778,\"#fb9f3a\"],[0.8888888888888888,\"#fdca26\"],[1.0,\"#f0f921\"]]}],\"heatmap\":[{\"type\":\"heatmap\",\"colorbar\":{\"outlinewidth\":0,\"ticks\":\"\"},\"colorscale\":[[0.0,\"#0d0887\"],[0.1111111111111111,\"#46039f\"],[0.2222222222222222,\"#7201a8\"],[0.3333333333333333,\"#9c179e\"],[0.4444444444444444,\"#bd3786\"],[0.5555555555555556,\"#d8576b\"],[0.6666666666666666,\"#ed7953\"],[0.7777777777777778,\"#fb9f3a\"],[0.8888888888888888,\"#fdca26\"],[1.0,\"#f0f921\"]]}],\"heatmapgl\":[{\"type\":\"heatmapgl\",\"colorbar\":{\"outlinewidth\":0,\"ticks\":\"\"},\"colorscale\":[[0.0,\"#0d0887\"],[0.1111111111111111,\"#46039f\"],[0.2222222222222222,\"#7201a8\"],[0.3333333333333333,\"#9c179e\"],[0.4444444444444444,\"#bd3786\"],[0.5555555555555556,\"#d8576b\"],[0.6666666666666666,\"#ed7953\"],[0.7777777777777778,\"#fb9f3a\"],[0.8888888888888888,\"#fdca26\"],[1.0,\"#f0f921\"]]}],\"contourcarpet\":[{\"type\":\"contourcarpet\",\"colorbar\":{\"outlinewidth\":0,\"ticks\":\"\"}}],\"contour\":[{\"type\":\"contour\",\"colorbar\":{\"outlinewidth\":0,\"ticks\":\"\"},\"colorscale\":[[0.0,\"#0d0887\"],[0.1111111111111111,\"#46039f\"],[0.2222222222222222,\"#7201a8\"],[0.3333333333333333,\"#9c179e\"],[0.4444444444444444,\"#bd3786\"],[0.5555555555555556,\"#d8576b\"],[0.6666666666666666,\"#ed7953\"],[0.7777777777777778,\"#fb9f3a\"],[0.8888888888888888,\"#fdca26\"],[1.0,\"#f0f921\"]]}],\"surface\":[{\"type\":\"surface\",\"colorbar\":{\"outlinewidth\":0,\"ticks\":\"\"},\"colorscale\":[[0.0,\"#0d0887\"],[0.1111111111111111,\"#46039f\"],[0.2222222222222222,\"#7201a8\"],[0.3333333333333333,\"#9c179e\"],[0.4444444444444444,\"#bd3786\"],[0.5555555555555556,\"#d8576b\"],[0.6666666666666666,\"#ed7953\"],[0.7777777777777778,\"#fb9f3a\"],[0.8888888888888888,\"#fdca26\"],[1.0,\"#f0f921\"]]}],\"mesh3d\":[{\"type\":\"mesh3d\",\"colorbar\":{\"outlinewidth\":0,\"ticks\":\"\"}}],\"scatter\":[{\"fillpattern\":{\"fillmode\":\"overlay\",\"size\":10,\"solidity\":0.2},\"type\":\"scatter\"}],\"parcoords\":[{\"type\":\"parcoords\",\"line\":{\"colorbar\":{\"outlinewidth\":0,\"ticks\":\"\"}}}],\"scatterpolargl\":[{\"type\":\"scatterpolargl\",\"marker\":{\"colorbar\":{\"outlinewidth\":0,\"ticks\":\"\"}}}],\"bar\":[{\"error_x\":{\"color\":\"#2a3f5f\"},\"error_y\":{\"color\":\"#2a3f5f\"},\"marker\":{\"line\":{\"color\":\"#E5ECF6\",\"width\":0.5},\"pattern\":{\"fillmode\":\"overlay\",\"size\":10,\"solidity\":0.2}},\"type\":\"bar\"}],\"scattergeo\":[{\"type\":\"scattergeo\",\"marker\":{\"colorbar\":{\"outlinewidth\":0,\"ticks\":\"\"}}}],\"scatterpolar\":[{\"type\":\"scatterpolar\",\"marker\":{\"colorbar\":{\"outlinewidth\":0,\"ticks\":\"\"}}}],\"histogram\":[{\"marker\":{\"pattern\":{\"fillmode\":\"overlay\",\"size\":10,\"solidity\":0.2}},\"type\":\"histogram\"}],\"scattergl\":[{\"type\":\"scattergl\",\"marker\":{\"colorbar\":{\"outlinewidth\":0,\"ticks\":\"\"}}}],\"scatter3d\":[{\"type\":\"scatter3d\",\"line\":{\"colorbar\":{\"outlinewidth\":0,\"ticks\":\"\"}},\"marker\":{\"colorbar\":{\"outlinewidth\":0,\"ticks\":\"\"}}}],\"scattermapbox\":[{\"type\":\"scattermapbox\",\"marker\":{\"colorbar\":{\"outlinewidth\":0,\"ticks\":\"\"}}}],\"scatterternary\":[{\"type\":\"scatterternary\",\"marker\":{\"colorbar\":{\"outlinewidth\":0,\"ticks\":\"\"}}}],\"scattercarpet\":[{\"type\":\"scattercarpet\",\"marker\":{\"colorbar\":{\"outlinewidth\":0,\"ticks\":\"\"}}}],\"carpet\":[{\"aaxis\":{\"endlinecolor\":\"#2a3f5f\",\"gridcolor\":\"white\",\"linecolor\":\"white\",\"minorgridcolor\":\"white\",\"startlinecolor\":\"#2a3f5f\"},\"baxis\":{\"endlinecolor\":\"#2a3f5f\",\"gridcolor\":\"white\",\"linecolor\":\"white\",\"minorgridcolor\":\"white\",\"startlinecolor\":\"#2a3f5f\"},\"type\":\"carpet\"}],\"table\":[{\"cells\":{\"fill\":{\"color\":\"#EBF0F8\"},\"line\":{\"color\":\"white\"}},\"header\":{\"fill\":{\"color\":\"#C8D4E3\"},\"line\":{\"color\":\"white\"}},\"type\":\"table\"}],\"barpolar\":[{\"marker\":{\"line\":{\"color\":\"#E5ECF6\",\"width\":0.5},\"pattern\":{\"fillmode\":\"overlay\",\"size\":10,\"solidity\":0.2}},\"type\":\"barpolar\"}],\"pie\":[{\"automargin\":true,\"type\":\"pie\"}]},\"layout\":{\"autotypenumbers\":\"strict\",\"colorway\":[\"#636efa\",\"#EF553B\",\"#00cc96\",\"#ab63fa\",\"#FFA15A\",\"#19d3f3\",\"#FF6692\",\"#B6E880\",\"#FF97FF\",\"#FECB52\"],\"font\":{\"color\":\"#2a3f5f\"},\"hovermode\":\"closest\",\"hoverlabel\":{\"align\":\"left\"},\"paper_bgcolor\":\"white\",\"plot_bgcolor\":\"#E5ECF6\",\"polar\":{\"bgcolor\":\"#E5ECF6\",\"angularaxis\":{\"gridcolor\":\"white\",\"linecolor\":\"white\",\"ticks\":\"\"},\"radialaxis\":{\"gridcolor\":\"white\",\"linecolor\":\"white\",\"ticks\":\"\"}},\"ternary\":{\"bgcolor\":\"#E5ECF6\",\"aaxis\":{\"gridcolor\":\"white\",\"linecolor\":\"white\",\"ticks\":\"\"},\"baxis\":{\"gridcolor\":\"white\",\"linecolor\":\"white\",\"ticks\":\"\"},\"caxis\":{\"gridcolor\":\"white\",\"linecolor\":\"white\",\"ticks\":\"\"}},\"coloraxis\":{\"colorbar\":{\"outlinewidth\":0,\"ticks\":\"\"}},\"colorscale\":{\"sequential\":[[0.0,\"#0d0887\"],[0.1111111111111111,\"#46039f\"],[0.2222222222222222,\"#7201a8\"],[0.3333333333333333,\"#9c179e\"],[0.4444444444444444,\"#bd3786\"],[0.5555555555555556,\"#d8576b\"],[0.6666666666666666,\"#ed7953\"],[0.7777777777777778,\"#fb9f3a\"],[0.8888888888888888,\"#fdca26\"],[1.0,\"#f0f921\"]],\"sequentialminus\":[[0.0,\"#0d0887\"],[0.1111111111111111,\"#46039f\"],[0.2222222222222222,\"#7201a8\"],[0.3333333333333333,\"#9c179e\"],[0.4444444444444444,\"#bd3786\"],[0.5555555555555556,\"#d8576b\"],[0.6666666666666666,\"#ed7953\"],[0.7777777777777778,\"#fb9f3a\"],[0.8888888888888888,\"#fdca26\"],[1.0,\"#f0f921\"]],\"diverging\":[[0,\"#8e0152\"],[0.1,\"#c51b7d\"],[0.2,\"#de77ae\"],[0.3,\"#f1b6da\"],[0.4,\"#fde0ef\"],[0.5,\"#f7f7f7\"],[0.6,\"#e6f5d0\"],[0.7,\"#b8e186\"],[0.8,\"#7fbc41\"],[0.9,\"#4d9221\"],[1,\"#276419\"]]},\"xaxis\":{\"gridcolor\":\"white\",\"linecolor\":\"white\",\"ticks\":\"\",\"title\":{\"standoff\":15},\"zerolinecolor\":\"white\",\"automargin\":true,\"zerolinewidth\":2},\"yaxis\":{\"gridcolor\":\"white\",\"linecolor\":\"white\",\"ticks\":\"\",\"title\":{\"standoff\":15},\"zerolinecolor\":\"white\",\"automargin\":true,\"zerolinewidth\":2},\"scene\":{\"xaxis\":{\"backgroundcolor\":\"#E5ECF6\",\"gridcolor\":\"white\",\"linecolor\":\"white\",\"showbackground\":true,\"ticks\":\"\",\"zerolinecolor\":\"white\",\"gridwidth\":2},\"yaxis\":{\"backgroundcolor\":\"#E5ECF6\",\"gridcolor\":\"white\",\"linecolor\":\"white\",\"showbackground\":true,\"ticks\":\"\",\"zerolinecolor\":\"white\",\"gridwidth\":2},\"zaxis\":{\"backgroundcolor\":\"#E5ECF6\",\"gridcolor\":\"white\",\"linecolor\":\"white\",\"showbackground\":true,\"ticks\":\"\",\"zerolinecolor\":\"white\",\"gridwidth\":2}},\"shapedefaults\":{\"line\":{\"color\":\"#2a3f5f\"}},\"annotationdefaults\":{\"arrowcolor\":\"#2a3f5f\",\"arrowhead\":0,\"arrowwidth\":1},\"geo\":{\"bgcolor\":\"white\",\"landcolor\":\"#E5ECF6\",\"subunitcolor\":\"white\",\"showland\":true,\"showlakes\":true,\"lakecolor\":\"white\"},\"title\":{\"x\":0.05},\"mapbox\":{\"style\":\"light\"}}},\"xaxis\":{\"anchor\":\"y\",\"domain\":[0.0,1.0],\"title\":{\"text\":\"x\"}},\"yaxis\":{\"anchor\":\"x\",\"domain\":[0.0,1.0],\"title\":{\"text\":\"y\"}},\"legend\":{\"title\":{\"text\":\"group\"},\"tracegroupgap\":0},\"margin\":{\"t\":60}},                        {\"responsive\": true}                    ).then(function(){\n",
              "                            \n",
              "var gd = document.getElementById('a7c8dcc2-f28a-4e3b-ad6d-82f9e76ea581');\n",
              "var x = new MutationObserver(function (mutations, observer) {{\n",
              "        var display = window.getComputedStyle(gd).display;\n",
              "        if (!display || display === 'none') {{\n",
              "            console.log([gd, 'removed!']);\n",
              "            Plotly.purge(gd);\n",
              "            observer.disconnect();\n",
              "        }}\n",
              "}});\n",
              "\n",
              "// Listen for the removal of the full notebook cells\n",
              "var notebookContainer = gd.closest('#notebook-container');\n",
              "if (notebookContainer) {{\n",
              "    x.observe(notebookContainer, {childList: true});\n",
              "}}\n",
              "\n",
              "// Listen for the clearing of the current output cell\n",
              "var outputEl = gd.closest('.output');\n",
              "if (outputEl) {{\n",
              "    x.observe(outputEl, {childList: true});\n",
              "}}\n",
              "\n",
              "                        })                };                            </script>        </div>\n",
              "</body>\n",
              "</html>"
            ]
          },
          "metadata": {}
        }
      ]
    },
    {
      "cell_type": "code",
      "source": [
        "word_list = [\n",
        "  # fearless album\n",
        "  'breathe', 'fearless', 'stephen', 'romeo', 'belong',\n",
        "  # speak now album\n",
        "  'enchanted', 'december', 'john', 'innocent', 'now',\n",
        "  # red album\n",
        "  'red', 'well', 'twenty', 'trouble', 'stay',\n",
        "]\n",
        "display_pca_scatterplot_groups_of_five_smaller(taylor_model, word_list)"
      ],
      "metadata": {
        "colab": {
          "base_uri": "https://localhost:8080/",
          "height": 578
        },
        "id": "UgGGC2mWqilY",
        "outputId": "8c8f6fa1-4373-4e64-b5ea-58d7f1ae6e69"
      },
      "id": "UgGGC2mWqilY",
      "execution_count": 98,
      "outputs": [
        {
          "output_type": "stream",
          "name": "stdout",
          "text": [
            "WARNING: For your report, please select more than 30 word samples for the visualization\n",
            "Current length of input word list: 15\n"
          ]
        },
        {
          "output_type": "display_data",
          "data": {
            "text/html": [
              "<html>\n",
              "<head><meta charset=\"utf-8\" /></head>\n",
              "<body>\n",
              "    <div>            <script src=\"https://cdnjs.cloudflare.com/ajax/libs/mathjax/2.7.5/MathJax.js?config=TeX-AMS-MML_SVG\"></script><script type=\"text/javascript\">if (window.MathJax && window.MathJax.Hub && window.MathJax.Hub.Config) {window.MathJax.Hub.Config({SVG: {font: \"STIX-Web\"}});}</script>                <script type=\"text/javascript\">window.PlotlyConfig = {MathJaxConfig: 'local'};</script>\n",
              "        <script charset=\"utf-8\" src=\"https://cdn.plot.ly/plotly-2.24.1.min.js\"></script>                <div id=\"f83bce98-8597-4363-8f39-c6200aad9a42\" class=\"plotly-graph-div\" style=\"height:525px; width:100%;\"></div>            <script type=\"text/javascript\">                                    window.PLOTLYENV=window.PLOTLYENV || {};                                    if (document.getElementById(\"f83bce98-8597-4363-8f39-c6200aad9a42\")) {                    Plotly.newPlot(                        \"f83bce98-8597-4363-8f39-c6200aad9a42\",                        [{\"hovertemplate\":\"group=lover\\u003cbr\\u003ex=%{x}\\u003cbr\\u003ey=%{y}\\u003cbr\\u003eword=%{text}\\u003cextra\\u003e\\u003c\\u002fextra\\u003e\",\"legendgroup\":\"lover\",\"marker\":{\"color\":\"#636efa\",\"symbol\":\"circle\"},\"mode\":\"markers+text\",\"name\":\"lover\",\"orientation\":\"v\",\"showlegend\":true,\"text\":[\"breathe\",\"fearless\",\"stephen\",\"romeo\",\"belong\"],\"x\":[0.5981793403625488,-0.35259971022605896,0.037803974002599716,-0.20268931984901428,-0.3433621823787689],\"xaxis\":\"x\",\"y\":[-0.11795174330472946,-0.7231553196907043,-0.07203111052513123,-0.1640823930501938,-0.16821640729904175],\"yaxis\":\"y\",\"type\":\"scatter\",\"textposition\":\"top center\"},{\"hovertemplate\":\"group=reputation\\u003cbr\\u003ex=%{x}\\u003cbr\\u003ey=%{y}\\u003cbr\\u003eword=%{text}\\u003cextra\\u003e\\u003c\\u002fextra\\u003e\",\"legendgroup\":\"reputation\",\"marker\":{\"color\":\"#EF553B\",\"symbol\":\"circle\"},\"mode\":\"markers+text\",\"name\":\"reputation\",\"orientation\":\"v\",\"showlegend\":true,\"text\":[\"enchanted\",\"december\",\"john\",\"innocent\",\"now\"],\"x\":[0.04091499000787735,0.795253574848175,-0.15036657452583313,-0.004307344555854797,0.34412699937820435],\"xaxis\":\"x\",\"y\":[-0.30356141924858093,-1.4224039316177368,-0.2627517580986023,-0.11371782422065735,-0.6821710467338562],\"yaxis\":\"y\",\"type\":\"scatter\",\"textposition\":\"top center\"},{\"hovertemplate\":\"group=midnights\\u003cbr\\u003ex=%{x}\\u003cbr\\u003ey=%{y}\\u003cbr\\u003eword=%{text}\\u003cextra\\u003e\\u003c\\u002fextra\\u003e\",\"legendgroup\":\"midnights\",\"marker\":{\"color\":\"#00cc96\",\"symbol\":\"circle\"},\"mode\":\"markers+text\",\"name\":\"midnights\",\"orientation\":\"v\",\"showlegend\":true,\"text\":[\"red\",\"well\",\"twenty\",\"trouble\",\"stay\"],\"x\":[-2.1930861473083496,0.04460494965314865,-0.0947512835264206,-1.3729641437530518,2.8532423973083496],\"xaxis\":\"x\",\"y\":[0.8132847547531128,-0.5201585292816162,-0.3376534879207611,2.0787670612335205,1.9958034753799438],\"yaxis\":\"y\",\"type\":\"scatter\",\"textposition\":\"top center\"}],                        {\"template\":{\"data\":{\"histogram2dcontour\":[{\"type\":\"histogram2dcontour\",\"colorbar\":{\"outlinewidth\":0,\"ticks\":\"\"},\"colorscale\":[[0.0,\"#0d0887\"],[0.1111111111111111,\"#46039f\"],[0.2222222222222222,\"#7201a8\"],[0.3333333333333333,\"#9c179e\"],[0.4444444444444444,\"#bd3786\"],[0.5555555555555556,\"#d8576b\"],[0.6666666666666666,\"#ed7953\"],[0.7777777777777778,\"#fb9f3a\"],[0.8888888888888888,\"#fdca26\"],[1.0,\"#f0f921\"]]}],\"choropleth\":[{\"type\":\"choropleth\",\"colorbar\":{\"outlinewidth\":0,\"ticks\":\"\"}}],\"histogram2d\":[{\"type\":\"histogram2d\",\"colorbar\":{\"outlinewidth\":0,\"ticks\":\"\"},\"colorscale\":[[0.0,\"#0d0887\"],[0.1111111111111111,\"#46039f\"],[0.2222222222222222,\"#7201a8\"],[0.3333333333333333,\"#9c179e\"],[0.4444444444444444,\"#bd3786\"],[0.5555555555555556,\"#d8576b\"],[0.6666666666666666,\"#ed7953\"],[0.7777777777777778,\"#fb9f3a\"],[0.8888888888888888,\"#fdca26\"],[1.0,\"#f0f921\"]]}],\"heatmap\":[{\"type\":\"heatmap\",\"colorbar\":{\"outlinewidth\":0,\"ticks\":\"\"},\"colorscale\":[[0.0,\"#0d0887\"],[0.1111111111111111,\"#46039f\"],[0.2222222222222222,\"#7201a8\"],[0.3333333333333333,\"#9c179e\"],[0.4444444444444444,\"#bd3786\"],[0.5555555555555556,\"#d8576b\"],[0.6666666666666666,\"#ed7953\"],[0.7777777777777778,\"#fb9f3a\"],[0.8888888888888888,\"#fdca26\"],[1.0,\"#f0f921\"]]}],\"heatmapgl\":[{\"type\":\"heatmapgl\",\"colorbar\":{\"outlinewidth\":0,\"ticks\":\"\"},\"colorscale\":[[0.0,\"#0d0887\"],[0.1111111111111111,\"#46039f\"],[0.2222222222222222,\"#7201a8\"],[0.3333333333333333,\"#9c179e\"],[0.4444444444444444,\"#bd3786\"],[0.5555555555555556,\"#d8576b\"],[0.6666666666666666,\"#ed7953\"],[0.7777777777777778,\"#fb9f3a\"],[0.8888888888888888,\"#fdca26\"],[1.0,\"#f0f921\"]]}],\"contourcarpet\":[{\"type\":\"contourcarpet\",\"colorbar\":{\"outlinewidth\":0,\"ticks\":\"\"}}],\"contour\":[{\"type\":\"contour\",\"colorbar\":{\"outlinewidth\":0,\"ticks\":\"\"},\"colorscale\":[[0.0,\"#0d0887\"],[0.1111111111111111,\"#46039f\"],[0.2222222222222222,\"#7201a8\"],[0.3333333333333333,\"#9c179e\"],[0.4444444444444444,\"#bd3786\"],[0.5555555555555556,\"#d8576b\"],[0.6666666666666666,\"#ed7953\"],[0.7777777777777778,\"#fb9f3a\"],[0.8888888888888888,\"#fdca26\"],[1.0,\"#f0f921\"]]}],\"surface\":[{\"type\":\"surface\",\"colorbar\":{\"outlinewidth\":0,\"ticks\":\"\"},\"colorscale\":[[0.0,\"#0d0887\"],[0.1111111111111111,\"#46039f\"],[0.2222222222222222,\"#7201a8\"],[0.3333333333333333,\"#9c179e\"],[0.4444444444444444,\"#bd3786\"],[0.5555555555555556,\"#d8576b\"],[0.6666666666666666,\"#ed7953\"],[0.7777777777777778,\"#fb9f3a\"],[0.8888888888888888,\"#fdca26\"],[1.0,\"#f0f921\"]]}],\"mesh3d\":[{\"type\":\"mesh3d\",\"colorbar\":{\"outlinewidth\":0,\"ticks\":\"\"}}],\"scatter\":[{\"fillpattern\":{\"fillmode\":\"overlay\",\"size\":10,\"solidity\":0.2},\"type\":\"scatter\"}],\"parcoords\":[{\"type\":\"parcoords\",\"line\":{\"colorbar\":{\"outlinewidth\":0,\"ticks\":\"\"}}}],\"scatterpolargl\":[{\"type\":\"scatterpolargl\",\"marker\":{\"colorbar\":{\"outlinewidth\":0,\"ticks\":\"\"}}}],\"bar\":[{\"error_x\":{\"color\":\"#2a3f5f\"},\"error_y\":{\"color\":\"#2a3f5f\"},\"marker\":{\"line\":{\"color\":\"#E5ECF6\",\"width\":0.5},\"pattern\":{\"fillmode\":\"overlay\",\"size\":10,\"solidity\":0.2}},\"type\":\"bar\"}],\"scattergeo\":[{\"type\":\"scattergeo\",\"marker\":{\"colorbar\":{\"outlinewidth\":0,\"ticks\":\"\"}}}],\"scatterpolar\":[{\"type\":\"scatterpolar\",\"marker\":{\"colorbar\":{\"outlinewidth\":0,\"ticks\":\"\"}}}],\"histogram\":[{\"marker\":{\"pattern\":{\"fillmode\":\"overlay\",\"size\":10,\"solidity\":0.2}},\"type\":\"histogram\"}],\"scattergl\":[{\"type\":\"scattergl\",\"marker\":{\"colorbar\":{\"outlinewidth\":0,\"ticks\":\"\"}}}],\"scatter3d\":[{\"type\":\"scatter3d\",\"line\":{\"colorbar\":{\"outlinewidth\":0,\"ticks\":\"\"}},\"marker\":{\"colorbar\":{\"outlinewidth\":0,\"ticks\":\"\"}}}],\"scattermapbox\":[{\"type\":\"scattermapbox\",\"marker\":{\"colorbar\":{\"outlinewidth\":0,\"ticks\":\"\"}}}],\"scatterternary\":[{\"type\":\"scatterternary\",\"marker\":{\"colorbar\":{\"outlinewidth\":0,\"ticks\":\"\"}}}],\"scattercarpet\":[{\"type\":\"scattercarpet\",\"marker\":{\"colorbar\":{\"outlinewidth\":0,\"ticks\":\"\"}}}],\"carpet\":[{\"aaxis\":{\"endlinecolor\":\"#2a3f5f\",\"gridcolor\":\"white\",\"linecolor\":\"white\",\"minorgridcolor\":\"white\",\"startlinecolor\":\"#2a3f5f\"},\"baxis\":{\"endlinecolor\":\"#2a3f5f\",\"gridcolor\":\"white\",\"linecolor\":\"white\",\"minorgridcolor\":\"white\",\"startlinecolor\":\"#2a3f5f\"},\"type\":\"carpet\"}],\"table\":[{\"cells\":{\"fill\":{\"color\":\"#EBF0F8\"},\"line\":{\"color\":\"white\"}},\"header\":{\"fill\":{\"color\":\"#C8D4E3\"},\"line\":{\"color\":\"white\"}},\"type\":\"table\"}],\"barpolar\":[{\"marker\":{\"line\":{\"color\":\"#E5ECF6\",\"width\":0.5},\"pattern\":{\"fillmode\":\"overlay\",\"size\":10,\"solidity\":0.2}},\"type\":\"barpolar\"}],\"pie\":[{\"automargin\":true,\"type\":\"pie\"}]},\"layout\":{\"autotypenumbers\":\"strict\",\"colorway\":[\"#636efa\",\"#EF553B\",\"#00cc96\",\"#ab63fa\",\"#FFA15A\",\"#19d3f3\",\"#FF6692\",\"#B6E880\",\"#FF97FF\",\"#FECB52\"],\"font\":{\"color\":\"#2a3f5f\"},\"hovermode\":\"closest\",\"hoverlabel\":{\"align\":\"left\"},\"paper_bgcolor\":\"white\",\"plot_bgcolor\":\"#E5ECF6\",\"polar\":{\"bgcolor\":\"#E5ECF6\",\"angularaxis\":{\"gridcolor\":\"white\",\"linecolor\":\"white\",\"ticks\":\"\"},\"radialaxis\":{\"gridcolor\":\"white\",\"linecolor\":\"white\",\"ticks\":\"\"}},\"ternary\":{\"bgcolor\":\"#E5ECF6\",\"aaxis\":{\"gridcolor\":\"white\",\"linecolor\":\"white\",\"ticks\":\"\"},\"baxis\":{\"gridcolor\":\"white\",\"linecolor\":\"white\",\"ticks\":\"\"},\"caxis\":{\"gridcolor\":\"white\",\"linecolor\":\"white\",\"ticks\":\"\"}},\"coloraxis\":{\"colorbar\":{\"outlinewidth\":0,\"ticks\":\"\"}},\"colorscale\":{\"sequential\":[[0.0,\"#0d0887\"],[0.1111111111111111,\"#46039f\"],[0.2222222222222222,\"#7201a8\"],[0.3333333333333333,\"#9c179e\"],[0.4444444444444444,\"#bd3786\"],[0.5555555555555556,\"#d8576b\"],[0.6666666666666666,\"#ed7953\"],[0.7777777777777778,\"#fb9f3a\"],[0.8888888888888888,\"#fdca26\"],[1.0,\"#f0f921\"]],\"sequentialminus\":[[0.0,\"#0d0887\"],[0.1111111111111111,\"#46039f\"],[0.2222222222222222,\"#7201a8\"],[0.3333333333333333,\"#9c179e\"],[0.4444444444444444,\"#bd3786\"],[0.5555555555555556,\"#d8576b\"],[0.6666666666666666,\"#ed7953\"],[0.7777777777777778,\"#fb9f3a\"],[0.8888888888888888,\"#fdca26\"],[1.0,\"#f0f921\"]],\"diverging\":[[0,\"#8e0152\"],[0.1,\"#c51b7d\"],[0.2,\"#de77ae\"],[0.3,\"#f1b6da\"],[0.4,\"#fde0ef\"],[0.5,\"#f7f7f7\"],[0.6,\"#e6f5d0\"],[0.7,\"#b8e186\"],[0.8,\"#7fbc41\"],[0.9,\"#4d9221\"],[1,\"#276419\"]]},\"xaxis\":{\"gridcolor\":\"white\",\"linecolor\":\"white\",\"ticks\":\"\",\"title\":{\"standoff\":15},\"zerolinecolor\":\"white\",\"automargin\":true,\"zerolinewidth\":2},\"yaxis\":{\"gridcolor\":\"white\",\"linecolor\":\"white\",\"ticks\":\"\",\"title\":{\"standoff\":15},\"zerolinecolor\":\"white\",\"automargin\":true,\"zerolinewidth\":2},\"scene\":{\"xaxis\":{\"backgroundcolor\":\"#E5ECF6\",\"gridcolor\":\"white\",\"linecolor\":\"white\",\"showbackground\":true,\"ticks\":\"\",\"zerolinecolor\":\"white\",\"gridwidth\":2},\"yaxis\":{\"backgroundcolor\":\"#E5ECF6\",\"gridcolor\":\"white\",\"linecolor\":\"white\",\"showbackground\":true,\"ticks\":\"\",\"zerolinecolor\":\"white\",\"gridwidth\":2},\"zaxis\":{\"backgroundcolor\":\"#E5ECF6\",\"gridcolor\":\"white\",\"linecolor\":\"white\",\"showbackground\":true,\"ticks\":\"\",\"zerolinecolor\":\"white\",\"gridwidth\":2}},\"shapedefaults\":{\"line\":{\"color\":\"#2a3f5f\"}},\"annotationdefaults\":{\"arrowcolor\":\"#2a3f5f\",\"arrowhead\":0,\"arrowwidth\":1},\"geo\":{\"bgcolor\":\"white\",\"landcolor\":\"#E5ECF6\",\"subunitcolor\":\"white\",\"showland\":true,\"showlakes\":true,\"lakecolor\":\"white\"},\"title\":{\"x\":0.05},\"mapbox\":{\"style\":\"light\"}}},\"xaxis\":{\"anchor\":\"y\",\"domain\":[0.0,1.0],\"title\":{\"text\":\"x\"}},\"yaxis\":{\"anchor\":\"x\",\"domain\":[0.0,1.0],\"title\":{\"text\":\"y\"}},\"legend\":{\"title\":{\"text\":\"group\"},\"tracegroupgap\":0},\"margin\":{\"t\":60}},                        {\"responsive\": true}                    ).then(function(){\n",
              "                            \n",
              "var gd = document.getElementById('f83bce98-8597-4363-8f39-c6200aad9a42');\n",
              "var x = new MutationObserver(function (mutations, observer) {{\n",
              "        var display = window.getComputedStyle(gd).display;\n",
              "        if (!display || display === 'none') {{\n",
              "            console.log([gd, 'removed!']);\n",
              "            Plotly.purge(gd);\n",
              "            observer.disconnect();\n",
              "        }}\n",
              "}});\n",
              "\n",
              "// Listen for the removal of the full notebook cells\n",
              "var notebookContainer = gd.closest('#notebook-container');\n",
              "if (notebookContainer) {{\n",
              "    x.observe(notebookContainer, {childList: true});\n",
              "}}\n",
              "\n",
              "// Listen for the clearing of the current output cell\n",
              "var outputEl = gd.closest('.output');\n",
              "if (outputEl) {{\n",
              "    x.observe(outputEl, {childList: true});\n",
              "}}\n",
              "\n",
              "                        })                };                            </script>        </div>\n",
              "</body>\n",
              "</html>"
            ]
          },
          "metadata": {}
        }
      ]
    },
    {
      "cell_type": "markdown",
      "source": [
        "## New Taylor Model"
      ],
      "metadata": {
        "id": "6rkKSd0lmbiY"
      },
      "id": "6rkKSd0lmbiY"
    },
    {
      "cell_type": "code",
      "execution_count": 113,
      "metadata": {
        "id": "e88b731a",
        "colab": {
          "base_uri": "https://localhost:8080/"
        },
        "outputId": "aa24b477-3907-4516-a52f-2889c1abba14"
      },
      "outputs": [
        {
          "output_type": "stream",
          "name": "stderr",
          "text": [
            "100%|██████████| 46/46 [00:02<00:00, 16.69it/s]\n"
          ]
        }
      ],
      "source": [
        "#text importer with modifications - different txt file for different names\n",
        "\n",
        "#Modification that should be made\n",
        "#0. use Google Drive - cell above\n",
        "#1. multiple file structure: Albums/{album_name}/{song.txt} - for loop\n",
        "#2. first line of the file should be ignored - in append function\n",
        "#3. numbers, word that start with [ should be eliminated\n",
        "\n",
        "strings=[]\n",
        "\n",
        "from glob import glob\n",
        "from tqdm import tqdm\n",
        "import re\n",
        "\n",
        "albums = glob(\"/content/drive/MyDrive/ColabData/TaylorSwiftAlbums/*\")\n",
        "\n",
        "for album in tqdm(albums):\n",
        "  songs = glob(str(album)+\"/*\")\n",
        "  for song in songs:\n",
        "    with open(song, 'r') as f:\n",
        "      song_lyric = f.readlines()[1:] #ignore first line\n",
        "      if song_lyric:\n",
        "        this_song_lyric = \"\"\n",
        "        #ignore last line\n",
        "        for line in song_lyric[:-1]:\n",
        "          #delete dividers like [chorus]then add lowercased version\n",
        "          line = line.lower()\n",
        "          if \"[\" not in line:\n",
        "            line = line.replace('\\n',' ')\n",
        "            this_song_lyric+=\" \"+line\n",
        "\n",
        "        #last line\n",
        "        #taylor rarely puts numbers in numeric form, so deletion of number followed by string in only last line\n",
        "        #does not negatively affect\n",
        "        #this line deletes ##embed\n",
        "        last_line_modified = re.sub(r'\\d+\\s*\\w+', '', song_lyric[-1].lower())\n",
        "        #this line deletes embed, without numbers beforehand\n",
        "        last_line_modified = last_line_modified.replace('embed','')\n",
        "        this_song_lyric+=\" \"+(last_line_modified)\n",
        "\n",
        "        #append lyric of the song as a long sentence\n",
        "        strings.append(this_song_lyric)\n",
        "\n",
        "# pp.pprint(strings[0])"
      ],
      "id": "e88b731a"
    },
    {
      "cell_type": "code",
      "source": [
        "print(len(strings))\n",
        "print(strings[-1])"
      ],
      "metadata": {
        "id": "ywX3XAp4dlih",
        "colab": {
          "base_uri": "https://localhost:8080/"
        },
        "outputId": "51fe5a76-2390-45b8-a9d2-110802033dcb"
      },
      "id": "ywX3XAp4dlih",
      "execution_count": 114,
      "outputs": [
        {
          "output_type": "stream",
          "name": "stdout",
          "text": [
            "544\n",
            " mmm-mm, mm-mm  mmm-mm, mm-mm  mmm-mm, mm-mm, yeah    hey, stephen, i know looks can be deceiving  but i know i saw a light in you  and as we walked, we were talking  i didn't say half the things i wanted to  of all the girls tossing rocks at your window  i'll be the one waiting there even when it's cold  hey, stephen, boy, you might have me believing  i don't always have to be alone    'cause i can't help it if you look like an angel  can't help it if i wanna kiss you in the rain so  come feel this magic i've been feeling since i met you  can't help it if there's no one else  mmm, i can't help myself    hey, stephen, i've been holding back this feeling  so i got some things to say to you, ha  i've seen it all, so i thought  but i never seen nobody shine the way you do  the way you walk, way you talk, way you say my name  it's beautiful, wonderful, don't you ever change  hey, stephen, why are people always leaving?  i think you and i should stay the same  'cause i can't help it if you look like an angel  can't help it if i wanna kiss you in the rain so  come feel this magic i've been feeling since i met you  can't help it if there's no one else  mmm, i can't help myself    they're dimming the street lights, you're perfect for me  why aren't you here tonight?  i'm waiting alone now, so come on and come out  and pull me near and shine, shine, shine    hey, stephen, i could give you fifty reasons  why i should be the one you choose  all those other girls, well, they're beautiful  but would they write a song for you? (ha-ha)    i can't help it if you look like an angel  can't help it if i wanna kiss you in the rain so  come feel this magic i've been feeling since i met you  can't help it if there's no one else  mmm, i can't help myself  if you look like an angel  can't help it if i wanna kiss you in the rain so  come feel this magic i've been feeling since i met you  can't help it if there's no one else  mmm, i can't help myself  myself  can't help myself  i can't help myself\n"
          ]
        }
      ]
    },
    {
      "cell_type": "code",
      "source": [
        "'''\n",
        "This line is for the case when the text file is not properly formatted.\n",
        "It was used to ignore linebreaks and join the sentences into one string, since the text example included linebreak following printed book lines.\n",
        "\n",
        "strings = \"\".join(strings).replace('\\n', ' ').replace('Mr.', 'mr').replace('Mrs.', 'mrs').split('. ')\n",
        "'''\n",
        "# The strings has to be a list of list of strings, where inner list is a sentence\n",
        "# strings = \"\".join(strings).replace('\\n', ' ').replace('Mr.', 'mr').replace('Mrs.', 'mrs').replace('\"','').replace(\"'\",\"\").split('. ')\n",
        "# strings_processed = \"\".join(strings).replace('\\n', '*').replace('Mr.', 'mr').replace('Mrs.', 'mrs').split('*')\n",
        "\n",
        "# strings_processed = \"\".join(strings).replace(\"\\n\", '_').replace(',', '').split('_')\n",
        "# print(strings_processed)\n",
        "# # for i in strings_processed:\n",
        "#   # print(\"line\")\n",
        "#   # print(i)\n",
        "# print(\"Checking the first 5 sentences in the text file\")\n",
        "# for i in range(5):\n",
        "#   print(f\"Sentence {i+1}: {strings_processed[i]}\")\n",
        "corpus = make_tokenized_corpus(strings)"
      ],
      "metadata": {
        "id": "xP5Fc1ncYi85"
      },
      "id": "xP5Fc1ncYi85",
      "execution_count": 115,
      "outputs": []
    },
    {
      "cell_type": "code",
      "source": [
        "print(corpus[:100])"
      ],
      "metadata": {
        "id": "Ds24qoOwjLDR",
        "colab": {
          "base_uri": "https://localhost:8080/"
        },
        "outputId": "a81f71a1-4fd9-42a0-c91e-f79b21575098"
      },
      "id": "Ds24qoOwjLDR",
      "execution_count": 117,
      "outputs": [
        {
          "output_type": "stream",
          "name": "stdout",
          "text": [
            "['it', 'feels', 'like', 'a', 'perfect', 'night', 'to', 'dress', 'up', 'like', 'hipsters', 'and', 'make', 'fun', 'of', 'our', 'exes', 'uhuh', 'uhuh', 'it', 'feels', 'like', 'a', 'perfect', 'night', 'for', 'breakfast', 'at', 'midnight', 'to', 'fall', 'in', 'love', 'with', 'strangers', 'uhuh', 'uhuh', 'yeah', 'were', 'happy', 'free', 'confused', 'and', 'lonely', 'at', 'the', 'same', 'time', 'its', 'miserable', 'and', 'magical', 'oh', 'yeah', 'tonights', 'the', 'night', 'when', 'we', 'forget', 'about', 'the', 'deadlines', 'its', 'time', 'ohoh', 'i', 'dont', 'know', 'about', 'you', 'but', 'im', 'feelin', 'twentytwo', 'everything', 'will', 'be', 'alright', 'if', 'you', 'keep', 'me', 'next', 'to', 'you', 'you', 'dont', 'know', 'about', 'me', 'but', 'ill', 'bet', 'you', 'want', 'to', 'everything', 'will', 'bе', 'alright', 'if', 'we', 'just', 'keep', 'dancin', 'like', 'werе', 'twentytwo', 'twentytwo', 'it', 'seems', 'like', 'one', 'of', 'those', 'nights', 'this', 'place', 'is', 'too', 'crowded', 'too', 'many', 'cool', 'kids', 'uhuh', 'uhuh', 'whos', 'taylor', 'swift', 'anyway', 'ew', 'it', 'seems', 'like', 'one', 'of', 'those', 'nights', 'we', 'ditch', 'the', 'whole', 'scene', 'and', 'end', 'up', 'dreamin', 'instead', 'of', 'sleepin', 'yeah', 'were', 'happy', 'free', 'confused', 'and', 'lonely', 'in', 'the', 'best', 'way', 'its', 'miserable', 'and', 'magical', 'oh', 'yeah', 'tonights', 'the', 'night', 'when', 'we', 'forget', 'about', 'the', 'heartbreaks', 'its', 'time', 'ohoh', 'hey', 'i', 'dont', 'know', 'about', 'you', 'but', 'im', 'feelin', 'twentytwo', 'everything', 'will', 'be', 'alright', 'if', 'ooh', 'you', 'keep', 'me', 'next', 'to', 'you', 'you', 'dont', 'know', 'about', 'me', 'but', 'ill', 'bet', 'you', 'want', 'to', 'everything', 'will', 'be', 'alright', 'if', 'alright', 'we', 'just', 'keep', 'dancin', 'like', 'were', 'twentytwo', 'oh', 'oh', 'oh', 'oh', 'oh', 'twentytwo', 'i', 'dont', 'know', 'about', 'you', 'twentytwo', 'twentytwo', 'ooh', 'it', 'feels', 'like', 'one', 'of', 'those', 'nights', 'we', 'ditch', 'the', 'whole', 'scene', 'it', 'feels', 'like', 'one', 'of', 'those', 'nights', 'we', 'wont', 'be', 'sleepin', 'it', 'feels', 'like', 'one', 'of', 'those', 'nights', 'you', 'look', 'like', 'bad', 'news', 'i', 'gotta', 'have', 'you', 'i', 'gotta', 'have', 'you', 'ooh', 'oh', 'yeah', 'hey', 'yeah', 'hey', 'i', 'dont', 'know', 'about', 'you', 'i', 'dont', 'know', 'about', 'you', 'but', 'im', 'feelin', 'twentytwo', 'everything', 'will', 'be', 'alright', 'if', 'ooh', 'ohoh', 'you', 'keep', 'me', 'next', 'to', 'you', 'you', 'dont', 'know', 'about', 'me', 'you', 'dont', 'know', 'about', 'me', 'but', 'ill', 'bet', 'you', 'want', 'to', 'everything', 'will', 'be', 'alright', 'if', 'we', 'just', 'keep', 'dancin', 'like', 'were', 'dance', 'like', 'were', 'twentytwo', 'twentytwo', 'ooh', 'woahohohoh', 'twentytwo', 'dancin', 'like', 'twentytwo', 'yeah', 'yeah', 'twentytwo', 'yeah', 'yeah', 'yeah', 'it', 'feels', 'like', 'one', 'of', 'those', 'nights', 'twentytwo', 'we', 'ditch', 'the', 'whole', 'scene', 'it', 'feels', 'like', 'one', 'of', 'those', 'nights', 'twentytwo', 'we', 'wont', 'be', 'sleepin', 'it', 'feels', 'like', 'one', 'of', 'those', 'nights', 'twentytwo', 'you', 'look', 'like', 'bad', 'news', 'i', 'gotta', 'have', 'you', 'i', 'gotta', 'have', 'you']\n"
          ]
        }
      ]
    },
    {
      "cell_type": "markdown",
      "metadata": {
        "id": "e6c8153b"
      },
      "source": [
        "- gensim Word2Vec arguments\n",
        "  - ``sentences``: list of list of strings\n",
        "  - ``vector_size``: dimension of word vector\n",
        "  - ``window``: maximum distance between the current and predicted word within a sentence\n",
        "  - ``min_count``: ignore all words with total frequency lower than this\n",
        "  - ``sg``: training algorithm: 1 for skip-gram; otherwise CBOW\n",
        "  - ``negative``: if > 0, negative sampling will be used, the int for negative specifies how many \"noise words\" should be drown (usually between 5-20)"
      ],
      "id": "e6c8153b"
    },
    {
      "cell_type": "code",
      "source": [
        "#unique word counter\n",
        "unique_word = set()\n",
        "for x in corpus:\n",
        "  for y in x:\n",
        "    unique_word.add(y)\n",
        "print(len(unique_word)) #num of unique words"
      ],
      "metadata": {
        "colab": {
          "base_uri": "https://localhost:8080/"
        },
        "id": "Ftzxo0onqZaM",
        "outputId": "35d374ac-673e-4ea7-b6ee-d6345a424cc5"
      },
      "id": "Ftzxo0onqZaM",
      "execution_count": 103,
      "outputs": [
        {
          "output_type": "stream",
          "name": "stdout",
          "text": [
            "11025\n"
          ]
        }
      ]
    },
    {
      "cell_type": "code",
      "execution_count": 75,
      "metadata": {
        "id": "2b994d0f"
      },
      "outputs": [],
      "source": [
        "taylor_model = Word2Vec(sentences=corpus, vector_size=80, window=3, min_count=6, sg=1, negative=10)\n",
        "taylor_model = taylor_model.wv # To match with previous codes, we use wv (KeyedVector) of the Word2Vec class\n",
        "# Try the function above with the newely trained model"
      ],
      "id": "2b994d0f"
    },
    {
      "cell_type": "code",
      "source": [],
      "metadata": {
        "id": "vLs6iVQDGjHn"
      },
      "id": "vLs6iVQDGjHn",
      "execution_count": 75,
      "outputs": []
    },
    {
      "cell_type": "code",
      "source": [
        "target_words = ['woman', 'love', 'friend']\n",
        "import pprint\n",
        "for target_word in target_words:\n",
        "  print(target_word)\n",
        "  pp.pprint(taylor_model.most_similar(target_word))"
      ],
      "metadata": {
        "id": "qOKwNW9ohAC9",
        "colab": {
          "base_uri": "https://localhost:8080/"
        },
        "outputId": "7675f6b2-07be-4689-b0b0-d65d62f35892"
      },
      "id": "qOKwNW9ohAC9",
      "execution_count": 76,
      "outputs": [
        {
          "output_type": "stream",
          "name": "stdout",
          "text": [
            "woman\n",
            "[('trace', 0.8545616269111633),\n",
            " ('whom', 0.8512718081474304),\n",
            " ('likes', 0.8409059643745422),\n",
            " ('wears', 0.8380570411682129),\n",
            " ('lovely', 0.8344222903251648),\n",
            " ('ascyltos', 0.8294989466667175),\n",
            " ('himself', 0.8281412720680237),\n",
            " ('countryman', 0.8275983929634094),\n",
            " ('whose', 0.8264104127883911),\n",
            " ('tis', 0.8249528408050537)]\n",
            "love\n",
            "[('fallin', 0.6349379420280457),\n",
            " ('affair', 0.6345676779747009),\n",
            " ('shining', 0.6283682584762573),\n",
            " ('play', 0.6232140064239502),\n",
            " ('ruthless', 0.6126230955123901),\n",
            " ('worship', 0.6116556525230408),\n",
            " ('players', 0.6061928272247314),\n",
            " ('tragic', 0.593811571598053),\n",
            " ('ours', 0.5881608128547668),\n",
            " ('heels', 0.5881523489952087)]\n",
            "friend\n",
            "[('share', 0.8309302926063538),\n",
            " ('mythical', 0.8218633532524109),\n",
            " ('trophy', 0.8200570344924927),\n",
            " ('heartbreak', 0.8128861784934998),\n",
            " ('shot', 0.8001842498779297),\n",
            " ('tho', 0.7999062538146973),\n",
            " ('masterpiece', 0.7982810139656067),\n",
            " ('bought', 0.7973718047142029),\n",
            " ('shall', 0.7965989112854004),\n",
            " ('nеver', 0.7961673736572266)]\n"
          ]
        }
      ]
    },
    {
      "cell_type": "code",
      "source": [
        "analogy(taylor_model, 'man', 'he', 'woman')\n",
        "# analogy(model, 'man', 'he', 'woman')"
      ],
      "metadata": {
        "id": "YBTgjFg9kc25",
        "colab": {
          "base_uri": "https://localhost:8080/"
        },
        "outputId": "982e420a-8622-486e-ff2a-f34c307dca2a"
      },
      "id": "YBTgjFg9kc25",
      "execution_count": 77,
      "outputs": [
        {
          "output_type": "stream",
          "name": "stdout",
          "text": [
            "[('thinks', 0.6637744903564453),\n",
            " ('says', 0.6459203958511353),\n",
            " ('midnight', 0.6441094875335693),\n",
            " ('stayed', 0.613298773765564),\n",
            " ('calls', 0.6122281551361084),\n",
            " ('comfortable', 0.6117876768112183),\n",
            " ('sunshine', 0.5995890498161316),\n",
            " ('ascyltos', 0.5914212465286255),\n",
            " ('knelt', 0.5906340479850769),\n",
            " ('exactly', 0.5832395553588867)]\n",
            "\n"
          ]
        }
      ]
    },
    {
      "cell_type": "code",
      "source": [
        "analogy(taylor_model, 'good', 'bad', 'beautiful')\n",
        "# analogy(model, 'good', 'bad', 'beautiful')"
      ],
      "metadata": {
        "id": "uny-BneoLn7r",
        "colab": {
          "base_uri": "https://localhost:8080/"
        },
        "outputId": "03faab43-4a13-43e5-c626-f004a56af04f"
      },
      "id": "uny-BneoLn7r",
      "execution_count": 78,
      "outputs": [
        {
          "output_type": "stream",
          "name": "stdout",
          "text": [
            "[('peaks', 0.6466321349143982),\n",
            " ('tragic', 0.6325075030326843),\n",
            " ('rush', 0.6206655502319336),\n",
            " ('gold', 0.6052859425544739),\n",
            " ('flying', 0.604031503200531),\n",
            " ('weird', 0.5992770195007324),\n",
            " ('fuckin', 0.5983691811561584),\n",
            " ('windermere', 0.588883638381958),\n",
            " ('angel', 0.5804174542427063),\n",
            " ('sad', 0.5757679343223572)]\n",
            "\n"
          ]
        }
      ]
    },
    {
      "cell_type": "code",
      "source": [
        "#altered code for groups of 5\n",
        "def display_pca_scatterplot_groups_of_five(model, words=None, sample=0):\n",
        "  if len(words) < 30:\n",
        "    print(\"WARNING: For your report, please select more than 30 word samples for the visualization\")\n",
        "    print(f\"Current length of input word list: {len(words)}\")\n",
        "\n",
        "  word_vectors = np.array([model[w] for w in words])\n",
        "  twodim = PCA().fit_transform(word_vectors)[:,:2]\n",
        "\n",
        "  # Create a DataFrame for visualization with Plotly\n",
        "  import pandas as pd\n",
        "  df = pd.DataFrame(twodim, columns=['x', 'y'])\n",
        "  df['word'] = words\n",
        "  df['group'] = ['fearless'] * 5 + ['speaknow'] * 5 + ['red'] * 5 + ['1989'] * 5+ ['reputation'] * 5+ ['lover'] * 5 + ['midnights'] * 5#assign groups of 5\n",
        "\n",
        "  # Plot the scatterplot with different colors for each group\n",
        "  fig = px.scatter(df, x='x', y='y', text='word', color='group')\n",
        "  fig.update_traces(textposition='top center')\n",
        "  # fig.update_layout(xaxis_type='log')\n",
        "  # fig.update_layout(yaxis_type='log')\n",
        "  fig.show()"
      ],
      "metadata": {
        "id": "oomTjGxhcNE7"
      },
      "id": "oomTjGxhcNE7",
      "execution_count": 79,
      "outputs": []
    },
    {
      "cell_type": "code",
      "source": [
        "word_list = [\n",
        "  # fearless album\n",
        "  'breathe', 'fearless', 'stephen', 'romeo', 'belong',\n",
        "  # speak now album\n",
        "  'enchanted', 'december', 'john', 'innocent', 'now',\n",
        "  # red album\n",
        "  'red', 'well', 'twenty', 'trouble', 'stay',\n",
        "  # 1989 album\n",
        "  'welcome', 'space', 'woods', 'james', 'wildest',\n",
        "  # reputation album\n",
        "  'delicate', 'crazy', 'look', 'ready', 'gorgeous',\n",
        "  # lover album\n",
        "  'thousand', 'miss', 'pageant', 'london', 'archer',\n",
        "  # midnights album\n",
        "  'lavender', 'karma', 'maroon', 'haze', 'hero'\n",
        "]\n",
        "display_pca_scatterplot_groups_of_five(taylor_model, word_list)"
      ],
      "metadata": {
        "id": "6snTOBhFmO8h",
        "colab": {
          "base_uri": "https://localhost:8080/",
          "height": 542
        },
        "outputId": "6474e23d-c8af-499e-a5a9-bdad48290389"
      },
      "id": "6snTOBhFmO8h",
      "execution_count": 80,
      "outputs": [
        {
          "output_type": "display_data",
          "data": {
            "text/html": [
              "<html>\n",
              "<head><meta charset=\"utf-8\" /></head>\n",
              "<body>\n",
              "    <div>            <script src=\"https://cdnjs.cloudflare.com/ajax/libs/mathjax/2.7.5/MathJax.js?config=TeX-AMS-MML_SVG\"></script><script type=\"text/javascript\">if (window.MathJax && window.MathJax.Hub && window.MathJax.Hub.Config) {window.MathJax.Hub.Config({SVG: {font: \"STIX-Web\"}});}</script>                <script type=\"text/javascript\">window.PlotlyConfig = {MathJaxConfig: 'local'};</script>\n",
              "        <script charset=\"utf-8\" src=\"https://cdn.plot.ly/plotly-2.24.1.min.js\"></script>                <div id=\"0d9fcc1f-bdde-4378-8553-b195ecc2bbd3\" class=\"plotly-graph-div\" style=\"height:525px; width:100%;\"></div>            <script type=\"text/javascript\">                                    window.PLOTLYENV=window.PLOTLYENV || {};                                    if (document.getElementById(\"0d9fcc1f-bdde-4378-8553-b195ecc2bbd3\")) {                    Plotly.newPlot(                        \"0d9fcc1f-bdde-4378-8553-b195ecc2bbd3\",                        [{\"hovertemplate\":\"group=fearless\\u003cbr\\u003ex=%{x}\\u003cbr\\u003ey=%{y}\\u003cbr\\u003eword=%{text}\\u003cextra\\u003e\\u003c\\u002fextra\\u003e\",\"legendgroup\":\"fearless\",\"marker\":{\"color\":\"#636efa\",\"symbol\":\"circle\"},\"mode\":\"markers+text\",\"name\":\"fearless\",\"orientation\":\"v\",\"showlegend\":true,\"text\":[\"breathe\",\"fearless\",\"stephen\",\"romeo\",\"belong\"],\"x\":[-0.3458280563354492,-0.3416610360145569,-0.11777754873037338,-0.37983086705207825,-0.572247326374054],\"xaxis\":\"x\",\"y\":[-1.769038200378418,0.3844015896320343,-0.1285560429096222,-0.2767319083213806,-0.4900049865245819],\"yaxis\":\"y\",\"type\":\"scatter\",\"textposition\":\"top center\"},{\"hovertemplate\":\"group=speaknow\\u003cbr\\u003ex=%{x}\\u003cbr\\u003ey=%{y}\\u003cbr\\u003eword=%{text}\\u003cextra\\u003e\\u003c\\u002fextra\\u003e\",\"legendgroup\":\"speaknow\",\"marker\":{\"color\":\"#EF553B\",\"symbol\":\"circle\"},\"mode\":\"markers+text\",\"name\":\"speaknow\",\"orientation\":\"v\",\"showlegend\":true,\"text\":[\"enchanted\",\"december\",\"john\",\"innocent\",\"now\"],\"x\":[-0.25275957584381104,0.22764867544174194,-0.41322919726371765,-0.35819923877716064,0.3405540883541107],\"xaxis\":\"x\",\"y\":[-0.29726657271385193,-1.6263364553451538,0.4812486171722412,-0.2910137176513672,-0.4181184768676758],\"yaxis\":\"y\",\"type\":\"scatter\",\"textposition\":\"top center\"},{\"hovertemplate\":\"group=red\\u003cbr\\u003ex=%{x}\\u003cbr\\u003ey=%{y}\\u003cbr\\u003eword=%{text}\\u003cextra\\u003e\\u003c\\u002fextra\\u003e\",\"legendgroup\":\"red\",\"marker\":{\"color\":\"#00cc96\",\"symbol\":\"circle\"},\"mode\":\"markers+text\",\"name\":\"red\",\"orientation\":\"v\",\"showlegend\":true,\"text\":[\"red\",\"well\",\"twenty\",\"trouble\",\"stay\"],\"x\":[-1.8067269325256348,-0.13062289357185364,-0.2676455080509186,-1.5919376611709595,2.46524977684021],\"xaxis\":\"x\",\"y\":[2.078054189682007,-0.6577705144882202,-0.1316801756620407,0.907427191734314,-0.3692212700843811],\"yaxis\":\"y\",\"type\":\"scatter\",\"textposition\":\"top center\"},{\"hovertemplate\":\"group=1989\\u003cbr\\u003ex=%{x}\\u003cbr\\u003ey=%{y}\\u003cbr\\u003eword=%{text}\\u003cextra\\u003e\\u003c\\u002fextra\\u003e\",\"legendgroup\":\"1989\",\"marker\":{\"color\":\"#ab63fa\",\"symbol\":\"circle\"},\"mode\":\"markers+text\",\"name\":\"1989\",\"orientation\":\"v\",\"showlegend\":true,\"text\":[\"welcome\",\"space\",\"woods\",\"james\",\"wildest\"],\"x\":[0.22449390590190887,-0.15188342332839966,-0.44998571276664734,-0.5035264492034912,-0.421028733253479],\"xaxis\":\"x\",\"y\":[-0.26551103591918945,-0.4881652295589447,-0.6534229516983032,0.5922513604164124,0.49017637968063354],\"yaxis\":\"y\",\"type\":\"scatter\",\"textposition\":\"top center\"},{\"hovertemplate\":\"group=reputation\\u003cbr\\u003ex=%{x}\\u003cbr\\u003ey=%{y}\\u003cbr\\u003eword=%{text}\\u003cextra\\u003e\\u003c\\u002fextra\\u003e\",\"legendgroup\":\"reputation\",\"marker\":{\"color\":\"#FFA15A\",\"symbol\":\"circle\"},\"mode\":\"markers+text\",\"name\":\"reputation\",\"orientation\":\"v\",\"showlegend\":true,\"text\":[\"delicate\",\"crazy\",\"look\",\"ready\",\"gorgeous\"],\"x\":[-0.13005991280078888,-0.04506528750061989,0.36322277784347534,-0.15095527470111847,-0.19763067364692688],\"xaxis\":\"x\",\"y\":[-0.2156045287847519,0.03834407776594162,-0.04342261329293251,-0.8020251393318176,-0.40504786372184753],\"yaxis\":\"y\",\"type\":\"scatter\",\"textposition\":\"top center\"},{\"hovertemplate\":\"group=lover\\u003cbr\\u003ex=%{x}\\u003cbr\\u003ey=%{y}\\u003cbr\\u003eword=%{text}\\u003cextra\\u003e\\u003c\\u002fextra\\u003e\",\"legendgroup\":\"lover\",\"marker\":{\"color\":\"#19d3f3\",\"symbol\":\"circle\"},\"mode\":\"markers+text\",\"name\":\"lover\",\"orientation\":\"v\",\"showlegend\":true,\"text\":[\"thousand\",\"miss\",\"pageant\",\"london\",\"archer\"],\"x\":[-0.268494576215744,0.5983723402023315,-0.33623889088630676,-0.32459741830825806,-0.08188746869564056],\"xaxis\":\"x\",\"y\":[0.26258569955825806,-0.7813905477523804,0.3716159760951996,0.09029625356197357,-0.47309762239456177],\"yaxis\":\"y\",\"type\":\"scatter\",\"textposition\":\"top center\"},{\"hovertemplate\":\"group=midnights\\u003cbr\\u003ex=%{x}\\u003cbr\\u003ey=%{y}\\u003cbr\\u003eword=%{text}\\u003cextra\\u003e\\u003c\\u002fextra\\u003e\",\"legendgroup\":\"midnights\",\"marker\":{\"color\":\"#FF6692\",\"symbol\":\"circle\"},\"mode\":\"markers+text\",\"name\":\"midnights\",\"orientation\":\"v\",\"showlegend\":true,\"text\":[\"lavender\",\"karma\",\"maroon\",\"haze\",\"hero\"],\"x\":[3.0519440174102783,0.6198599934577942,-0.8810078501701355,2.864950180053711,-0.23547042906284332],\"xaxis\":\"x\",\"y\":[0.953924834728241,2.344022512435913,0.4744759798049927,0.8364158272743225,0.2781842052936554],\"yaxis\":\"y\",\"type\":\"scatter\",\"textposition\":\"top center\"}],                        {\"template\":{\"data\":{\"histogram2dcontour\":[{\"type\":\"histogram2dcontour\",\"colorbar\":{\"outlinewidth\":0,\"ticks\":\"\"},\"colorscale\":[[0.0,\"#0d0887\"],[0.1111111111111111,\"#46039f\"],[0.2222222222222222,\"#7201a8\"],[0.3333333333333333,\"#9c179e\"],[0.4444444444444444,\"#bd3786\"],[0.5555555555555556,\"#d8576b\"],[0.6666666666666666,\"#ed7953\"],[0.7777777777777778,\"#fb9f3a\"],[0.8888888888888888,\"#fdca26\"],[1.0,\"#f0f921\"]]}],\"choropleth\":[{\"type\":\"choropleth\",\"colorbar\":{\"outlinewidth\":0,\"ticks\":\"\"}}],\"histogram2d\":[{\"type\":\"histogram2d\",\"colorbar\":{\"outlinewidth\":0,\"ticks\":\"\"},\"colorscale\":[[0.0,\"#0d0887\"],[0.1111111111111111,\"#46039f\"],[0.2222222222222222,\"#7201a8\"],[0.3333333333333333,\"#9c179e\"],[0.4444444444444444,\"#bd3786\"],[0.5555555555555556,\"#d8576b\"],[0.6666666666666666,\"#ed7953\"],[0.7777777777777778,\"#fb9f3a\"],[0.8888888888888888,\"#fdca26\"],[1.0,\"#f0f921\"]]}],\"heatmap\":[{\"type\":\"heatmap\",\"colorbar\":{\"outlinewidth\":0,\"ticks\":\"\"},\"colorscale\":[[0.0,\"#0d0887\"],[0.1111111111111111,\"#46039f\"],[0.2222222222222222,\"#7201a8\"],[0.3333333333333333,\"#9c179e\"],[0.4444444444444444,\"#bd3786\"],[0.5555555555555556,\"#d8576b\"],[0.6666666666666666,\"#ed7953\"],[0.7777777777777778,\"#fb9f3a\"],[0.8888888888888888,\"#fdca26\"],[1.0,\"#f0f921\"]]}],\"heatmapgl\":[{\"type\":\"heatmapgl\",\"colorbar\":{\"outlinewidth\":0,\"ticks\":\"\"},\"colorscale\":[[0.0,\"#0d0887\"],[0.1111111111111111,\"#46039f\"],[0.2222222222222222,\"#7201a8\"],[0.3333333333333333,\"#9c179e\"],[0.4444444444444444,\"#bd3786\"],[0.5555555555555556,\"#d8576b\"],[0.6666666666666666,\"#ed7953\"],[0.7777777777777778,\"#fb9f3a\"],[0.8888888888888888,\"#fdca26\"],[1.0,\"#f0f921\"]]}],\"contourcarpet\":[{\"type\":\"contourcarpet\",\"colorbar\":{\"outlinewidth\":0,\"ticks\":\"\"}}],\"contour\":[{\"type\":\"contour\",\"colorbar\":{\"outlinewidth\":0,\"ticks\":\"\"},\"colorscale\":[[0.0,\"#0d0887\"],[0.1111111111111111,\"#46039f\"],[0.2222222222222222,\"#7201a8\"],[0.3333333333333333,\"#9c179e\"],[0.4444444444444444,\"#bd3786\"],[0.5555555555555556,\"#d8576b\"],[0.6666666666666666,\"#ed7953\"],[0.7777777777777778,\"#fb9f3a\"],[0.8888888888888888,\"#fdca26\"],[1.0,\"#f0f921\"]]}],\"surface\":[{\"type\":\"surface\",\"colorbar\":{\"outlinewidth\":0,\"ticks\":\"\"},\"colorscale\":[[0.0,\"#0d0887\"],[0.1111111111111111,\"#46039f\"],[0.2222222222222222,\"#7201a8\"],[0.3333333333333333,\"#9c179e\"],[0.4444444444444444,\"#bd3786\"],[0.5555555555555556,\"#d8576b\"],[0.6666666666666666,\"#ed7953\"],[0.7777777777777778,\"#fb9f3a\"],[0.8888888888888888,\"#fdca26\"],[1.0,\"#f0f921\"]]}],\"mesh3d\":[{\"type\":\"mesh3d\",\"colorbar\":{\"outlinewidth\":0,\"ticks\":\"\"}}],\"scatter\":[{\"fillpattern\":{\"fillmode\":\"overlay\",\"size\":10,\"solidity\":0.2},\"type\":\"scatter\"}],\"parcoords\":[{\"type\":\"parcoords\",\"line\":{\"colorbar\":{\"outlinewidth\":0,\"ticks\":\"\"}}}],\"scatterpolargl\":[{\"type\":\"scatterpolargl\",\"marker\":{\"colorbar\":{\"outlinewidth\":0,\"ticks\":\"\"}}}],\"bar\":[{\"error_x\":{\"color\":\"#2a3f5f\"},\"error_y\":{\"color\":\"#2a3f5f\"},\"marker\":{\"line\":{\"color\":\"#E5ECF6\",\"width\":0.5},\"pattern\":{\"fillmode\":\"overlay\",\"size\":10,\"solidity\":0.2}},\"type\":\"bar\"}],\"scattergeo\":[{\"type\":\"scattergeo\",\"marker\":{\"colorbar\":{\"outlinewidth\":0,\"ticks\":\"\"}}}],\"scatterpolar\":[{\"type\":\"scatterpolar\",\"marker\":{\"colorbar\":{\"outlinewidth\":0,\"ticks\":\"\"}}}],\"histogram\":[{\"marker\":{\"pattern\":{\"fillmode\":\"overlay\",\"size\":10,\"solidity\":0.2}},\"type\":\"histogram\"}],\"scattergl\":[{\"type\":\"scattergl\",\"marker\":{\"colorbar\":{\"outlinewidth\":0,\"ticks\":\"\"}}}],\"scatter3d\":[{\"type\":\"scatter3d\",\"line\":{\"colorbar\":{\"outlinewidth\":0,\"ticks\":\"\"}},\"marker\":{\"colorbar\":{\"outlinewidth\":0,\"ticks\":\"\"}}}],\"scattermapbox\":[{\"type\":\"scattermapbox\",\"marker\":{\"colorbar\":{\"outlinewidth\":0,\"ticks\":\"\"}}}],\"scatterternary\":[{\"type\":\"scatterternary\",\"marker\":{\"colorbar\":{\"outlinewidth\":0,\"ticks\":\"\"}}}],\"scattercarpet\":[{\"type\":\"scattercarpet\",\"marker\":{\"colorbar\":{\"outlinewidth\":0,\"ticks\":\"\"}}}],\"carpet\":[{\"aaxis\":{\"endlinecolor\":\"#2a3f5f\",\"gridcolor\":\"white\",\"linecolor\":\"white\",\"minorgridcolor\":\"white\",\"startlinecolor\":\"#2a3f5f\"},\"baxis\":{\"endlinecolor\":\"#2a3f5f\",\"gridcolor\":\"white\",\"linecolor\":\"white\",\"minorgridcolor\":\"white\",\"startlinecolor\":\"#2a3f5f\"},\"type\":\"carpet\"}],\"table\":[{\"cells\":{\"fill\":{\"color\":\"#EBF0F8\"},\"line\":{\"color\":\"white\"}},\"header\":{\"fill\":{\"color\":\"#C8D4E3\"},\"line\":{\"color\":\"white\"}},\"type\":\"table\"}],\"barpolar\":[{\"marker\":{\"line\":{\"color\":\"#E5ECF6\",\"width\":0.5},\"pattern\":{\"fillmode\":\"overlay\",\"size\":10,\"solidity\":0.2}},\"type\":\"barpolar\"}],\"pie\":[{\"automargin\":true,\"type\":\"pie\"}]},\"layout\":{\"autotypenumbers\":\"strict\",\"colorway\":[\"#636efa\",\"#EF553B\",\"#00cc96\",\"#ab63fa\",\"#FFA15A\",\"#19d3f3\",\"#FF6692\",\"#B6E880\",\"#FF97FF\",\"#FECB52\"],\"font\":{\"color\":\"#2a3f5f\"},\"hovermode\":\"closest\",\"hoverlabel\":{\"align\":\"left\"},\"paper_bgcolor\":\"white\",\"plot_bgcolor\":\"#E5ECF6\",\"polar\":{\"bgcolor\":\"#E5ECF6\",\"angularaxis\":{\"gridcolor\":\"white\",\"linecolor\":\"white\",\"ticks\":\"\"},\"radialaxis\":{\"gridcolor\":\"white\",\"linecolor\":\"white\",\"ticks\":\"\"}},\"ternary\":{\"bgcolor\":\"#E5ECF6\",\"aaxis\":{\"gridcolor\":\"white\",\"linecolor\":\"white\",\"ticks\":\"\"},\"baxis\":{\"gridcolor\":\"white\",\"linecolor\":\"white\",\"ticks\":\"\"},\"caxis\":{\"gridcolor\":\"white\",\"linecolor\":\"white\",\"ticks\":\"\"}},\"coloraxis\":{\"colorbar\":{\"outlinewidth\":0,\"ticks\":\"\"}},\"colorscale\":{\"sequential\":[[0.0,\"#0d0887\"],[0.1111111111111111,\"#46039f\"],[0.2222222222222222,\"#7201a8\"],[0.3333333333333333,\"#9c179e\"],[0.4444444444444444,\"#bd3786\"],[0.5555555555555556,\"#d8576b\"],[0.6666666666666666,\"#ed7953\"],[0.7777777777777778,\"#fb9f3a\"],[0.8888888888888888,\"#fdca26\"],[1.0,\"#f0f921\"]],\"sequentialminus\":[[0.0,\"#0d0887\"],[0.1111111111111111,\"#46039f\"],[0.2222222222222222,\"#7201a8\"],[0.3333333333333333,\"#9c179e\"],[0.4444444444444444,\"#bd3786\"],[0.5555555555555556,\"#d8576b\"],[0.6666666666666666,\"#ed7953\"],[0.7777777777777778,\"#fb9f3a\"],[0.8888888888888888,\"#fdca26\"],[1.0,\"#f0f921\"]],\"diverging\":[[0,\"#8e0152\"],[0.1,\"#c51b7d\"],[0.2,\"#de77ae\"],[0.3,\"#f1b6da\"],[0.4,\"#fde0ef\"],[0.5,\"#f7f7f7\"],[0.6,\"#e6f5d0\"],[0.7,\"#b8e186\"],[0.8,\"#7fbc41\"],[0.9,\"#4d9221\"],[1,\"#276419\"]]},\"xaxis\":{\"gridcolor\":\"white\",\"linecolor\":\"white\",\"ticks\":\"\",\"title\":{\"standoff\":15},\"zerolinecolor\":\"white\",\"automargin\":true,\"zerolinewidth\":2},\"yaxis\":{\"gridcolor\":\"white\",\"linecolor\":\"white\",\"ticks\":\"\",\"title\":{\"standoff\":15},\"zerolinecolor\":\"white\",\"automargin\":true,\"zerolinewidth\":2},\"scene\":{\"xaxis\":{\"backgroundcolor\":\"#E5ECF6\",\"gridcolor\":\"white\",\"linecolor\":\"white\",\"showbackground\":true,\"ticks\":\"\",\"zerolinecolor\":\"white\",\"gridwidth\":2},\"yaxis\":{\"backgroundcolor\":\"#E5ECF6\",\"gridcolor\":\"white\",\"linecolor\":\"white\",\"showbackground\":true,\"ticks\":\"\",\"zerolinecolor\":\"white\",\"gridwidth\":2},\"zaxis\":{\"backgroundcolor\":\"#E5ECF6\",\"gridcolor\":\"white\",\"linecolor\":\"white\",\"showbackground\":true,\"ticks\":\"\",\"zerolinecolor\":\"white\",\"gridwidth\":2}},\"shapedefaults\":{\"line\":{\"color\":\"#2a3f5f\"}},\"annotationdefaults\":{\"arrowcolor\":\"#2a3f5f\",\"arrowhead\":0,\"arrowwidth\":1},\"geo\":{\"bgcolor\":\"white\",\"landcolor\":\"#E5ECF6\",\"subunitcolor\":\"white\",\"showland\":true,\"showlakes\":true,\"lakecolor\":\"white\"},\"title\":{\"x\":0.05},\"mapbox\":{\"style\":\"light\"}}},\"xaxis\":{\"anchor\":\"y\",\"domain\":[0.0,1.0],\"title\":{\"text\":\"x\"}},\"yaxis\":{\"anchor\":\"x\",\"domain\":[0.0,1.0],\"title\":{\"text\":\"y\"}},\"legend\":{\"title\":{\"text\":\"group\"},\"tracegroupgap\":0},\"margin\":{\"t\":60}},                        {\"responsive\": true}                    ).then(function(){\n",
              "                            \n",
              "var gd = document.getElementById('0d9fcc1f-bdde-4378-8553-b195ecc2bbd3');\n",
              "var x = new MutationObserver(function (mutations, observer) {{\n",
              "        var display = window.getComputedStyle(gd).display;\n",
              "        if (!display || display === 'none') {{\n",
              "            console.log([gd, 'removed!']);\n",
              "            Plotly.purge(gd);\n",
              "            observer.disconnect();\n",
              "        }}\n",
              "}});\n",
              "\n",
              "// Listen for the removal of the full notebook cells\n",
              "var notebookContainer = gd.closest('#notebook-container');\n",
              "if (notebookContainer) {{\n",
              "    x.observe(notebookContainer, {childList: true});\n",
              "}}\n",
              "\n",
              "// Listen for the clearing of the current output cell\n",
              "var outputEl = gd.closest('.output');\n",
              "if (outputEl) {{\n",
              "    x.observe(outputEl, {childList: true});\n",
              "}}\n",
              "\n",
              "                        })                };                            </script>        </div>\n",
              "</body>\n",
              "</html>"
            ]
          },
          "metadata": {}
        }
      ]
    },
    {
      "cell_type": "code",
      "source": [
        "# display_pca_scatterplot_groups_of_five(model, word_list)"
      ],
      "metadata": {
        "id": "eQ2PvEZQdvFg"
      },
      "id": "eQ2PvEZQdvFg",
      "execution_count": 81,
      "outputs": []
    },
    {
      "cell_type": "code",
      "source": [
        "#altered code for groups of 5_smaller\n",
        "def display_pca_scatterplot_groups_of_five_smaller(model, words=None, sample=0):\n",
        "  if len(words) < 30:\n",
        "    print(\"WARNING: For your report, please select more than 30 word samples for the visualization\")\n",
        "    print(f\"Current length of input word list: {len(words)}\")\n",
        "\n",
        "  word_vectors = np.array([model[w] for w in words])\n",
        "  twodim = PCA().fit_transform(word_vectors)[:,:2]\n",
        "\n",
        "  # Create a DataFrame for visualization with Plotly\n",
        "  import pandas as pd\n",
        "  df = pd.DataFrame(twodim, columns=['x', 'y'])\n",
        "  df['word'] = words\n",
        "  df['group'] = ['lover'] * 5 + ['reputation'] * 5 + ['midnights'] * 5 #assign groups of 5\n",
        "\n",
        "  # Plot the scatterplot with different colors for each group\n",
        "  fig = px.scatter(df, x='x', y='y', text='word', color='group')\n",
        "  fig.update_traces(textposition='top center')\n",
        "  # fig.update_layout(xaxis_type='log')\n",
        "  # fig.update_layout(yaxis_type='log')\n",
        "  fig.show()"
      ],
      "metadata": {
        "id": "rLROFhAqecp4"
      },
      "id": "rLROFhAqecp4",
      "execution_count": 82,
      "outputs": []
    },
    {
      "cell_type": "code",
      "source": [
        "word_list = [\n",
        "  #lover era(5)\n",
        "  'lover', 'cornelia', 'cruel', 'london', 'death',\n",
        "  #reputation era\n",
        "  'delicate', 'end', 'blame', 'getaway', 'tied',\n",
        "  #midnights era\n",
        "  'karma', 'lavender', 'maroon', 'mastermind', 'midnight'\n",
        "]\n",
        "display_pca_scatterplot_groups_of_five_smaller(taylor_model, word_list)"
      ],
      "metadata": {
        "id": "aZMntSfaeQV_",
        "colab": {
          "base_uri": "https://localhost:8080/",
          "height": 578
        },
        "outputId": "0183f25c-fb03-4166-d426-9b1532f9578b"
      },
      "id": "aZMntSfaeQV_",
      "execution_count": 118,
      "outputs": [
        {
          "output_type": "stream",
          "name": "stdout",
          "text": [
            "WARNING: For your report, please select more than 30 word samples for the visualization\n",
            "Current length of input word list: 15\n"
          ]
        },
        {
          "output_type": "display_data",
          "data": {
            "text/html": [
              "<html>\n",
              "<head><meta charset=\"utf-8\" /></head>\n",
              "<body>\n",
              "    <div>            <script src=\"https://cdnjs.cloudflare.com/ajax/libs/mathjax/2.7.5/MathJax.js?config=TeX-AMS-MML_SVG\"></script><script type=\"text/javascript\">if (window.MathJax && window.MathJax.Hub && window.MathJax.Hub.Config) {window.MathJax.Hub.Config({SVG: {font: \"STIX-Web\"}});}</script>                <script type=\"text/javascript\">window.PlotlyConfig = {MathJaxConfig: 'local'};</script>\n",
              "        <script charset=\"utf-8\" src=\"https://cdn.plot.ly/plotly-2.24.1.min.js\"></script>                <div id=\"eabc7ca5-12da-4f8c-8839-7ab245f30813\" class=\"plotly-graph-div\" style=\"height:525px; width:100%;\"></div>            <script type=\"text/javascript\">                                    window.PLOTLYENV=window.PLOTLYENV || {};                                    if (document.getElementById(\"eabc7ca5-12da-4f8c-8839-7ab245f30813\")) {                    Plotly.newPlot(                        \"eabc7ca5-12da-4f8c-8839-7ab245f30813\",                        [{\"hovertemplate\":\"group=lover\\u003cbr\\u003ex=%{x}\\u003cbr\\u003ey=%{y}\\u003cbr\\u003eword=%{text}\\u003cextra\\u003e\\u003c\\u002fextra\\u003e\",\"legendgroup\":\"lover\",\"marker\":{\"color\":\"#636efa\",\"symbol\":\"circle\"},\"mode\":\"markers+text\",\"name\":\"lover\",\"orientation\":\"v\",\"showlegend\":true,\"text\":[\"lover\",\"cornelia\",\"cruel\",\"london\",\"death\"],\"x\":[-0.2491098940372467,-0.01764310896396637,-0.38856858015060425,-0.20103539526462555,-0.47620394825935364],\"xaxis\":\"x\",\"y\":[-0.29743003845214844,-1.1858339309692383,-0.3094058930873871,0.0252741277217865,-0.08368992060422897],\"yaxis\":\"y\",\"type\":\"scatter\",\"textposition\":\"top center\"},{\"hovertemplate\":\"group=reputation\\u003cbr\\u003ex=%{x}\\u003cbr\\u003ey=%{y}\\u003cbr\\u003eword=%{text}\\u003cextra\\u003e\\u003c\\u002fextra\\u003e\",\"legendgroup\":\"reputation\",\"marker\":{\"color\":\"#EF553B\",\"symbol\":\"circle\"},\"mode\":\"markers+text\",\"name\":\"reputation\",\"orientation\":\"v\",\"showlegend\":true,\"text\":[\"delicate\",\"end\",\"blame\",\"getaway\",\"tied\"],\"x\":[-0.29097163677215576,0.6777725219726562,-0.07349875569343567,-0.24582116305828094,-0.320921927690506],\"xaxis\":\"x\",\"y\":[-0.19337214529514313,0.7173218131065369,-0.10986468195915222,-0.20161056518554688,-0.48154735565185547],\"yaxis\":\"y\",\"type\":\"scatter\",\"textposition\":\"top center\"},{\"hovertemplate\":\"group=midnights\\u003cbr\\u003ex=%{x}\\u003cbr\\u003ey=%{y}\\u003cbr\\u003eword=%{text}\\u003cextra\\u003e\\u003c\\u002fextra\\u003e\",\"legendgroup\":\"midnights\",\"marker\":{\"color\":\"#00cc96\",\"symbol\":\"circle\"},\"mode\":\"markers+text\",\"name\":\"midnights\",\"orientation\":\"v\",\"showlegend\":true,\"text\":[\"karma\",\"lavender\",\"maroon\",\"mastermind\",\"midnight\"],\"x\":[-0.49956005811691284,3.0947630405426025,-0.544804036617279,-0.2901144325733185,-0.1742829978466034],\"xaxis\":\"x\",\"y\":[2.5911941528320312,-0.004782529082149267,-0.5746582746505737,-0.09016257524490356,0.19856798648834229],\"yaxis\":\"y\",\"type\":\"scatter\",\"textposition\":\"top center\"}],                        {\"template\":{\"data\":{\"histogram2dcontour\":[{\"type\":\"histogram2dcontour\",\"colorbar\":{\"outlinewidth\":0,\"ticks\":\"\"},\"colorscale\":[[0.0,\"#0d0887\"],[0.1111111111111111,\"#46039f\"],[0.2222222222222222,\"#7201a8\"],[0.3333333333333333,\"#9c179e\"],[0.4444444444444444,\"#bd3786\"],[0.5555555555555556,\"#d8576b\"],[0.6666666666666666,\"#ed7953\"],[0.7777777777777778,\"#fb9f3a\"],[0.8888888888888888,\"#fdca26\"],[1.0,\"#f0f921\"]]}],\"choropleth\":[{\"type\":\"choropleth\",\"colorbar\":{\"outlinewidth\":0,\"ticks\":\"\"}}],\"histogram2d\":[{\"type\":\"histogram2d\",\"colorbar\":{\"outlinewidth\":0,\"ticks\":\"\"},\"colorscale\":[[0.0,\"#0d0887\"],[0.1111111111111111,\"#46039f\"],[0.2222222222222222,\"#7201a8\"],[0.3333333333333333,\"#9c179e\"],[0.4444444444444444,\"#bd3786\"],[0.5555555555555556,\"#d8576b\"],[0.6666666666666666,\"#ed7953\"],[0.7777777777777778,\"#fb9f3a\"],[0.8888888888888888,\"#fdca26\"],[1.0,\"#f0f921\"]]}],\"heatmap\":[{\"type\":\"heatmap\",\"colorbar\":{\"outlinewidth\":0,\"ticks\":\"\"},\"colorscale\":[[0.0,\"#0d0887\"],[0.1111111111111111,\"#46039f\"],[0.2222222222222222,\"#7201a8\"],[0.3333333333333333,\"#9c179e\"],[0.4444444444444444,\"#bd3786\"],[0.5555555555555556,\"#d8576b\"],[0.6666666666666666,\"#ed7953\"],[0.7777777777777778,\"#fb9f3a\"],[0.8888888888888888,\"#fdca26\"],[1.0,\"#f0f921\"]]}],\"heatmapgl\":[{\"type\":\"heatmapgl\",\"colorbar\":{\"outlinewidth\":0,\"ticks\":\"\"},\"colorscale\":[[0.0,\"#0d0887\"],[0.1111111111111111,\"#46039f\"],[0.2222222222222222,\"#7201a8\"],[0.3333333333333333,\"#9c179e\"],[0.4444444444444444,\"#bd3786\"],[0.5555555555555556,\"#d8576b\"],[0.6666666666666666,\"#ed7953\"],[0.7777777777777778,\"#fb9f3a\"],[0.8888888888888888,\"#fdca26\"],[1.0,\"#f0f921\"]]}],\"contourcarpet\":[{\"type\":\"contourcarpet\",\"colorbar\":{\"outlinewidth\":0,\"ticks\":\"\"}}],\"contour\":[{\"type\":\"contour\",\"colorbar\":{\"outlinewidth\":0,\"ticks\":\"\"},\"colorscale\":[[0.0,\"#0d0887\"],[0.1111111111111111,\"#46039f\"],[0.2222222222222222,\"#7201a8\"],[0.3333333333333333,\"#9c179e\"],[0.4444444444444444,\"#bd3786\"],[0.5555555555555556,\"#d8576b\"],[0.6666666666666666,\"#ed7953\"],[0.7777777777777778,\"#fb9f3a\"],[0.8888888888888888,\"#fdca26\"],[1.0,\"#f0f921\"]]}],\"surface\":[{\"type\":\"surface\",\"colorbar\":{\"outlinewidth\":0,\"ticks\":\"\"},\"colorscale\":[[0.0,\"#0d0887\"],[0.1111111111111111,\"#46039f\"],[0.2222222222222222,\"#7201a8\"],[0.3333333333333333,\"#9c179e\"],[0.4444444444444444,\"#bd3786\"],[0.5555555555555556,\"#d8576b\"],[0.6666666666666666,\"#ed7953\"],[0.7777777777777778,\"#fb9f3a\"],[0.8888888888888888,\"#fdca26\"],[1.0,\"#f0f921\"]]}],\"mesh3d\":[{\"type\":\"mesh3d\",\"colorbar\":{\"outlinewidth\":0,\"ticks\":\"\"}}],\"scatter\":[{\"fillpattern\":{\"fillmode\":\"overlay\",\"size\":10,\"solidity\":0.2},\"type\":\"scatter\"}],\"parcoords\":[{\"type\":\"parcoords\",\"line\":{\"colorbar\":{\"outlinewidth\":0,\"ticks\":\"\"}}}],\"scatterpolargl\":[{\"type\":\"scatterpolargl\",\"marker\":{\"colorbar\":{\"outlinewidth\":0,\"ticks\":\"\"}}}],\"bar\":[{\"error_x\":{\"color\":\"#2a3f5f\"},\"error_y\":{\"color\":\"#2a3f5f\"},\"marker\":{\"line\":{\"color\":\"#E5ECF6\",\"width\":0.5},\"pattern\":{\"fillmode\":\"overlay\",\"size\":10,\"solidity\":0.2}},\"type\":\"bar\"}],\"scattergeo\":[{\"type\":\"scattergeo\",\"marker\":{\"colorbar\":{\"outlinewidth\":0,\"ticks\":\"\"}}}],\"scatterpolar\":[{\"type\":\"scatterpolar\",\"marker\":{\"colorbar\":{\"outlinewidth\":0,\"ticks\":\"\"}}}],\"histogram\":[{\"marker\":{\"pattern\":{\"fillmode\":\"overlay\",\"size\":10,\"solidity\":0.2}},\"type\":\"histogram\"}],\"scattergl\":[{\"type\":\"scattergl\",\"marker\":{\"colorbar\":{\"outlinewidth\":0,\"ticks\":\"\"}}}],\"scatter3d\":[{\"type\":\"scatter3d\",\"line\":{\"colorbar\":{\"outlinewidth\":0,\"ticks\":\"\"}},\"marker\":{\"colorbar\":{\"outlinewidth\":0,\"ticks\":\"\"}}}],\"scattermapbox\":[{\"type\":\"scattermapbox\",\"marker\":{\"colorbar\":{\"outlinewidth\":0,\"ticks\":\"\"}}}],\"scatterternary\":[{\"type\":\"scatterternary\",\"marker\":{\"colorbar\":{\"outlinewidth\":0,\"ticks\":\"\"}}}],\"scattercarpet\":[{\"type\":\"scattercarpet\",\"marker\":{\"colorbar\":{\"outlinewidth\":0,\"ticks\":\"\"}}}],\"carpet\":[{\"aaxis\":{\"endlinecolor\":\"#2a3f5f\",\"gridcolor\":\"white\",\"linecolor\":\"white\",\"minorgridcolor\":\"white\",\"startlinecolor\":\"#2a3f5f\"},\"baxis\":{\"endlinecolor\":\"#2a3f5f\",\"gridcolor\":\"white\",\"linecolor\":\"white\",\"minorgridcolor\":\"white\",\"startlinecolor\":\"#2a3f5f\"},\"type\":\"carpet\"}],\"table\":[{\"cells\":{\"fill\":{\"color\":\"#EBF0F8\"},\"line\":{\"color\":\"white\"}},\"header\":{\"fill\":{\"color\":\"#C8D4E3\"},\"line\":{\"color\":\"white\"}},\"type\":\"table\"}],\"barpolar\":[{\"marker\":{\"line\":{\"color\":\"#E5ECF6\",\"width\":0.5},\"pattern\":{\"fillmode\":\"overlay\",\"size\":10,\"solidity\":0.2}},\"type\":\"barpolar\"}],\"pie\":[{\"automargin\":true,\"type\":\"pie\"}]},\"layout\":{\"autotypenumbers\":\"strict\",\"colorway\":[\"#636efa\",\"#EF553B\",\"#00cc96\",\"#ab63fa\",\"#FFA15A\",\"#19d3f3\",\"#FF6692\",\"#B6E880\",\"#FF97FF\",\"#FECB52\"],\"font\":{\"color\":\"#2a3f5f\"},\"hovermode\":\"closest\",\"hoverlabel\":{\"align\":\"left\"},\"paper_bgcolor\":\"white\",\"plot_bgcolor\":\"#E5ECF6\",\"polar\":{\"bgcolor\":\"#E5ECF6\",\"angularaxis\":{\"gridcolor\":\"white\",\"linecolor\":\"white\",\"ticks\":\"\"},\"radialaxis\":{\"gridcolor\":\"white\",\"linecolor\":\"white\",\"ticks\":\"\"}},\"ternary\":{\"bgcolor\":\"#E5ECF6\",\"aaxis\":{\"gridcolor\":\"white\",\"linecolor\":\"white\",\"ticks\":\"\"},\"baxis\":{\"gridcolor\":\"white\",\"linecolor\":\"white\",\"ticks\":\"\"},\"caxis\":{\"gridcolor\":\"white\",\"linecolor\":\"white\",\"ticks\":\"\"}},\"coloraxis\":{\"colorbar\":{\"outlinewidth\":0,\"ticks\":\"\"}},\"colorscale\":{\"sequential\":[[0.0,\"#0d0887\"],[0.1111111111111111,\"#46039f\"],[0.2222222222222222,\"#7201a8\"],[0.3333333333333333,\"#9c179e\"],[0.4444444444444444,\"#bd3786\"],[0.5555555555555556,\"#d8576b\"],[0.6666666666666666,\"#ed7953\"],[0.7777777777777778,\"#fb9f3a\"],[0.8888888888888888,\"#fdca26\"],[1.0,\"#f0f921\"]],\"sequentialminus\":[[0.0,\"#0d0887\"],[0.1111111111111111,\"#46039f\"],[0.2222222222222222,\"#7201a8\"],[0.3333333333333333,\"#9c179e\"],[0.4444444444444444,\"#bd3786\"],[0.5555555555555556,\"#d8576b\"],[0.6666666666666666,\"#ed7953\"],[0.7777777777777778,\"#fb9f3a\"],[0.8888888888888888,\"#fdca26\"],[1.0,\"#f0f921\"]],\"diverging\":[[0,\"#8e0152\"],[0.1,\"#c51b7d\"],[0.2,\"#de77ae\"],[0.3,\"#f1b6da\"],[0.4,\"#fde0ef\"],[0.5,\"#f7f7f7\"],[0.6,\"#e6f5d0\"],[0.7,\"#b8e186\"],[0.8,\"#7fbc41\"],[0.9,\"#4d9221\"],[1,\"#276419\"]]},\"xaxis\":{\"gridcolor\":\"white\",\"linecolor\":\"white\",\"ticks\":\"\",\"title\":{\"standoff\":15},\"zerolinecolor\":\"white\",\"automargin\":true,\"zerolinewidth\":2},\"yaxis\":{\"gridcolor\":\"white\",\"linecolor\":\"white\",\"ticks\":\"\",\"title\":{\"standoff\":15},\"zerolinecolor\":\"white\",\"automargin\":true,\"zerolinewidth\":2},\"scene\":{\"xaxis\":{\"backgroundcolor\":\"#E5ECF6\",\"gridcolor\":\"white\",\"linecolor\":\"white\",\"showbackground\":true,\"ticks\":\"\",\"zerolinecolor\":\"white\",\"gridwidth\":2},\"yaxis\":{\"backgroundcolor\":\"#E5ECF6\",\"gridcolor\":\"white\",\"linecolor\":\"white\",\"showbackground\":true,\"ticks\":\"\",\"zerolinecolor\":\"white\",\"gridwidth\":2},\"zaxis\":{\"backgroundcolor\":\"#E5ECF6\",\"gridcolor\":\"white\",\"linecolor\":\"white\",\"showbackground\":true,\"ticks\":\"\",\"zerolinecolor\":\"white\",\"gridwidth\":2}},\"shapedefaults\":{\"line\":{\"color\":\"#2a3f5f\"}},\"annotationdefaults\":{\"arrowcolor\":\"#2a3f5f\",\"arrowhead\":0,\"arrowwidth\":1},\"geo\":{\"bgcolor\":\"white\",\"landcolor\":\"#E5ECF6\",\"subunitcolor\":\"white\",\"showland\":true,\"showlakes\":true,\"lakecolor\":\"white\"},\"title\":{\"x\":0.05},\"mapbox\":{\"style\":\"light\"}}},\"xaxis\":{\"anchor\":\"y\",\"domain\":[0.0,1.0],\"title\":{\"text\":\"x\"}},\"yaxis\":{\"anchor\":\"x\",\"domain\":[0.0,1.0],\"title\":{\"text\":\"y\"}},\"legend\":{\"title\":{\"text\":\"group\"},\"tracegroupgap\":0},\"margin\":{\"t\":60}},                        {\"responsive\": true}                    ).then(function(){\n",
              "                            \n",
              "var gd = document.getElementById('eabc7ca5-12da-4f8c-8839-7ab245f30813');\n",
              "var x = new MutationObserver(function (mutations, observer) {{\n",
              "        var display = window.getComputedStyle(gd).display;\n",
              "        if (!display || display === 'none') {{\n",
              "            console.log([gd, 'removed!']);\n",
              "            Plotly.purge(gd);\n",
              "            observer.disconnect();\n",
              "        }}\n",
              "}});\n",
              "\n",
              "// Listen for the removal of the full notebook cells\n",
              "var notebookContainer = gd.closest('#notebook-container');\n",
              "if (notebookContainer) {{\n",
              "    x.observe(notebookContainer, {childList: true});\n",
              "}}\n",
              "\n",
              "// Listen for the clearing of the current output cell\n",
              "var outputEl = gd.closest('.output');\n",
              "if (outputEl) {{\n",
              "    x.observe(outputEl, {childList: true});\n",
              "}}\n",
              "\n",
              "                        })                };                            </script>        </div>\n",
              "</body>\n",
              "</html>"
            ]
          },
          "metadata": {}
        }
      ]
    },
    {
      "cell_type": "code",
      "source": [
        "word_list = [\n",
        "  # fearless album\n",
        "  'breathe', 'fearless', 'stephen', 'romeo', 'belong',\n",
        "  # speak now album\n",
        "  'enchanted', 'december', 'john', 'innocent', 'now',\n",
        "  # red album\n",
        "  'red', 'well', 'twenty', 'trouble', 'stay',\n",
        "]\n",
        "# display_pca_scatterplot_groups_of_five_smaller(taylor_model, word_list)"
      ],
      "metadata": {
        "id": "BOU4IaoNRjym"
      },
      "id": "BOU4IaoNRjym",
      "execution_count": 84,
      "outputs": []
    }
  ],
  "metadata": {
    "colab": {
      "provenance": []
    },
    "kernelspec": {
      "display_name": "Python 3 (ipykernel)",
      "language": "python",
      "name": "python3"
    },
    "language_info": {
      "codemirror_mode": {
        "name": "ipython",
        "version": 3
      },
      "file_extension": ".py",
      "mimetype": "text/x-python",
      "name": "python",
      "nbconvert_exporter": "python",
      "pygments_lexer": "ipython3",
      "version": "3.8.13"
    }
  },
  "nbformat": 4,
  "nbformat_minor": 5
}